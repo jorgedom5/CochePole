{
 "cells": [
  {
   "cell_type": "code",
   "execution_count": 1,
   "metadata": {},
   "outputs": [],
   "source": [
    "import pandas as pd\n",
    "import numpy as np\n",
    "import matplotlib.pyplot as plt\n",
    "from google.cloud import bigquery\n",
    "import plotly.express as px\n",
    "import plotly.graph_objects as go\n",
    "import seaborn as sns"
   ]
  },
  {
   "cell_type": "code",
   "execution_count": 2,
   "metadata": {},
   "outputs": [
    {
     "data": {
      "text/plain": [
       "cliente_id                         Int64\n",
       "rating                           float64\n",
       "metodo_pago                       object\n",
       "pago_viaje                       float64\n",
       "viaje_id                           Int64\n",
       "vehiculo_id                        Int64\n",
       "latitud                          float64\n",
       "longitud                         float64\n",
       "latitud_final                    float64\n",
       "longitud_final                   float64\n",
       "timestamp            datetime64[ns, UTC]\n",
       "nombre_conductor                  object\n",
       "marca_coche                       object\n",
       "color_coche                       object\n",
       "anio_fabricacion                   Int64\n",
       "tipo_combustible                  object\n",
       "tiene_calefaccion                boolean\n",
       "puntos_carnet                      Int64\n",
       "cilindraje_motor                   Int64\n",
       "kilometraje                        Int64\n",
       "anio_registro_app                  Int64\n",
       "nombre_cliente                    object\n",
       "apellido_cliente                  object\n",
       "edad_cliente                       Int64\n",
       "genero_cliente                    object\n",
       "direccion_cliente                 object\n",
       "trabajo_cliente                   object\n",
       "fecha_registro            datetime64[ns]\n",
       "dtype: object"
      ]
     },
     "execution_count": 2,
     "metadata": {},
     "output_type": "execute_result"
    }
   ],
   "source": [
    "client = bigquery.Client(project='dataproject-2-413010')\n",
    "\n",
    "## QUERY\n",
    "\n",
    "query_df = \"\"\"\n",
    "SELECT p.*, \n",
    "v.nombre_conductor, v.marca_coche, v.color_coche, v.anio_fabricacion, \n",
    "v.tipo_combustible, v.tiene_calefaccion, v.puntos_carnet, v.cilindraje_motor, v.kilometraje, v.anio_registro_app,\n",
    "c.nombre_cliente, c.apellido_cliente, c.edad_cliente, c.genero_cliente,\n",
    "c.direccion_cliente, c.trabajo_cliente, c.fecha_registro,\n",
    "FROM dataproject-2-413010.BBDD.CochePole_BD p\n",
    "left join dataproject-2-413010.BBDD.tabla_vehiculos v on p.vehiculo_id = v.vehiculo_id\n",
    "left join dataproject-2-413010.BBDD.tabla_clientes c on p.cliente_id = c.cliente_id\n",
    "\"\"\"\n",
    "\n",
    "df = client.query(query_df).to_dataframe()\n",
    "\n",
    "df.dtypes"
   ]
  },
  {
   "cell_type": "code",
   "execution_count": 3,
   "metadata": {},
   "outputs": [
    {
     "data": {
      "text/html": [
       "<div>\n",
       "<style scoped>\n",
       "    .dataframe tbody tr th:only-of-type {\n",
       "        vertical-align: middle;\n",
       "    }\n",
       "\n",
       "    .dataframe tbody tr th {\n",
       "        vertical-align: top;\n",
       "    }\n",
       "\n",
       "    .dataframe thead th {\n",
       "        text-align: right;\n",
       "    }\n",
       "</style>\n",
       "<table border=\"1\" class=\"dataframe\">\n",
       "  <thead>\n",
       "    <tr style=\"text-align: right;\">\n",
       "      <th></th>\n",
       "      <th>cliente_id</th>\n",
       "      <th>rating</th>\n",
       "      <th>metodo_pago</th>\n",
       "      <th>pago_viaje</th>\n",
       "      <th>viaje_id</th>\n",
       "      <th>vehiculo_id</th>\n",
       "      <th>latitud</th>\n",
       "      <th>longitud</th>\n",
       "      <th>latitud_final</th>\n",
       "      <th>longitud_final</th>\n",
       "      <th>timestamp</th>\n",
       "      <th>nombre_conductor</th>\n",
       "      <th>marca_coche</th>\n",
       "      <th>color_coche</th>\n",
       "      <th>anio_fabricacion</th>\n",
       "      <th>tipo_combustible</th>\n",
       "      <th>tiene_calefaccion</th>\n",
       "      <th>puntos_carnet</th>\n",
       "      <th>cilindraje_motor</th>\n",
       "      <th>kilometraje</th>\n",
       "      <th>anio_registro_app</th>\n",
       "      <th>nombre_cliente</th>\n",
       "      <th>apellido_cliente</th>\n",
       "      <th>edad_cliente</th>\n",
       "      <th>genero_cliente</th>\n",
       "      <th>direccion_cliente</th>\n",
       "      <th>trabajo_cliente</th>\n",
       "      <th>fecha_registro</th>\n",
       "    </tr>\n",
       "  </thead>\n",
       "  <tbody>\n",
       "    <tr>\n",
       "      <th>0</th>\n",
       "      <td>83390</td>\n",
       "      <td>9.0</td>\n",
       "      <td>Efectivo</td>\n",
       "      <td>1.970438</td>\n",
       "      <td>2</td>\n",
       "      <td>387</td>\n",
       "      <td>39.47851</td>\n",
       "      <td>-0.40781</td>\n",
       "      <td>39.47117</td>\n",
       "      <td>-0.38696</td>\n",
       "      <td>2024-02-18 00:35:47.091378+00:00</td>\n",
       "      <td>Iker Guitart</td>\n",
       "      <td>Mazda</td>\n",
       "      <td>Amarillo claro</td>\n",
       "      <td>2011</td>\n",
       "      <td>Gasolina</td>\n",
       "      <td>True</td>\n",
       "      <td>10</td>\n",
       "      <td>1800</td>\n",
       "      <td>173715</td>\n",
       "      <td>2015</td>\n",
       "      <td>Simon</td>\n",
       "      <td>Neira</td>\n",
       "      <td>20</td>\n",
       "      <td>hombre</td>\n",
       "      <td>Avenida Aureliano Abril 32 Piso 8 \\nMadrid, 37209</td>\n",
       "      <td>Conductor de camiones pesados</td>\n",
       "      <td>2023-09-28</td>\n",
       "    </tr>\n",
       "    <tr>\n",
       "      <th>1</th>\n",
       "      <td>69340</td>\n",
       "      <td>9.0</td>\n",
       "      <td>Tarjeta</td>\n",
       "      <td>5.150495</td>\n",
       "      <td>28</td>\n",
       "      <td>934</td>\n",
       "      <td>39.44421</td>\n",
       "      <td>-0.37589</td>\n",
       "      <td>39.49002</td>\n",
       "      <td>-0.38533</td>\n",
       "      <td>2024-02-18 00:35:47.092015+00:00</td>\n",
       "      <td>Joaquina Carnero Naranjo</td>\n",
       "      <td>Chevrolet</td>\n",
       "      <td>Azul</td>\n",
       "      <td>2020</td>\n",
       "      <td>Gasolina</td>\n",
       "      <td>True</td>\n",
       "      <td>11</td>\n",
       "      <td>2200</td>\n",
       "      <td>46733</td>\n",
       "      <td>2021</td>\n",
       "      <td>Baudelio</td>\n",
       "      <td>Arnau</td>\n",
       "      <td>48</td>\n",
       "      <td>hombre</td>\n",
       "      <td>Acceso de Clmaco Amaya 42\\nZaragoza, 30956</td>\n",
       "      <td>Mecánico y reparador en electrónica</td>\n",
       "      <td>2023-04-15</td>\n",
       "    </tr>\n",
       "    <tr>\n",
       "      <th>2</th>\n",
       "      <td>51787</td>\n",
       "      <td>6.0</td>\n",
       "      <td>Tarjeta</td>\n",
       "      <td>3.036428</td>\n",
       "      <td>11</td>\n",
       "      <td>880</td>\n",
       "      <td>39.47888</td>\n",
       "      <td>-0.36348</td>\n",
       "      <td>39.45250</td>\n",
       "      <td>-0.35417</td>\n",
       "      <td>2024-02-18 00:35:47.092554+00:00</td>\n",
       "      <td>Elodia Borrego Garcés</td>\n",
       "      <td>Volkswagen</td>\n",
       "      <td>Negro</td>\n",
       "      <td>2005</td>\n",
       "      <td>Gasolina</td>\n",
       "      <td>True</td>\n",
       "      <td>7</td>\n",
       "      <td>1600</td>\n",
       "      <td>252463</td>\n",
       "      <td>2022</td>\n",
       "      <td>Ruben</td>\n",
       "      <td>Portero</td>\n",
       "      <td>32</td>\n",
       "      <td>hombre</td>\n",
       "      <td>Pasaje de Fidela Barcel 52 Puerta 7 \\nAlicante...</td>\n",
       "      <td>Empleado de servicios de correos</td>\n",
       "      <td>2023-06-25</td>\n",
       "    </tr>\n",
       "    <tr>\n",
       "      <th>3</th>\n",
       "      <td>87226</td>\n",
       "      <td>7.0</td>\n",
       "      <td>Tarjeta</td>\n",
       "      <td>4.398410</td>\n",
       "      <td>10</td>\n",
       "      <td>82</td>\n",
       "      <td>39.46191</td>\n",
       "      <td>-0.33057</td>\n",
       "      <td>39.46558</td>\n",
       "      <td>-0.38146</td>\n",
       "      <td>2024-02-18 00:37:34.563616+00:00</td>\n",
       "      <td>Alma Segarra</td>\n",
       "      <td>MINI</td>\n",
       "      <td>Turquesa oscuro</td>\n",
       "      <td>2022</td>\n",
       "      <td>Gasolina</td>\n",
       "      <td>False</td>\n",
       "      <td>13</td>\n",
       "      <td>1400</td>\n",
       "      <td>14655</td>\n",
       "      <td>2023</td>\n",
       "      <td>Cristina</td>\n",
       "      <td>Cabrera</td>\n",
       "      <td>53</td>\n",
       "      <td>mujer</td>\n",
       "      <td>Cuesta de Sosimo Valbuena 7\\nCdiz, 23672</td>\n",
       "      <td>Conductor de vehículos accionados a pedal o a ...</td>\n",
       "      <td>2024-01-10</td>\n",
       "    </tr>\n",
       "    <tr>\n",
       "      <th>4</th>\n",
       "      <td>51315</td>\n",
       "      <td>7.0</td>\n",
       "      <td>Tarjeta</td>\n",
       "      <td>2.699485</td>\n",
       "      <td>25</td>\n",
       "      <td>124</td>\n",
       "      <td>39.49956</td>\n",
       "      <td>-0.40793</td>\n",
       "      <td>39.47662</td>\n",
       "      <td>-0.41833</td>\n",
       "      <td>2024-02-18 00:38:03.907670+00:00</td>\n",
       "      <td>Andrés Felipe Lopez Boada</td>\n",
       "      <td>Chevrolet</td>\n",
       "      <td>Marrón</td>\n",
       "      <td>2022</td>\n",
       "      <td>Gasolina</td>\n",
       "      <td>False</td>\n",
       "      <td>4</td>\n",
       "      <td>2200</td>\n",
       "      <td>17147</td>\n",
       "      <td>2022</td>\n",
       "      <td>Gaston</td>\n",
       "      <td>Pardo</td>\n",
       "      <td>36</td>\n",
       "      <td>hombre</td>\n",
       "      <td>Camino Ana Sofa Abad 138\\nBaleares, 25553</td>\n",
       "      <td>Secretario administrativo</td>\n",
       "      <td>2023-07-15</td>\n",
       "    </tr>\n",
       "  </tbody>\n",
       "</table>\n",
       "</div>"
      ],
      "text/plain": [
       "   cliente_id  rating metodo_pago  pago_viaje  viaje_id  vehiculo_id  \\\n",
       "0       83390     9.0    Efectivo    1.970438         2          387   \n",
       "1       69340     9.0     Tarjeta    5.150495        28          934   \n",
       "2       51787     6.0     Tarjeta    3.036428        11          880   \n",
       "3       87226     7.0     Tarjeta    4.398410        10           82   \n",
       "4       51315     7.0     Tarjeta    2.699485        25          124   \n",
       "\n",
       "    latitud  longitud  latitud_final  longitud_final  \\\n",
       "0  39.47851  -0.40781       39.47117        -0.38696   \n",
       "1  39.44421  -0.37589       39.49002        -0.38533   \n",
       "2  39.47888  -0.36348       39.45250        -0.35417   \n",
       "3  39.46191  -0.33057       39.46558        -0.38146   \n",
       "4  39.49956  -0.40793       39.47662        -0.41833   \n",
       "\n",
       "                         timestamp           nombre_conductor marca_coche  \\\n",
       "0 2024-02-18 00:35:47.091378+00:00               Iker Guitart       Mazda   \n",
       "1 2024-02-18 00:35:47.092015+00:00   Joaquina Carnero Naranjo   Chevrolet   \n",
       "2 2024-02-18 00:35:47.092554+00:00      Elodia Borrego Garcés  Volkswagen   \n",
       "3 2024-02-18 00:37:34.563616+00:00               Alma Segarra        MINI   \n",
       "4 2024-02-18 00:38:03.907670+00:00  Andrés Felipe Lopez Boada   Chevrolet   \n",
       "\n",
       "       color_coche  anio_fabricacion tipo_combustible  tiene_calefaccion  \\\n",
       "0   Amarillo claro              2011         Gasolina               True   \n",
       "1             Azul              2020         Gasolina               True   \n",
       "2            Negro              2005         Gasolina               True   \n",
       "3  Turquesa oscuro              2022         Gasolina              False   \n",
       "4           Marrón              2022         Gasolina              False   \n",
       "\n",
       "   puntos_carnet  cilindraje_motor  kilometraje  anio_registro_app  \\\n",
       "0             10              1800       173715               2015   \n",
       "1             11              2200        46733               2021   \n",
       "2              7              1600       252463               2022   \n",
       "3             13              1400        14655               2023   \n",
       "4              4              2200        17147               2022   \n",
       "\n",
       "  nombre_cliente apellido_cliente  edad_cliente genero_cliente  \\\n",
       "0          Simon            Neira            20         hombre   \n",
       "1       Baudelio            Arnau            48         hombre   \n",
       "2          Ruben          Portero            32         hombre   \n",
       "3       Cristina          Cabrera            53          mujer   \n",
       "4         Gaston            Pardo            36         hombre   \n",
       "\n",
       "                                   direccion_cliente  \\\n",
       "0  Avenida Aureliano Abril 32 Piso 8 \\nMadrid, 37209   \n",
       "1         Acceso de Clmaco Amaya 42\\nZaragoza, 30956   \n",
       "2  Pasaje de Fidela Barcel 52 Puerta 7 \\nAlicante...   \n",
       "3           Cuesta de Sosimo Valbuena 7\\nCdiz, 23672   \n",
       "4          Camino Ana Sofa Abad 138\\nBaleares, 25553   \n",
       "\n",
       "                                     trabajo_cliente fecha_registro  \n",
       "0                      Conductor de camiones pesados     2023-09-28  \n",
       "1                Mecánico y reparador en electrónica     2023-04-15  \n",
       "2                   Empleado de servicios de correos     2023-06-25  \n",
       "3  Conductor de vehículos accionados a pedal o a ...     2024-01-10  \n",
       "4                          Secretario administrativo     2023-07-15  "
      ]
     },
     "execution_count": 3,
     "metadata": {},
     "output_type": "execute_result"
    }
   ],
   "source": [
    "pd.set_option('display.max_columns', None)\n",
    "\n",
    "df.head()"
   ]
  },
  {
   "cell_type": "code",
   "execution_count": 4,
   "metadata": {},
   "outputs": [],
   "source": [
    "from sklearn.model_selection import train_test_split, GridSearchCV\n",
    "from sklearn.impute import SimpleImputer\n",
    "from sklearn.preprocessing import StandardScaler, OneHotEncoder\n",
    "from sklearn.compose import ColumnTransformer\n",
    "from sklearn.pipeline import Pipeline\n",
    "from xgboost import XGBRegressor\n",
    "from sklearn.metrics import mean_squared_error"
   ]
  },
  {
   "cell_type": "code",
   "execution_count": 6,
   "metadata": {},
   "outputs": [
    {
     "name": "stdout",
     "output_type": "stream",
     "text": [
      "Mean Squared Error: 0.06109576840930155\n"
     ]
    }
   ],
   "source": [
    "columns_to_drop = ['pago_viaje', 'cliente_id', 'longitud', 'latitud', 'vehiculo_id', 'nombre_cliente', 'apellido_cliente', 'nombre_conductor', 'direccion_cliente']\n",
    "X = df.drop(columns=columns_to_drop, axis=1)\n",
    "y = df['pago_viaje']\n",
    "\n",
    "# Dividir el conjunto de datos en entrenamiento y prueba\n",
    "X_train, X_test, y_train, y_test = train_test_split(X, y, test_size=0.2, random_state=42)\n",
    "\n",
    "# Seleccionar las columnas numéricas, categóricas y booleanas\n",
    "numeric_features = X.select_dtypes(include=['int64', 'float64']).columns\n",
    "categorical_features = X.select_dtypes(include=['object']).columns\n",
    "boolean_features = X.select_dtypes(include=['boolean']).columns\n",
    "\n",
    "# Crear transformadores para variables numéricas, categóricas y booleanas\n",
    "numeric_transformer = Pipeline(steps=[\n",
    "    ('imputer', SimpleImputer(strategy='mean')),\n",
    "    ('scaler', StandardScaler())\n",
    "])\n",
    "\n",
    "categorical_transformer = Pipeline(steps=[\n",
    "    ('imputer', SimpleImputer(strategy='most_frequent')),\n",
    "    ('onehot', OneHotEncoder(handle_unknown='ignore'))\n",
    "])\n",
    "\n",
    "boolean_transformer = Pipeline(steps=[\n",
    "    ('imputer', SimpleImputer(strategy='most_frequent'))\n",
    "])\n",
    "\n",
    "# Combinar transformadores en un preprocesador\n",
    "preprocessor = ColumnTransformer(\n",
    "    transformers=[\n",
    "        ('num', numeric_transformer, numeric_features),\n",
    "        ('cat', categorical_transformer, categorical_features),\n",
    "        ('bool', boolean_transformer, boolean_features)\n",
    "    ])\n",
    "\n",
    "# Crear el modelo XGBoost\n",
    "model = XGBRegressor(objective='reg:squarederror', random_state=42)\n",
    "\n",
    "# Crear el pipeline con preprocesador y modelo\n",
    "pipeline = Pipeline(steps=[('preprocessor', preprocessor),\n",
    "                             ('model', model)])\n",
    "\n",
    "# Definir el espacio de búsqueda de hiperparámetros\n",
    "param_grid = {\n",
    "    'model__n_estimators': [200, 300, 400],\n",
    "    'model__learning_rate': [0.01, 0.05, 0.1],\n",
    "    'model__max_depth': [4, 5, 6],\n",
    "    'model__subsample': [0.8, 0.9, 1.0],\n",
    "    'model__colsample_bytree': [0.8, 0.9, 1.0],\n",
    "}\n",
    "\n",
    "# Configurar la búsqueda de hiperparámetros con validación cruzada\n",
    "grid_search = GridSearchCV(pipeline, param_grid, cv=5, scoring='neg_mean_squared_error', n_jobs=-1)\n",
    "\n",
    "# Entrenar el modelo con búsqueda de hiperparámetros\n",
    "grid_search.fit(X_train, y_train)\n",
    "\n",
    "# Obtener el mejor modelo del grid search\n",
    "best_model = grid_search.best_estimator_\n",
    "\n",
    "# Realizar predicciones en el conjunto de prueba\n",
    "y_pred = best_model.predict(X_test)\n",
    "\n",
    "# Evaluar el rendimiento del modelo\n",
    "mse = mean_squared_error(y_test, y_pred)\n",
    "print(f'Mean Squared Error: {mse}')"
   ]
  },
  {
   "cell_type": "code",
   "execution_count": 7,
   "metadata": {},
   "outputs": [
    {
     "name": "stdout",
     "output_type": "stream",
     "text": [
      "Varianza de las variables utilizadas:\n",
      " rating                                                          1.003175\n",
      "viaje_id                                                        1.003175\n",
      "latitud_final                                                   1.003175\n",
      "longitud_final                                                  1.003175\n",
      "anio_fabricacion                                                1.003175\n",
      "                                                                  ...   \n",
      "trabajo_cliente_Vendedor de comidas al mostrador                0.006309\n",
      "trabajo_cliente_Vendedor de quioscos y de puestos de mercado    0.003165\n",
      "trabajo_cliente_Vendedor por teléfono                           0.006309\n",
      "trabajo_cliente_Árbitro deportivo                               0.003165\n",
      "tiene_calefaccion                                               0.248222\n",
      "Length: 384, dtype: float64\n"
     ]
    }
   ],
   "source": [
    "numeric_columns_after_transform = best_model.named_steps['preprocessor'].transformers_[0][1]['scaler'].get_feature_names_out(numeric_features)\n",
    "\n",
    "categorical_columns_after_transform = best_model.named_steps['preprocessor'].transformers_[1][1]['onehot'].get_feature_names_out(categorical_features)\n",
    "\n",
    "all_columns_after_transform = list(numeric_columns_after_transform) + list(categorical_columns_after_transform) + list(boolean_features)\n",
    "\n",
    "X_train_transformed = best_model.named_steps['preprocessor'].transform(X_train)\n",
    "X_train_transformed_df = pd.DataFrame(X_train_transformed.toarray(), columns=all_columns_after_transform)\n",
    "\n",
    "variance_of_used_columns = X_train_transformed_df.var()\n",
    "print('Varianza de las variables utilizadas:\\n', variance_of_used_columns)\n"
   ]
  },
  {
   "cell_type": "code",
   "execution_count": 8,
   "metadata": {},
   "outputs": [
    {
     "data": {
      "application/vnd.plotly.v1+json": {
       "config": {
        "plotlyServerURL": "https://plot.ly"
       },
       "data": [
        {
         "alignmentgroup": "True",
         "hovertemplate": "variable=0<br>Varianza=%{x}<br>Variables=%{y}<extra></extra>",
         "legendgroup": "0",
         "marker": {
          "color": "#636efa",
          "pattern": {
           "shape": ""
          }
         },
         "name": "0",
         "offsetgroup": "0",
         "orientation": "h",
         "showlegend": true,
         "textposition": "auto",
         "type": "bar",
         "x": [
          0.0031645569620253147,
          0.0031645569620253147,
          0.0031645569620253147,
          0.0031645569620253147,
          0.0031645569620253147,
          0.0031645569620253147,
          0.0031645569620253147,
          0.0031645569620253147,
          0.0031645569620253147,
          0.0031645569620253147,
          0.003164556962025315,
          0.003164556962025315,
          0.003164556962025315,
          0.003164556962025315,
          0.003164556962025315,
          0.003164556962025315,
          0.003164556962025315,
          0.003164556962025315,
          0.003164556962025315,
          0.003164556962025315,
          0.003164556962025315,
          0.003164556962025315,
          0.003164556962025315,
          0.003164556962025315,
          0.003164556962025315,
          0.003164556962025315,
          0.003164556962025315,
          0.003164556962025315,
          0.003164556962025315,
          0.003164556962025315,
          0.003164556962025315,
          0.003164556962025315,
          0.003164556962025315,
          0.0031645569620253155,
          0.0031645569620253155,
          0.0031645569620253155,
          0.0031645569620253155,
          0.0031645569620253155,
          0.0031645569620253155,
          0.0031645569620253155,
          0.0031645569620253155,
          0.0031645569620253155,
          0.0031645569620253155,
          0.0031645569620253155,
          0.0031645569620253155,
          0.0031645569620253155,
          0.0031645569620253155,
          0.0031645569620253155,
          0.0031645569620253155,
          0.0031645569620253155,
          0.0031645569620253155,
          0.0031645569620253155,
          0.0031645569620253155,
          0.0031645569620253155,
          0.0031645569620253155,
          0.0031645569620253155,
          0.0031645569620253155,
          0.0031645569620253155,
          0.0031645569620253155,
          0.0031645569620253155,
          0.0031645569620253155,
          0.0031645569620253155,
          0.0031645569620253155,
          0.0031645569620253155,
          0.0031645569620253155,
          0.0031645569620253155,
          0.0031645569620253155,
          0.0031645569620253155,
          0.0031645569620253155,
          0.0031645569620253155,
          0.0031645569620253155,
          0.0031645569620253155,
          0.0031645569620253155,
          0.0031645569620253155,
          0.0031645569620253155,
          0.0031645569620253155,
          0.0031645569620253155,
          0.0031645569620253155,
          0.0031645569620253155,
          0.0031645569620253155,
          0.0031645569620253155,
          0.0031645569620253155,
          0.0031645569620253155,
          0.0031645569620253155,
          0.0031645569620253155,
          0.0031645569620253155,
          0.0031645569620253155,
          0.0031645569620253155,
          0.0031645569620253155,
          0.0031645569620253155,
          0.0031645569620253155,
          0.0031645569620253155,
          0.0031645569620253155,
          0.0031645569620253155,
          0.0031645569620253155,
          0.0031645569620253155,
          0.0031645569620253155,
          0.0031645569620253155,
          0.0031645569620253155,
          0.0031645569620253155,
          0.0031645569620253155,
          0.0031645569620253155,
          0.0031645569620253155,
          0.0031645569620253155,
          0.0031645569620253155,
          0.0031645569620253155,
          0.0031645569620253155,
          0.0031645569620253155,
          0.0031645569620253155,
          0.0031645569620253155,
          0.0031645569620253155,
          0.0031645569620253155,
          0.0031645569620253155,
          0.0031645569620253155,
          0.0031645569620253155,
          0.0031645569620253155,
          0.0031645569620253155,
          0.0031645569620253155,
          0.0031645569620253155,
          0.0031645569620253155,
          0.0031645569620253155,
          0.0031645569620253155,
          0.0031645569620253155,
          0.0031645569620253155,
          0.0031645569620253155,
          0.0031645569620253155,
          0.0031645569620253155,
          0.0031645569620253155,
          0.0031645569620253155,
          0.0031645569620253155,
          0.0031645569620253155,
          0.0031645569620253155,
          0.0031645569620253155,
          0.0031645569620253155,
          0.0031645569620253155,
          0.0031645569620253155,
          0.0031645569620253155,
          0.0031645569620253155,
          0.0031645569620253155,
          0.0031645569620253155,
          0.0031645569620253155,
          0.0031645569620253155,
          0.0031645569620253155,
          0.0031645569620253155,
          0.0031645569620253155,
          0.0031645569620253155,
          0.0031645569620253155,
          0.003164556962025316,
          0.003164556962025316,
          0.003164556962025316,
          0.003164556962025316,
          0.003164556962025316,
          0.003164556962025316,
          0.003164556962025316,
          0.003164556962025316,
          0.003164556962025316,
          0.003164556962025316,
          0.003164556962025316,
          0.003164556962025316,
          0.003164556962025316,
          0.003164556962025316,
          0.003164556962025316,
          0.003164556962025316,
          0.003164556962025316,
          0.003164556962025316,
          0.003164556962025316,
          0.003164556962025316,
          0.003164556962025316,
          0.003164556962025316,
          0.003164556962025316,
          0.003164556962025316,
          0.003164556962025316,
          0.003164556962025316,
          0.003164556962025316,
          0.003164556962025316,
          0.003164556962025316,
          0.003164556962025316,
          0.003164556962025316,
          0.003164556962025316,
          0.003164556962025316,
          0.003164556962025316,
          0.003164556962025316,
          0.003164556962025316,
          0.003164556962025316,
          0.003164556962025316,
          0.003164556962025316,
          0.003164556962025316,
          0.003164556962025316,
          0.003164556962025316,
          0.0031645569620253164,
          0.0031645569620253164,
          0.0031645569620253164,
          0.006309021498894915,
          0.006309021498894915,
          0.006309021498894915,
          0.006309021498894915,
          0.006309021498894915,
          0.006309021498894915,
          0.006309021498894915,
          0.006309021498894915,
          0.006309021498894915,
          0.006309021498894915,
          0.006309021498894915,
          0.006309021498894915,
          0.006309021498894915,
          0.006309021498894915,
          0.006309021498894915,
          0.006309021498894915,
          0.006309021498894915,
          0.006309021498894915,
          0.006309021498894915,
          0.006309021498894915,
          0.006309021498894915,
          0.006309021498894915,
          0.006309021498894915,
          0.006309021498894915,
          0.006309021498894915,
          0.006309021498894915,
          0.006309021498894915,
          0.006309021498894915,
          0.006309021498894915,
          0.006309021498894915,
          0.006309021498894915,
          0.006309021498894915,
          0.006309021498894915,
          0.006309021498894915,
          0.006309021498894915,
          0.006309021498894915,
          0.006309021498894915,
          0.006309021498894915,
          0.006309021498894915,
          0.006309021498894915,
          0.006309021498894915,
          0.006309021498894915,
          0.006309021498894915,
          0.006309021498894915,
          0.006309021498894915,
          0.006309021498894915,
          0.006309021498894915,
          0.006309021498894915,
          0.006309021498894915,
          0.006309021498894915,
          0.006309021498894915,
          0.006309021498894915,
          0.006309021498894915,
          0.006309021498894915,
          0.006309021498894915,
          0.006309021498894915,
          0.0063090214988949156,
          0.0063090214988949156,
          0.0063090214988949156,
          0.0063090214988949156,
          0.0063090214988949156,
          0.0063090214988949156,
          0.0063090214988949156,
          0.0063090214988949156,
          0.0063090214988949156,
          0.0063090214988949156,
          0.0063090214988949156,
          0.0063090214988949156,
          0.0063090214988949156,
          0.0063090214988949156,
          0.0063090214988949156,
          0.0063090214988949156,
          0.0063090214988949156,
          0.0063090214988949156,
          0.006309021498894916,
          0.006309021498894916,
          0.006309021498894916,
          0.006309021498894916,
          0.006309021498894917,
          0.006309021498894918,
          0.0094333936106088,
          0.0094333936106088,
          0.0094333936106088,
          0.0094333936106088,
          0.0094333936106088,
          0.0094333936106088,
          0.0094333936106088,
          0.009433393610608801,
          0.009433393610608801,
          0.009433393610608801,
          0.009433393610608801,
          0.009433393610608801,
          0.009433393610608801,
          0.009433393610608801,
          0.009433393610608801,
          0.009433393610608801,
          0.009433393610608801,
          0.009433393610608801,
          0.009433393610608801,
          0.009433393610608801,
          0.009433393610608801,
          0.009433393610608801,
          0.009433393610608801,
          0.009433393610608801,
          0.009433393610608801,
          0.009433393610608801,
          0.009433393610608801,
          0.009433393610608801,
          0.009433393610608801,
          0.009433393610608801,
          0.009433393610608801,
          0.009433393610608801,
          0.009433393610608801,
          0.009433393610608801,
          0.009433393610608801,
          0.009433393610608801,
          0.009433393610608801,
          0.009433393610608801,
          0.009433393610608801,
          0.009433393610608803,
          0.012537673297166969,
          0.012537673297166969,
          0.012537673297166969,
          0.012537673297166969,
          0.01253767329716697,
          0.01253767329716697,
          0.01253767329716697,
          0.01253767329716697,
          0.01253767329716697,
          0.01253767329716697,
          0.01253767329716697,
          0.01253767329716697,
          0.01253767329716697,
          0.01253767329716697,
          0.01253767329716697,
          0.01253767329716697,
          0.01253767329716697,
          0.01562186055856942,
          0.015621860558569423,
          0.015621860558569425,
          0.015621860558569425,
          0.015621860558569425,
          0.015621860558569425,
          0.015621860558569425,
          0.015621860558569425,
          0.018685955394816153,
          0.018685955394816156,
          0.018685955394816156,
          0.018685955394816156,
          0.021729957805907172,
          0.021729957805907175,
          0.021729957805907175,
          0.02172995780590718,
          0.024753867791842465,
          0.02475386779184247,
          0.024753867791842472,
          0.027757685352622064,
          0.027757685352622064,
          0.027757685352622064,
          0.02775768535262207,
          0.03074141048824592,
          0.030741410488245927,
          0.03074141048824593,
          0.03664858348402653,
          0.04247538677918423,
          0.04535864978902952,
          0.06770142656218604,
          0.0861965039180229,
          0.08875828812537673,
          0.09129997990757485,
          0.09382157926461722,
          0.09382157926461725,
          0.10126582278481015,
          0.1132710468153506,
          0.13143459915611816,
          0.1942837050431987,
          0.233072131806309,
          0.23307213180630904,
          0.23918022905364678,
          0.2482218203737191,
          0.2485332529636327,
          0.25078360458107296,
          1.003174603174603,
          1.0031746031746032,
          1.0031746031746032,
          1.0031746031746032,
          1.0031746031746032,
          1.0031746031746034,
          1.0031746031746034,
          1.0031746031746034,
          1.0031746031746036,
          1.0031746031746036
         ],
         "xaxis": "x",
         "y": [
          "trabajo_cliente_Clasificador de productos",
          "color_coche_Púrpura",
          "trabajo_cliente_Director de servicios de educación",
          "trabajo_cliente_Miembro del poder legislativo",
          "trabajo_cliente_Operador de instalaciones de procesamiento de minerales y rocas",
          "trabajo_cliente_Operador de máquinas para fabricar cemento y otros productos minerales",
          "trabajo_cliente_Patronista y cortador de tela",
          "trabajo_cliente_Profesional de nivel medio de medicina tradicional y alternativa",
          "trabajo_cliente_Recolector de leña",
          "color_coche_Azul marino",
          "trabajo_cliente_Inspector de policía",
          "color_coche_Beige melocotón",
          "trabajo_cliente_Ingeniero industrial",
          "trabajo_cliente_Instructor en tecnologías de la información",
          "trabajo_cliente_Lavador de vehículos",
          "trabajo_cliente_Maquinista de locomotoras",
          "color_coche_Gris gainsboro (Estaño)",
          "trabajo_cliente_Mecánico y reparador en electrónica",
          "trabajo_cliente_Operador de instalaciones de tratamiento de agua",
          "trabajo_cliente_Operador de máquinas de blanqueamiento, teñido y limpieza de tejidos",
          "trabajo_cliente_Operador de máquinas de vapor y calderas",
          "trabajo_cliente_Gorjadore",
          "trabajo_cliente_Peón de explotaciones de cultivos mixtos y ganaderos",
          "trabajo_cliente_Peón de explotaciones ganaderas",
          "trabajo_cliente_Actuario",
          "color_coche_Agua marina medio",
          "trabajo_cliente_Supervisor de tiendas y almacenes",
          "trabajo_cliente_Recolector de dinero en aparatos de venta automática y lector de medidores",
          "color_coche_Violeta sonrojado pálido",
          "trabajo_cliente_Tenedor de libros",
          "trabajo_cliente_Profesional de relaciones públicas",
          "trabajo_cliente_Profesor de universidades y de la enseñanza superior",
          "marca_coche_GMC",
          "trabajo_cliente_Agente de empleo",
          "trabajo_cliente_Decorador de interior",
          "color_coche_Verde pálido",
          "trabajo_cliente_Dentista",
          "trabajo_cliente_Desarrollador Web y multimedia",
          "trabajo_cliente_Dinamitero",
          "color_coche_Verde oliva oscuro",
          "trabajo_cliente_Director de teatro",
          "color_coche_Verde limón",
          "trabajo_cliente_Diseñador de interior",
          "trabajo_cliente_Ebanista",
          "trabajo_cliente_Economista",
          "trabajo_cliente_Empleado de agencia de viajes",
          "trabajo_cliente_Empleado de biblioteca",
          "color_coche_Turquesa pálido",
          "trabajo_cliente_Empleado de contabilidad y cálculo de costos",
          "trabajo_cliente_Empleado de servicios de transporte",
          "trabajo_cliente_Tronzador",
          "trabajo_cliente_Cuidador de animales",
          "trabajo_cliente_Controlador de plagas y malas hierbas",
          "trabajo_cliente_Cortador de vidrio",
          "trabajo_cliente_Agente inmobiliario",
          "trabajo_cliente_Agricultor",
          "trabajo_cliente_Analista de gestión y organización",
          "trabajo_cliente_Analista de sistemas",
          "trabajo_cliente_Archivista",
          "trabajo_cliente_Arquitecto",
          "trabajo_cliente_Técnico en galerías de arte, museos y bibliotecas",
          "trabajo_cliente_Artista plástico",
          "trabajo_cliente_Audiólogo",
          "trabajo_cliente_Criador de ganado",
          "trabajo_cliente_Ayudante de cocina",
          "trabajo_cliente_Bordador",
          "trabajo_cliente_Cajero de banco",
          "trabajo_cliente_Cantante",
          "trabajo_cliente_Técnico de prótesis médicas y dentales",
          "trabajo_cliente_Catador de bebidas",
          "trabajo_cliente_Árbitro deportivo",
          "trabajo_cliente_Técnico en ingeniería de minas y metalurgia",
          "trabajo_cliente_Cobrador",
          "trabajo_cliente_Compositor",
          "trabajo_cliente_Ayudante de cámara",
          "trabajo_cliente_Especialista en métodos pedagógicos",
          "trabajo_cliente_Tapicero",
          "trabajo_cliente_Fotógrafo",
          "trabajo_cliente_Parquetero y colocador de suelos",
          "trabajo_cliente_Trabajador comunitario de la salud",
          "trabajo_cliente_Periodista",
          "trabajo_cliente_Pescadero",
          "trabajo_cliente_Peón de la construcción de edificios",
          "trabajo_cliente_Peón forestales",
          "trabajo_cliente_Profesional de la publicidad y la comercialización",
          "trabajo_cliente_Profesional de medicina",
          "trabajo_cliente_Profesional de nivel medio de enfermería",
          "trabajo_cliente_Operador de máquinas para la fabricación de calzado",
          "trabajo_cliente_Trabajador ambulante de servicios",
          "trabajo_cliente_Profesional de nivel medio en actividades culturales y artísticas",
          "trabajo_cliente_Profesional de ventas técnicas y médicas",
          "trabajo_cliente_Profesor de enseñanza secundaria",
          "trabajo_cliente_Programador de aplicaciones",
          "trabajo_cliente_Recepcionista",
          "trabajo_cliente_Regulador y operador de máquinas y herramientas",
          "trabajo_cliente_Repartidor",
          "trabajo_cliente_Secretario (general)",
          "trabajo_cliente_Secretario administrativo",
          "trabajo_cliente_Profesional de nivel medio de servicios estadísticos o matemáticos",
          "trabajo_cliente_Trabajador de explotaciones de acuicultura",
          "trabajo_cliente_Operador de máquinas lavarropas",
          "trabajo_cliente_Operador de máquinas de procesamiento de texto y mecanógrafos",
          "trabajo_cliente_Guardafrenos",
          "trabajo_cliente_Ingeniero electrónico",
          "trabajo_cliente_Ingeniero metalúrgico",
          "trabajo_cliente_Ingeniero químico",
          "trabajo_cliente_Telefonista",
          "trabajo_cliente_Instalador de material aislante y de insonorización",
          "trabajo_cliente_Instructor de educación física y actividades recreativas",
          "trabajo_cliente_Labrante",
          "color_coche_Turquesa",
          "trabajo_cliente_Lavandero",
          "trabajo_cliente_Limpiador y asistente doméstico",
          "trabajo_cliente_Lingüista",
          "trabajo_cliente_Mayordomo doméstico",
          "trabajo_cliente_Mecánico y ajustador electricista",
          "trabajo_cliente_Traductor e intérprete",
          "trabajo_cliente_Oficial de las fuerzas armadas",
          "trabajo_cliente_Oficinista general",
          "trabajo_cliente_Operador de instalaciones de procesamiento de la madera",
          "trabajo_cliente_Trabajador social de nivel medio",
          "trabajo_cliente_Operador de instalaciones de vidriería y cerámica",
          "trabajo_cliente_Operador de máquinas de coser",
          "trabajo_cliente_Especialista en políticas y servicios de personal",
          "color_coche_Rosa brumoso",
          "trabajo_cliente_Técnico en aparatos de diagnóstico y tratamiento médico",
          "color_coche_Azul pizarra oscuro",
          "color_coche_Naranja",
          "color_coche_Amarillo claro",
          "color_coche_Oliva",
          "color_coche_Azul acero claro",
          "marca_coche_Maserati",
          "color_coche_Azul cielo profundo",
          "color_coche_Azul claro",
          "color_coche_Rojo",
          "color_coche_Lima",
          "color_coche_Gris",
          "marca_coche_Chrysler",
          "color_coche_Rojo carmesí",
          "marca_coche_Bugatti",
          "color_coche_Amarillo dorado claro",
          "color_coche_Rojo indio",
          "color_coche_Blanco menta",
          "trabajo_cliente_Vendedor de quioscos y de puestos de mercado",
          "trabajo_cliente_Urbanistas e ingenieros de tránsito",
          "trabajo_cliente_Vendedor ambulantes de productos comestibles",
          "trabajo_cliente_Técnico en ingeniería mecánica",
          "trabajo_cliente_Fabricante de instrumentos musicales",
          "trabajo_cliente_Empacador manual",
          "color_coche_Blanco navajo",
          "trabajo_cliente_Operador de instalaciones de producción de energía",
          "trabajo_cliente_Auxiliar de servicio de abordo",
          "trabajo_cliente_Dibujante técnico",
          "trabajo_cliente_Oficial de cubierta",
          "trabajo_cliente_Nutricionista",
          "trabajo_cliente_Médico especialista",
          "color_coche_Blanco fantasma",
          "trabajo_cliente_Técnico de telecomunicaciones",
          "trabajo_cliente_Mecánico y reparador de instrumentos de precisión",
          "trabajo_cliente_Cartógrafo",
          "color_coche_Azul cadete",
          "trabajo_cliente_Gerente de hoteles o restaurantes",
          "trabajo_cliente_Locutor de radio",
          "trabajo_cliente_Limpiador y asistente de oficinas, hoteles y otros establecimientos",
          "color_coche_Chocolate",
          "trabajo_cliente_Joyero",
          "trabajo_cliente_Empleado encargado de las nóminas",
          "trabajo_cliente_Director de servicios de tecnología de la información y las comunicaciones",
          "trabajo_cliente_Asesor de inversiones",
          "trabajo_cliente_Herrero",
          "trabajo_cliente_Gerente general",
          "trabajo_cliente_Cajero",
          "trabajo_cliente_Asistente fisioterapeuta",
          "color_coche_Caqui oscuro",
          "trabajo_cliente_Profesional de nivel medio del derecho y servicios legales",
          "trabajo_cliente_Químico",
          "marca_coche_Jeep",
          "trabajo_cliente_Piloto de aviación",
          "trabajo_cliente_Peón de obras públicas y mantenimiento",
          "trabajo_cliente_Peón de explotaciones agrícolas",
          "trabajo_cliente_Pescador, cazador, tramperos y recolector de subsistencia",
          "trabajo_cliente_Personal de pompas fúnebres y embalsamador",
          "trabajo_cliente_Técnico en optometría y ópticos",
          "trabajo_cliente_Técnico agropecuario",
          "trabajo_cliente_Técnico de laboratorio médico",
          "color_coche_Oro",
          "trabajo_cliente_Agente de maniobras",
          "color_coche_Violeta",
          "trabajo_cliente_Técnico en seguridad aeronáutica",
          "trabajo_cliente_Mecánico y reparador de motores de avión",
          "trabajo_cliente_Operador de máquinas pulidoras, galvanizadoras y recubridoras de metales ",
          "trabajo_cliente_Detective",
          "trabajo_cliente_Trabajador de cuidados personales a domicilio",
          "trabajo_cliente_Suboficial de las fuerzas armadas",
          "trabajo_cliente_Entrevistador de encuestas",
          "trabajo_cliente_Fumigador",
          "trabajo_cliente_Revisor y cobrador de los transportes públicos",
          "trabajo_cliente_Técnico en química industrial",
          "trabajo_cliente_Profesional religioso",
          "trabajo_cliente_Vendedor por teléfono",
          "trabajo_cliente_Profesional del trabajo social",
          "trabajo_cliente_Geólogo",
          "color_coche_Blanco floral",
          "trabajo_cliente_Operador de máquinas de tratamiento de pieles y cueros",
          "trabajo_cliente_Ingeniero mecánico",
          "color_coche_Caqui",
          "color_coche_Azul",
          "color_coche_Azul Alicia",
          "trabajo_cliente_Operario de la elaboración de productos lácteos",
          "color_coche_Azul acero",
          "trabajo_cliente_Mecánico-montador de instalaciones de refrigeración y climatización",
          "trabajo_cliente_Peluqueros",
          "trabajo_cliente_Guardagujas",
          "trabajo_cliente_Mecánico y reparador de vehículos de motor",
          "color_coche_Azul cielo claro",
          "trabajo_cliente_Profesional de nivel medio de medicina alternativa",
          "marca_coche_Jaguar",
          "trabajo_cliente_Instructor de autoescuela",
          "trabajo_cliente_Operador de máquinas de preparación de fibras, hilado y devanado",
          "color_coche_Azul pizarra medio",
          "marca_coche_Fiat",
          "trabajo_cliente_Pescador de agua dulce y en aguas costeras",
          "color_coche_Azul pizarra",
          "color_coche_Rosa caliente",
          "trabajo_cliente_Conductor de vehículos y máquinas de tracción animal",
          "color_coche_Verde mar claro",
          "trabajo_cliente_Conductor de taxis",
          "trabajo_cliente_Costurero",
          "trabajo_cliente_Cocinero",
          "color_coche_Violeta oscuro",
          "color_coche_Gris pizarra",
          "color_coche_Orquídea medio",
          "trabajo_cliente_Administrador de sistemas",
          "trabajo_cliente_Agente de aduanas",
          "trabajo_cliente_Constructor de casas",
          "color_coche_Marrón caqui",
          "trabajo_cliente_Director de investigación y desarrollo",
          "color_coche_Marrón arena",
          "trabajo_cliente_Botánico",
          "color_coche_Rosa claro",
          "trabajo_cliente_Auxiliar laico de las religión",
          "trabajo_cliente_Avicultor",
          "trabajo_cliente_Diseñador de prendas",
          "trabajo_cliente_Buzo",
          "color_coche_Marrón perú",
          "trabajo_cliente_Ayudante de odontología",
          "color_coche_Coral",
          "color_coche_Melón dulce",
          "trabajo_cliente_Profesional de la salud y la higiene laboral y ambiental",
          "color_coche_Marrón madera rústica",
          "trabajo_cliente_Profesional de ventas de tecnología de la información y las comunicaciones",
          "trabajo_cliente_Peletero",
          "trabajo_cliente_Operador de plantas y máquinas de productos químicos",
          "trabajo_cliente_Pulidor de metales y afilador de herramientas",
          "trabajo_cliente_Operario en cemento armado y enfoscador",
          "trabajo_cliente_Peón de pesca y acuicultura",
          "trabajo_cliente_Empalmador de cables",
          "trabajo_cliente_Electricista de obras",
          "trabajo_cliente_Secretario ejecutivo",
          "color_coche_Azul violeta",
          "trabajo_cliente_Secretario jurídicos",
          "trabajo_cliente_Impresor",
          "trabajo_cliente_Guardián de prisión",
          "color_coche_Verde",
          "trabajo_cliente_Vendedor de comidas al mostrador",
          "trabajo_cliente_Entrevistador de investigaciones de mercados",
          "trabajo_cliente_Controlador de instalaciones de procesamiento de productos químicos",
          "color_coche_Marrón cuero",
          "trabajo_cliente_Trabajador agrícola de subsistencia",
          "trabajo_cliente_Afinador de instrumentos musicales",
          "color_coche_Coral claro",
          "color_coche_Granate",
          "color_coche_Chartreuse",
          "trabajo_cliente_Empleado de archivos",
          "color_coche_Negro",
          "color_coche_Amarillo dorado",
          "trabajo_cliente_Supervisor en ingeniería de minas",
          "color_coche_Beige limón",
          "trabajo_cliente_Director de industrias manufactureras",
          "color_coche_Orquídea",
          "color_coche_Verde claro",
          "trabajo_cliente_Tramper",
          "trabajo_cliente_Soplador de vidrio",
          "color_coche_Salmón claro",
          "trabajo_cliente_Sericultor",
          "color_coche_Verde prado",
          "color_coche_Naranja oscuro",
          "marca_coche_Alfa Romeo",
          "trabajo_cliente_Agrónomo",
          "trabajo_cliente_Expendedor de gasolineras",
          "color_coche_Azul medianoche",
          "color_coche_Marrón siena",
          "color_coche_Magenta oscuro",
          "color_coche_Azul polvo",
          "color_coche_Beige papaya",
          "color_coche_Cyan oscuro",
          "trabajo_cliente_Especialista en tratamientos de belleza",
          "trabajo_cliente_Chef",
          "trabajo_cliente_Mandader",
          "color_coche_Azul anciano",
          "color_coche_Azul medio",
          "color_coche_Cian",
          "color_coche_Amarillo maíz dulce",
          "trabajo_cliente_Miembro de las fuerzas armadas",
          "trabajo_cliente_Meteorólogo",
          "trabajo_cliente_Empleado de centro de llamadas",
          "color_coche_Amarillo trigo",
          "trabajo_cliente_Asesor financiero y en inversiones",
          "color_coche_Blanco humo",
          "color_coche_Amarillo verde",
          "trabajo_cliente_Empleado de servicios de correos",
          "color_coche_Verde lima",
          "color_coche_Verde azulado",
          "color_coche_Violeta cardo",
          "trabajo_cliente_Profesor de formación profesional",
          "color_coche_Verde mar oscuro",
          "color_coche_Azul oscuro",
          "marca_coche_Acura",
          "color_coche_Verde primavera medio",
          "marca_coche_Dodge",
          "color_coche_Índigo",
          "color_coche_Rojo violeta medio",
          "marca_coche_Lincoln",
          "color_coche_Gris mate",
          "trabajo_cliente_Techador",
          "color_coche_Turquesa oscuro",
          "color_coche_Rojo tomate",
          "marca_coche_Porsche",
          "color_coche_Salmón oscuro",
          "color_coche_Azul cielo",
          "color_coche_Marfil",
          "color_coche_Verde mar",
          "marca_coche_Cadillac",
          "color_coche_Marrón",
          "color_coche_Azul azur",
          "color_coche_Rosa profundo",
          "marca_coche_Tesla",
          "color_coche_Beige",
          "color_coche_Rojo anaranjado",
          "color_coche_Gris oscuro",
          "color_coche_Amarillo dorado oscuro",
          "marca_coche_Audi",
          "color_coche_Salmón",
          "marca_coche_MINI",
          "color_coche_Gris pizarra oscuro",
          "color_coche_Rojo oscuro",
          "color_coche_Púrpura medio",
          "color_coche_Magenta",
          "color_coche_Amarillo",
          "marca_coche_Hyundai",
          "marca_coche_Volvo",
          "color_coche_Plata",
          "color_coche_Marrón rojizo",
          "marca_coche_Mercedes-Benz",
          "marca_coche_Kia",
          "marca_coche_Subaru",
          "marca_coche_Mazda",
          "marca_coche_Nissan",
          "marca_coche_BMW",
          "marca_coche_Toyota",
          "marca_coche_Chevrolet",
          "marca_coche_Volkswagen",
          "marca_coche_Honda",
          "metodo_pago_Bizum",
          "marca_coche_Ford",
          "tipo_combustible_Eléctrico",
          "genero_cliente_desconocido",
          "metodo_pago_Efectivo",
          "metodo_pago_Tarjeta",
          "tipo_combustible_Híbrido",
          "genero_cliente_hombre",
          "tiene_calefaccion",
          "genero_cliente_mujer",
          "tipo_combustible_Gasolina",
          "puntos_carnet",
          "edad_cliente",
          "anio_registro_app",
          "kilometraje",
          "rating",
          "cilindraje_motor",
          "anio_fabricacion",
          "latitud_final",
          "longitud_final",
          "viaje_id"
         ],
         "yaxis": "y"
        }
       ],
       "layout": {
        "barmode": "relative",
        "legend": {
         "title": {
          "text": "variable"
         },
         "tracegroupgap": 0
        },
        "template": {
         "data": {
          "bar": [
           {
            "error_x": {
             "color": "#2a3f5f"
            },
            "error_y": {
             "color": "#2a3f5f"
            },
            "marker": {
             "line": {
              "color": "#E5ECF6",
              "width": 0.5
             },
             "pattern": {
              "fillmode": "overlay",
              "size": 10,
              "solidity": 0.2
             }
            },
            "type": "bar"
           }
          ],
          "barpolar": [
           {
            "marker": {
             "line": {
              "color": "#E5ECF6",
              "width": 0.5
             },
             "pattern": {
              "fillmode": "overlay",
              "size": 10,
              "solidity": 0.2
             }
            },
            "type": "barpolar"
           }
          ],
          "carpet": [
           {
            "aaxis": {
             "endlinecolor": "#2a3f5f",
             "gridcolor": "white",
             "linecolor": "white",
             "minorgridcolor": "white",
             "startlinecolor": "#2a3f5f"
            },
            "baxis": {
             "endlinecolor": "#2a3f5f",
             "gridcolor": "white",
             "linecolor": "white",
             "minorgridcolor": "white",
             "startlinecolor": "#2a3f5f"
            },
            "type": "carpet"
           }
          ],
          "choropleth": [
           {
            "colorbar": {
             "outlinewidth": 0,
             "ticks": ""
            },
            "type": "choropleth"
           }
          ],
          "contour": [
           {
            "colorbar": {
             "outlinewidth": 0,
             "ticks": ""
            },
            "colorscale": [
             [
              0,
              "#0d0887"
             ],
             [
              0.1111111111111111,
              "#46039f"
             ],
             [
              0.2222222222222222,
              "#7201a8"
             ],
             [
              0.3333333333333333,
              "#9c179e"
             ],
             [
              0.4444444444444444,
              "#bd3786"
             ],
             [
              0.5555555555555556,
              "#d8576b"
             ],
             [
              0.6666666666666666,
              "#ed7953"
             ],
             [
              0.7777777777777778,
              "#fb9f3a"
             ],
             [
              0.8888888888888888,
              "#fdca26"
             ],
             [
              1,
              "#f0f921"
             ]
            ],
            "type": "contour"
           }
          ],
          "contourcarpet": [
           {
            "colorbar": {
             "outlinewidth": 0,
             "ticks": ""
            },
            "type": "contourcarpet"
           }
          ],
          "heatmap": [
           {
            "colorbar": {
             "outlinewidth": 0,
             "ticks": ""
            },
            "colorscale": [
             [
              0,
              "#0d0887"
             ],
             [
              0.1111111111111111,
              "#46039f"
             ],
             [
              0.2222222222222222,
              "#7201a8"
             ],
             [
              0.3333333333333333,
              "#9c179e"
             ],
             [
              0.4444444444444444,
              "#bd3786"
             ],
             [
              0.5555555555555556,
              "#d8576b"
             ],
             [
              0.6666666666666666,
              "#ed7953"
             ],
             [
              0.7777777777777778,
              "#fb9f3a"
             ],
             [
              0.8888888888888888,
              "#fdca26"
             ],
             [
              1,
              "#f0f921"
             ]
            ],
            "type": "heatmap"
           }
          ],
          "heatmapgl": [
           {
            "colorbar": {
             "outlinewidth": 0,
             "ticks": ""
            },
            "colorscale": [
             [
              0,
              "#0d0887"
             ],
             [
              0.1111111111111111,
              "#46039f"
             ],
             [
              0.2222222222222222,
              "#7201a8"
             ],
             [
              0.3333333333333333,
              "#9c179e"
             ],
             [
              0.4444444444444444,
              "#bd3786"
             ],
             [
              0.5555555555555556,
              "#d8576b"
             ],
             [
              0.6666666666666666,
              "#ed7953"
             ],
             [
              0.7777777777777778,
              "#fb9f3a"
             ],
             [
              0.8888888888888888,
              "#fdca26"
             ],
             [
              1,
              "#f0f921"
             ]
            ],
            "type": "heatmapgl"
           }
          ],
          "histogram": [
           {
            "marker": {
             "pattern": {
              "fillmode": "overlay",
              "size": 10,
              "solidity": 0.2
             }
            },
            "type": "histogram"
           }
          ],
          "histogram2d": [
           {
            "colorbar": {
             "outlinewidth": 0,
             "ticks": ""
            },
            "colorscale": [
             [
              0,
              "#0d0887"
             ],
             [
              0.1111111111111111,
              "#46039f"
             ],
             [
              0.2222222222222222,
              "#7201a8"
             ],
             [
              0.3333333333333333,
              "#9c179e"
             ],
             [
              0.4444444444444444,
              "#bd3786"
             ],
             [
              0.5555555555555556,
              "#d8576b"
             ],
             [
              0.6666666666666666,
              "#ed7953"
             ],
             [
              0.7777777777777778,
              "#fb9f3a"
             ],
             [
              0.8888888888888888,
              "#fdca26"
             ],
             [
              1,
              "#f0f921"
             ]
            ],
            "type": "histogram2d"
           }
          ],
          "histogram2dcontour": [
           {
            "colorbar": {
             "outlinewidth": 0,
             "ticks": ""
            },
            "colorscale": [
             [
              0,
              "#0d0887"
             ],
             [
              0.1111111111111111,
              "#46039f"
             ],
             [
              0.2222222222222222,
              "#7201a8"
             ],
             [
              0.3333333333333333,
              "#9c179e"
             ],
             [
              0.4444444444444444,
              "#bd3786"
             ],
             [
              0.5555555555555556,
              "#d8576b"
             ],
             [
              0.6666666666666666,
              "#ed7953"
             ],
             [
              0.7777777777777778,
              "#fb9f3a"
             ],
             [
              0.8888888888888888,
              "#fdca26"
             ],
             [
              1,
              "#f0f921"
             ]
            ],
            "type": "histogram2dcontour"
           }
          ],
          "mesh3d": [
           {
            "colorbar": {
             "outlinewidth": 0,
             "ticks": ""
            },
            "type": "mesh3d"
           }
          ],
          "parcoords": [
           {
            "line": {
             "colorbar": {
              "outlinewidth": 0,
              "ticks": ""
             }
            },
            "type": "parcoords"
           }
          ],
          "pie": [
           {
            "automargin": true,
            "type": "pie"
           }
          ],
          "scatter": [
           {
            "fillpattern": {
             "fillmode": "overlay",
             "size": 10,
             "solidity": 0.2
            },
            "type": "scatter"
           }
          ],
          "scatter3d": [
           {
            "line": {
             "colorbar": {
              "outlinewidth": 0,
              "ticks": ""
             }
            },
            "marker": {
             "colorbar": {
              "outlinewidth": 0,
              "ticks": ""
             }
            },
            "type": "scatter3d"
           }
          ],
          "scattercarpet": [
           {
            "marker": {
             "colorbar": {
              "outlinewidth": 0,
              "ticks": ""
             }
            },
            "type": "scattercarpet"
           }
          ],
          "scattergeo": [
           {
            "marker": {
             "colorbar": {
              "outlinewidth": 0,
              "ticks": ""
             }
            },
            "type": "scattergeo"
           }
          ],
          "scattergl": [
           {
            "marker": {
             "colorbar": {
              "outlinewidth": 0,
              "ticks": ""
             }
            },
            "type": "scattergl"
           }
          ],
          "scattermapbox": [
           {
            "marker": {
             "colorbar": {
              "outlinewidth": 0,
              "ticks": ""
             }
            },
            "type": "scattermapbox"
           }
          ],
          "scatterpolar": [
           {
            "marker": {
             "colorbar": {
              "outlinewidth": 0,
              "ticks": ""
             }
            },
            "type": "scatterpolar"
           }
          ],
          "scatterpolargl": [
           {
            "marker": {
             "colorbar": {
              "outlinewidth": 0,
              "ticks": ""
             }
            },
            "type": "scatterpolargl"
           }
          ],
          "scatterternary": [
           {
            "marker": {
             "colorbar": {
              "outlinewidth": 0,
              "ticks": ""
             }
            },
            "type": "scatterternary"
           }
          ],
          "surface": [
           {
            "colorbar": {
             "outlinewidth": 0,
             "ticks": ""
            },
            "colorscale": [
             [
              0,
              "#0d0887"
             ],
             [
              0.1111111111111111,
              "#46039f"
             ],
             [
              0.2222222222222222,
              "#7201a8"
             ],
             [
              0.3333333333333333,
              "#9c179e"
             ],
             [
              0.4444444444444444,
              "#bd3786"
             ],
             [
              0.5555555555555556,
              "#d8576b"
             ],
             [
              0.6666666666666666,
              "#ed7953"
             ],
             [
              0.7777777777777778,
              "#fb9f3a"
             ],
             [
              0.8888888888888888,
              "#fdca26"
             ],
             [
              1,
              "#f0f921"
             ]
            ],
            "type": "surface"
           }
          ],
          "table": [
           {
            "cells": {
             "fill": {
              "color": "#EBF0F8"
             },
             "line": {
              "color": "white"
             }
            },
            "header": {
             "fill": {
              "color": "#C8D4E3"
             },
             "line": {
              "color": "white"
             }
            },
            "type": "table"
           }
          ]
         },
         "layout": {
          "annotationdefaults": {
           "arrowcolor": "#2a3f5f",
           "arrowhead": 0,
           "arrowwidth": 1
          },
          "autotypenumbers": "strict",
          "coloraxis": {
           "colorbar": {
            "outlinewidth": 0,
            "ticks": ""
           }
          },
          "colorscale": {
           "diverging": [
            [
             0,
             "#8e0152"
            ],
            [
             0.1,
             "#c51b7d"
            ],
            [
             0.2,
             "#de77ae"
            ],
            [
             0.3,
             "#f1b6da"
            ],
            [
             0.4,
             "#fde0ef"
            ],
            [
             0.5,
             "#f7f7f7"
            ],
            [
             0.6,
             "#e6f5d0"
            ],
            [
             0.7,
             "#b8e186"
            ],
            [
             0.8,
             "#7fbc41"
            ],
            [
             0.9,
             "#4d9221"
            ],
            [
             1,
             "#276419"
            ]
           ],
           "sequential": [
            [
             0,
             "#0d0887"
            ],
            [
             0.1111111111111111,
             "#46039f"
            ],
            [
             0.2222222222222222,
             "#7201a8"
            ],
            [
             0.3333333333333333,
             "#9c179e"
            ],
            [
             0.4444444444444444,
             "#bd3786"
            ],
            [
             0.5555555555555556,
             "#d8576b"
            ],
            [
             0.6666666666666666,
             "#ed7953"
            ],
            [
             0.7777777777777778,
             "#fb9f3a"
            ],
            [
             0.8888888888888888,
             "#fdca26"
            ],
            [
             1,
             "#f0f921"
            ]
           ],
           "sequentialminus": [
            [
             0,
             "#0d0887"
            ],
            [
             0.1111111111111111,
             "#46039f"
            ],
            [
             0.2222222222222222,
             "#7201a8"
            ],
            [
             0.3333333333333333,
             "#9c179e"
            ],
            [
             0.4444444444444444,
             "#bd3786"
            ],
            [
             0.5555555555555556,
             "#d8576b"
            ],
            [
             0.6666666666666666,
             "#ed7953"
            ],
            [
             0.7777777777777778,
             "#fb9f3a"
            ],
            [
             0.8888888888888888,
             "#fdca26"
            ],
            [
             1,
             "#f0f921"
            ]
           ]
          },
          "colorway": [
           "#636efa",
           "#EF553B",
           "#00cc96",
           "#ab63fa",
           "#FFA15A",
           "#19d3f3",
           "#FF6692",
           "#B6E880",
           "#FF97FF",
           "#FECB52"
          ],
          "font": {
           "color": "#2a3f5f"
          },
          "geo": {
           "bgcolor": "white",
           "lakecolor": "white",
           "landcolor": "#E5ECF6",
           "showlakes": true,
           "showland": true,
           "subunitcolor": "white"
          },
          "hoverlabel": {
           "align": "left"
          },
          "hovermode": "closest",
          "mapbox": {
           "style": "light"
          },
          "paper_bgcolor": "white",
          "plot_bgcolor": "#E5ECF6",
          "polar": {
           "angularaxis": {
            "gridcolor": "white",
            "linecolor": "white",
            "ticks": ""
           },
           "bgcolor": "#E5ECF6",
           "radialaxis": {
            "gridcolor": "white",
            "linecolor": "white",
            "ticks": ""
           }
          },
          "scene": {
           "xaxis": {
            "backgroundcolor": "#E5ECF6",
            "gridcolor": "white",
            "gridwidth": 2,
            "linecolor": "white",
            "showbackground": true,
            "ticks": "",
            "zerolinecolor": "white"
           },
           "yaxis": {
            "backgroundcolor": "#E5ECF6",
            "gridcolor": "white",
            "gridwidth": 2,
            "linecolor": "white",
            "showbackground": true,
            "ticks": "",
            "zerolinecolor": "white"
           },
           "zaxis": {
            "backgroundcolor": "#E5ECF6",
            "gridcolor": "white",
            "gridwidth": 2,
            "linecolor": "white",
            "showbackground": true,
            "ticks": "",
            "zerolinecolor": "white"
           }
          },
          "shapedefaults": {
           "line": {
            "color": "#2a3f5f"
           }
          },
          "ternary": {
           "aaxis": {
            "gridcolor": "white",
            "linecolor": "white",
            "ticks": ""
           },
           "baxis": {
            "gridcolor": "white",
            "linecolor": "white",
            "ticks": ""
           },
           "bgcolor": "#E5ECF6",
           "caxis": {
            "gridcolor": "white",
            "linecolor": "white",
            "ticks": ""
           }
          },
          "title": {
           "x": 0.05
          },
          "xaxis": {
           "automargin": true,
           "gridcolor": "white",
           "linecolor": "white",
           "ticks": "",
           "title": {
            "standoff": 15
           },
           "zerolinecolor": "white",
           "zerolinewidth": 2
          },
          "yaxis": {
           "automargin": true,
           "gridcolor": "white",
           "linecolor": "white",
           "ticks": "",
           "title": {
            "standoff": 15
           },
           "zerolinecolor": "white",
           "zerolinewidth": 2
          }
         }
        },
        "title": {
         "text": "Varianza de las Variables Utilizadas (Ordenadas de Mayor a Menor)"
        },
        "xaxis": {
         "anchor": "y",
         "domain": [
          0,
          1
         ],
         "title": {
          "text": "Varianza"
         }
        },
        "yaxis": {
         "anchor": "x",
         "domain": [
          0,
          1
         ],
         "title": {
          "text": "Variables"
         }
        }
       }
      }
     },
     "metadata": {},
     "output_type": "display_data"
    }
   ],
   "source": [
    "variance_of_used_columns = X_train_transformed_df.var()\n",
    "\n",
    "variance_of_used_columns_sorted = variance_of_used_columns.sort_values(ascending=True)\n",
    "\n",
    "fig = px.bar(variance_of_used_columns_sorted, orientation='h', labels={'value': 'Varianza', 'index': 'Variables'},\n",
    "             title='Varianza de las Variables Utilizadas (Ordenadas de Mayor a Menor)')\n",
    "\n",
    "fig.show()"
   ]
  },
  {
   "cell_type": "code",
   "execution_count": 9,
   "metadata": {},
   "outputs": [
    {
     "data": {
      "text/html": [
       "<style>#sk-container-id-1 {\n",
       "  /* Definition of color scheme common for light and dark mode */\n",
       "  --sklearn-color-text: black;\n",
       "  --sklearn-color-line: gray;\n",
       "  /* Definition of color scheme for unfitted estimators */\n",
       "  --sklearn-color-unfitted-level-0: #fff5e6;\n",
       "  --sklearn-color-unfitted-level-1: #f6e4d2;\n",
       "  --sklearn-color-unfitted-level-2: #ffe0b3;\n",
       "  --sklearn-color-unfitted-level-3: chocolate;\n",
       "  /* Definition of color scheme for fitted estimators */\n",
       "  --sklearn-color-fitted-level-0: #f0f8ff;\n",
       "  --sklearn-color-fitted-level-1: #d4ebff;\n",
       "  --sklearn-color-fitted-level-2: #b3dbfd;\n",
       "  --sklearn-color-fitted-level-3: cornflowerblue;\n",
       "\n",
       "  /* Specific color for light theme */\n",
       "  --sklearn-color-text-on-default-background: var(--sg-text-color, var(--theme-code-foreground, var(--jp-content-font-color1, black)));\n",
       "  --sklearn-color-background: var(--sg-background-color, var(--theme-background, var(--jp-layout-color0, white)));\n",
       "  --sklearn-color-border-box: var(--sg-text-color, var(--theme-code-foreground, var(--jp-content-font-color1, black)));\n",
       "  --sklearn-color-icon: #696969;\n",
       "\n",
       "  @media (prefers-color-scheme: dark) {\n",
       "    /* Redefinition of color scheme for dark theme */\n",
       "    --sklearn-color-text-on-default-background: var(--sg-text-color, var(--theme-code-foreground, var(--jp-content-font-color1, white)));\n",
       "    --sklearn-color-background: var(--sg-background-color, var(--theme-background, var(--jp-layout-color0, #111)));\n",
       "    --sklearn-color-border-box: var(--sg-text-color, var(--theme-code-foreground, var(--jp-content-font-color1, white)));\n",
       "    --sklearn-color-icon: #878787;\n",
       "  }\n",
       "}\n",
       "\n",
       "#sk-container-id-1 {\n",
       "  color: var(--sklearn-color-text);\n",
       "}\n",
       "\n",
       "#sk-container-id-1 pre {\n",
       "  padding: 0;\n",
       "}\n",
       "\n",
       "#sk-container-id-1 input.sk-hidden--visually {\n",
       "  border: 0;\n",
       "  clip: rect(1px 1px 1px 1px);\n",
       "  clip: rect(1px, 1px, 1px, 1px);\n",
       "  height: 1px;\n",
       "  margin: -1px;\n",
       "  overflow: hidden;\n",
       "  padding: 0;\n",
       "  position: absolute;\n",
       "  width: 1px;\n",
       "}\n",
       "\n",
       "#sk-container-id-1 div.sk-dashed-wrapped {\n",
       "  border: 1px dashed var(--sklearn-color-line);\n",
       "  margin: 0 0.4em 0.5em 0.4em;\n",
       "  box-sizing: border-box;\n",
       "  padding-bottom: 0.4em;\n",
       "  background-color: var(--sklearn-color-background);\n",
       "}\n",
       "\n",
       "#sk-container-id-1 div.sk-container {\n",
       "  /* jupyter's `normalize.less` sets `[hidden] { display: none; }`\n",
       "     but bootstrap.min.css set `[hidden] { display: none !important; }`\n",
       "     so we also need the `!important` here to be able to override the\n",
       "     default hidden behavior on the sphinx rendered scikit-learn.org.\n",
       "     See: https://github.com/scikit-learn/scikit-learn/issues/21755 */\n",
       "  display: inline-block !important;\n",
       "  position: relative;\n",
       "}\n",
       "\n",
       "#sk-container-id-1 div.sk-text-repr-fallback {\n",
       "  display: none;\n",
       "}\n",
       "\n",
       "div.sk-parallel-item,\n",
       "div.sk-serial,\n",
       "div.sk-item {\n",
       "  /* draw centered vertical line to link estimators */\n",
       "  background-image: linear-gradient(var(--sklearn-color-text-on-default-background), var(--sklearn-color-text-on-default-background));\n",
       "  background-size: 2px 100%;\n",
       "  background-repeat: no-repeat;\n",
       "  background-position: center center;\n",
       "}\n",
       "\n",
       "/* Parallel-specific style estimator block */\n",
       "\n",
       "#sk-container-id-1 div.sk-parallel-item::after {\n",
       "  content: \"\";\n",
       "  width: 100%;\n",
       "  border-bottom: 2px solid var(--sklearn-color-text-on-default-background);\n",
       "  flex-grow: 1;\n",
       "}\n",
       "\n",
       "#sk-container-id-1 div.sk-parallel {\n",
       "  display: flex;\n",
       "  align-items: stretch;\n",
       "  justify-content: center;\n",
       "  background-color: var(--sklearn-color-background);\n",
       "  position: relative;\n",
       "}\n",
       "\n",
       "#sk-container-id-1 div.sk-parallel-item {\n",
       "  display: flex;\n",
       "  flex-direction: column;\n",
       "}\n",
       "\n",
       "#sk-container-id-1 div.sk-parallel-item:first-child::after {\n",
       "  align-self: flex-end;\n",
       "  width: 50%;\n",
       "}\n",
       "\n",
       "#sk-container-id-1 div.sk-parallel-item:last-child::after {\n",
       "  align-self: flex-start;\n",
       "  width: 50%;\n",
       "}\n",
       "\n",
       "#sk-container-id-1 div.sk-parallel-item:only-child::after {\n",
       "  width: 0;\n",
       "}\n",
       "\n",
       "/* Serial-specific style estimator block */\n",
       "\n",
       "#sk-container-id-1 div.sk-serial {\n",
       "  display: flex;\n",
       "  flex-direction: column;\n",
       "  align-items: center;\n",
       "  background-color: var(--sklearn-color-background);\n",
       "  padding-right: 1em;\n",
       "  padding-left: 1em;\n",
       "}\n",
       "\n",
       "\n",
       "/* Toggleable style: style used for estimator/Pipeline/ColumnTransformer box that is\n",
       "clickable and can be expanded/collapsed.\n",
       "- Pipeline and ColumnTransformer use this feature and define the default style\n",
       "- Estimators will overwrite some part of the style using the `sk-estimator` class\n",
       "*/\n",
       "\n",
       "/* Pipeline and ColumnTransformer style (default) */\n",
       "\n",
       "#sk-container-id-1 div.sk-toggleable {\n",
       "  /* Default theme specific background. It is overwritten whether we have a\n",
       "  specific estimator or a Pipeline/ColumnTransformer */\n",
       "  background-color: var(--sklearn-color-background);\n",
       "}\n",
       "\n",
       "/* Toggleable label */\n",
       "#sk-container-id-1 label.sk-toggleable__label {\n",
       "  cursor: pointer;\n",
       "  display: block;\n",
       "  width: 100%;\n",
       "  margin-bottom: 0;\n",
       "  padding: 0.5em;\n",
       "  box-sizing: border-box;\n",
       "  text-align: center;\n",
       "}\n",
       "\n",
       "#sk-container-id-1 label.sk-toggleable__label-arrow:before {\n",
       "  /* Arrow on the left of the label */\n",
       "  content: \"▸\";\n",
       "  float: left;\n",
       "  margin-right: 0.25em;\n",
       "  color: var(--sklearn-color-icon);\n",
       "}\n",
       "\n",
       "#sk-container-id-1 label.sk-toggleable__label-arrow:hover:before {\n",
       "  color: var(--sklearn-color-text);\n",
       "}\n",
       "\n",
       "/* Toggleable content - dropdown */\n",
       "\n",
       "#sk-container-id-1 div.sk-toggleable__content {\n",
       "  max-height: 0;\n",
       "  max-width: 0;\n",
       "  overflow: hidden;\n",
       "  text-align: left;\n",
       "  /* unfitted */\n",
       "  background-color: var(--sklearn-color-unfitted-level-0);\n",
       "}\n",
       "\n",
       "#sk-container-id-1 div.sk-toggleable__content.fitted {\n",
       "  /* fitted */\n",
       "  background-color: var(--sklearn-color-fitted-level-0);\n",
       "}\n",
       "\n",
       "#sk-container-id-1 div.sk-toggleable__content pre {\n",
       "  margin: 0.2em;\n",
       "  border-radius: 0.25em;\n",
       "  color: var(--sklearn-color-text);\n",
       "  /* unfitted */\n",
       "  background-color: var(--sklearn-color-unfitted-level-0);\n",
       "}\n",
       "\n",
       "#sk-container-id-1 div.sk-toggleable__content.fitted pre {\n",
       "  /* unfitted */\n",
       "  background-color: var(--sklearn-color-fitted-level-0);\n",
       "}\n",
       "\n",
       "#sk-container-id-1 input.sk-toggleable__control:checked~div.sk-toggleable__content {\n",
       "  /* Expand drop-down */\n",
       "  max-height: 200px;\n",
       "  max-width: 100%;\n",
       "  overflow: auto;\n",
       "}\n",
       "\n",
       "#sk-container-id-1 input.sk-toggleable__control:checked~label.sk-toggleable__label-arrow:before {\n",
       "  content: \"▾\";\n",
       "}\n",
       "\n",
       "/* Pipeline/ColumnTransformer-specific style */\n",
       "\n",
       "#sk-container-id-1 div.sk-label input.sk-toggleable__control:checked~label.sk-toggleable__label {\n",
       "  color: var(--sklearn-color-text);\n",
       "  background-color: var(--sklearn-color-unfitted-level-2);\n",
       "}\n",
       "\n",
       "#sk-container-id-1 div.sk-label.fitted input.sk-toggleable__control:checked~label.sk-toggleable__label {\n",
       "  background-color: var(--sklearn-color-fitted-level-2);\n",
       "}\n",
       "\n",
       "/* Estimator-specific style */\n",
       "\n",
       "/* Colorize estimator box */\n",
       "#sk-container-id-1 div.sk-estimator input.sk-toggleable__control:checked~label.sk-toggleable__label {\n",
       "  /* unfitted */\n",
       "  background-color: var(--sklearn-color-unfitted-level-2);\n",
       "}\n",
       "\n",
       "#sk-container-id-1 div.sk-estimator.fitted input.sk-toggleable__control:checked~label.sk-toggleable__label {\n",
       "  /* fitted */\n",
       "  background-color: var(--sklearn-color-fitted-level-2);\n",
       "}\n",
       "\n",
       "#sk-container-id-1 div.sk-label label.sk-toggleable__label,\n",
       "#sk-container-id-1 div.sk-label label {\n",
       "  /* The background is the default theme color */\n",
       "  color: var(--sklearn-color-text-on-default-background);\n",
       "}\n",
       "\n",
       "/* On hover, darken the color of the background */\n",
       "#sk-container-id-1 div.sk-label:hover label.sk-toggleable__label {\n",
       "  color: var(--sklearn-color-text);\n",
       "  background-color: var(--sklearn-color-unfitted-level-2);\n",
       "}\n",
       "\n",
       "/* Label box, darken color on hover, fitted */\n",
       "#sk-container-id-1 div.sk-label.fitted:hover label.sk-toggleable__label.fitted {\n",
       "  color: var(--sklearn-color-text);\n",
       "  background-color: var(--sklearn-color-fitted-level-2);\n",
       "}\n",
       "\n",
       "/* Estimator label */\n",
       "\n",
       "#sk-container-id-1 div.sk-label label {\n",
       "  font-family: monospace;\n",
       "  font-weight: bold;\n",
       "  display: inline-block;\n",
       "  line-height: 1.2em;\n",
       "}\n",
       "\n",
       "#sk-container-id-1 div.sk-label-container {\n",
       "  text-align: center;\n",
       "}\n",
       "\n",
       "/* Estimator-specific */\n",
       "#sk-container-id-1 div.sk-estimator {\n",
       "  font-family: monospace;\n",
       "  border: 1px dotted var(--sklearn-color-border-box);\n",
       "  border-radius: 0.25em;\n",
       "  box-sizing: border-box;\n",
       "  margin-bottom: 0.5em;\n",
       "  /* unfitted */\n",
       "  background-color: var(--sklearn-color-unfitted-level-0);\n",
       "}\n",
       "\n",
       "#sk-container-id-1 div.sk-estimator.fitted {\n",
       "  /* fitted */\n",
       "  background-color: var(--sklearn-color-fitted-level-0);\n",
       "}\n",
       "\n",
       "/* on hover */\n",
       "#sk-container-id-1 div.sk-estimator:hover {\n",
       "  /* unfitted */\n",
       "  background-color: var(--sklearn-color-unfitted-level-2);\n",
       "}\n",
       "\n",
       "#sk-container-id-1 div.sk-estimator.fitted:hover {\n",
       "  /* fitted */\n",
       "  background-color: var(--sklearn-color-fitted-level-2);\n",
       "}\n",
       "\n",
       "/* Specification for estimator info (e.g. \"i\" and \"?\") */\n",
       "\n",
       "/* Common style for \"i\" and \"?\" */\n",
       "\n",
       ".sk-estimator-doc-link,\n",
       "a:link.sk-estimator-doc-link,\n",
       "a:visited.sk-estimator-doc-link {\n",
       "  float: right;\n",
       "  font-size: smaller;\n",
       "  line-height: 1em;\n",
       "  font-family: monospace;\n",
       "  background-color: var(--sklearn-color-background);\n",
       "  border-radius: 1em;\n",
       "  height: 1em;\n",
       "  width: 1em;\n",
       "  text-decoration: none !important;\n",
       "  margin-left: 1ex;\n",
       "  /* unfitted */\n",
       "  border: var(--sklearn-color-unfitted-level-1) 1pt solid;\n",
       "  color: var(--sklearn-color-unfitted-level-1);\n",
       "}\n",
       "\n",
       ".sk-estimator-doc-link.fitted,\n",
       "a:link.sk-estimator-doc-link.fitted,\n",
       "a:visited.sk-estimator-doc-link.fitted {\n",
       "  /* fitted */\n",
       "  border: var(--sklearn-color-fitted-level-1) 1pt solid;\n",
       "  color: var(--sklearn-color-fitted-level-1);\n",
       "}\n",
       "\n",
       "/* On hover */\n",
       "div.sk-estimator:hover .sk-estimator-doc-link:hover,\n",
       ".sk-estimator-doc-link:hover,\n",
       "div.sk-label-container:hover .sk-estimator-doc-link:hover,\n",
       ".sk-estimator-doc-link:hover {\n",
       "  /* unfitted */\n",
       "  background-color: var(--sklearn-color-unfitted-level-3);\n",
       "  color: var(--sklearn-color-background);\n",
       "  text-decoration: none;\n",
       "}\n",
       "\n",
       "div.sk-estimator.fitted:hover .sk-estimator-doc-link.fitted:hover,\n",
       ".sk-estimator-doc-link.fitted:hover,\n",
       "div.sk-label-container:hover .sk-estimator-doc-link.fitted:hover,\n",
       ".sk-estimator-doc-link.fitted:hover {\n",
       "  /* fitted */\n",
       "  background-color: var(--sklearn-color-fitted-level-3);\n",
       "  color: var(--sklearn-color-background);\n",
       "  text-decoration: none;\n",
       "}\n",
       "\n",
       "/* Span, style for the box shown on hovering the info icon */\n",
       ".sk-estimator-doc-link span {\n",
       "  display: none;\n",
       "  z-index: 9999;\n",
       "  position: relative;\n",
       "  font-weight: normal;\n",
       "  right: .2ex;\n",
       "  padding: .5ex;\n",
       "  margin: .5ex;\n",
       "  width: min-content;\n",
       "  min-width: 20ex;\n",
       "  max-width: 50ex;\n",
       "  color: var(--sklearn-color-text);\n",
       "  box-shadow: 2pt 2pt 4pt #999;\n",
       "  /* unfitted */\n",
       "  background: var(--sklearn-color-unfitted-level-0);\n",
       "  border: .5pt solid var(--sklearn-color-unfitted-level-3);\n",
       "}\n",
       "\n",
       ".sk-estimator-doc-link.fitted span {\n",
       "  /* fitted */\n",
       "  background: var(--sklearn-color-fitted-level-0);\n",
       "  border: var(--sklearn-color-fitted-level-3);\n",
       "}\n",
       "\n",
       ".sk-estimator-doc-link:hover span {\n",
       "  display: block;\n",
       "}\n",
       "\n",
       "/* \"?\"-specific style due to the `<a>` HTML tag */\n",
       "\n",
       "#sk-container-id-1 a.estimator_doc_link {\n",
       "  float: right;\n",
       "  font-size: 1rem;\n",
       "  line-height: 1em;\n",
       "  font-family: monospace;\n",
       "  background-color: var(--sklearn-color-background);\n",
       "  border-radius: 1rem;\n",
       "  height: 1rem;\n",
       "  width: 1rem;\n",
       "  text-decoration: none;\n",
       "  /* unfitted */\n",
       "  color: var(--sklearn-color-unfitted-level-1);\n",
       "  border: var(--sklearn-color-unfitted-level-1) 1pt solid;\n",
       "}\n",
       "\n",
       "#sk-container-id-1 a.estimator_doc_link.fitted {\n",
       "  /* fitted */\n",
       "  border: var(--sklearn-color-fitted-level-1) 1pt solid;\n",
       "  color: var(--sklearn-color-fitted-level-1);\n",
       "}\n",
       "\n",
       "/* On hover */\n",
       "#sk-container-id-1 a.estimator_doc_link:hover {\n",
       "  /* unfitted */\n",
       "  background-color: var(--sklearn-color-unfitted-level-3);\n",
       "  color: var(--sklearn-color-background);\n",
       "  text-decoration: none;\n",
       "}\n",
       "\n",
       "#sk-container-id-1 a.estimator_doc_link.fitted:hover {\n",
       "  /* fitted */\n",
       "  background-color: var(--sklearn-color-fitted-level-3);\n",
       "}\n",
       "</style><div id=\"sk-container-id-1\" class=\"sk-top-container\"><div class=\"sk-text-repr-fallback\"><pre>Pipeline(steps=[(&#x27;preprocessor&#x27;,\n",
       "                 ColumnTransformer(transformers=[(&#x27;num&#x27;,\n",
       "                                                  Pipeline(steps=[(&#x27;imputer&#x27;,\n",
       "                                                                   SimpleImputer()),\n",
       "                                                                  (&#x27;scaler&#x27;,\n",
       "                                                                   StandardScaler())]),\n",
       "                                                  Index([&#x27;rating&#x27;, &#x27;viaje_id&#x27;, &#x27;latitud_final&#x27;, &#x27;longitud_final&#x27;,\n",
       "       &#x27;anio_fabricacion&#x27;, &#x27;puntos_carnet&#x27;, &#x27;cilindraje_motor&#x27;, &#x27;kilometraje&#x27;,\n",
       "       &#x27;anio_registro_app&#x27;, &#x27;edad_cliente&#x27;],\n",
       "      dtype=&#x27;object&#x27;)),\n",
       "                                                 (&#x27;cat&#x27;,\n",
       "                                                  Pipeline(steps=[(...\n",
       "                              feature_types=None, gamma=None, grow_policy=None,\n",
       "                              importance_type=None,\n",
       "                              interaction_constraints=None, learning_rate=0.05,\n",
       "                              max_bin=None, max_cat_threshold=None,\n",
       "                              max_cat_to_onehot=None, max_delta_step=None,\n",
       "                              max_depth=6, max_leaves=None,\n",
       "                              min_child_weight=None, missing=nan,\n",
       "                              monotone_constraints=None, multi_strategy=None,\n",
       "                              n_estimators=400, n_jobs=None,\n",
       "                              num_parallel_tree=None, random_state=42, ...))])</pre><b>In a Jupyter environment, please rerun this cell to show the HTML representation or trust the notebook. <br />On GitHub, the HTML representation is unable to render, please try loading this page with nbviewer.org.</b></div><div class=\"sk-container\" hidden><div class=\"sk-item sk-dashed-wrapped\"><div class=\"sk-label-container\"><div class=\"sk-label fitted sk-toggleable\"><input class=\"sk-toggleable__control sk-hidden--visually\" id=\"sk-estimator-id-1\" type=\"checkbox\" ><label for=\"sk-estimator-id-1\" class=\"sk-toggleable__label fitted sk-toggleable__label-arrow fitted\">&nbsp;&nbsp;Pipeline<a class=\"sk-estimator-doc-link fitted\" rel=\"noreferrer\" target=\"_blank\" href=\"https://scikit-learn.org/1.4/modules/generated/sklearn.pipeline.Pipeline.html\">?<span>Documentation for Pipeline</span></a><span class=\"sk-estimator-doc-link fitted\">i<span>Fitted</span></span></label><div class=\"sk-toggleable__content fitted\"><pre>Pipeline(steps=[(&#x27;preprocessor&#x27;,\n",
       "                 ColumnTransformer(transformers=[(&#x27;num&#x27;,\n",
       "                                                  Pipeline(steps=[(&#x27;imputer&#x27;,\n",
       "                                                                   SimpleImputer()),\n",
       "                                                                  (&#x27;scaler&#x27;,\n",
       "                                                                   StandardScaler())]),\n",
       "                                                  Index([&#x27;rating&#x27;, &#x27;viaje_id&#x27;, &#x27;latitud_final&#x27;, &#x27;longitud_final&#x27;,\n",
       "       &#x27;anio_fabricacion&#x27;, &#x27;puntos_carnet&#x27;, &#x27;cilindraje_motor&#x27;, &#x27;kilometraje&#x27;,\n",
       "       &#x27;anio_registro_app&#x27;, &#x27;edad_cliente&#x27;],\n",
       "      dtype=&#x27;object&#x27;)),\n",
       "                                                 (&#x27;cat&#x27;,\n",
       "                                                  Pipeline(steps=[(...\n",
       "                              feature_types=None, gamma=None, grow_policy=None,\n",
       "                              importance_type=None,\n",
       "                              interaction_constraints=None, learning_rate=0.05,\n",
       "                              max_bin=None, max_cat_threshold=None,\n",
       "                              max_cat_to_onehot=None, max_delta_step=None,\n",
       "                              max_depth=6, max_leaves=None,\n",
       "                              min_child_weight=None, missing=nan,\n",
       "                              monotone_constraints=None, multi_strategy=None,\n",
       "                              n_estimators=400, n_jobs=None,\n",
       "                              num_parallel_tree=None, random_state=42, ...))])</pre></div> </div></div><div class=\"sk-serial\"><div class=\"sk-item sk-dashed-wrapped\"><div class=\"sk-label-container\"><div class=\"sk-label fitted sk-toggleable\"><input class=\"sk-toggleable__control sk-hidden--visually\" id=\"sk-estimator-id-2\" type=\"checkbox\" ><label for=\"sk-estimator-id-2\" class=\"sk-toggleable__label fitted sk-toggleable__label-arrow fitted\">&nbsp;preprocessor: ColumnTransformer<a class=\"sk-estimator-doc-link fitted\" rel=\"noreferrer\" target=\"_blank\" href=\"https://scikit-learn.org/1.4/modules/generated/sklearn.compose.ColumnTransformer.html\">?<span>Documentation for preprocessor: ColumnTransformer</span></a></label><div class=\"sk-toggleable__content fitted\"><pre>ColumnTransformer(transformers=[(&#x27;num&#x27;,\n",
       "                                 Pipeline(steps=[(&#x27;imputer&#x27;, SimpleImputer()),\n",
       "                                                 (&#x27;scaler&#x27;, StandardScaler())]),\n",
       "                                 Index([&#x27;rating&#x27;, &#x27;viaje_id&#x27;, &#x27;latitud_final&#x27;, &#x27;longitud_final&#x27;,\n",
       "       &#x27;anio_fabricacion&#x27;, &#x27;puntos_carnet&#x27;, &#x27;cilindraje_motor&#x27;, &#x27;kilometraje&#x27;,\n",
       "       &#x27;anio_registro_app&#x27;, &#x27;edad_cliente&#x27;],\n",
       "      dtype=&#x27;object&#x27;)),\n",
       "                                (&#x27;cat&#x27;,\n",
       "                                 Pipeline(steps=[(&#x27;imputer&#x27;,\n",
       "                                                  SimpleImputer(strategy=&#x27;most_frequent&#x27;)),\n",
       "                                                 (&#x27;onehot&#x27;,\n",
       "                                                  OneHotEncoder(handle_unknown=&#x27;ignore&#x27;))]),\n",
       "                                 Index([&#x27;metodo_pago&#x27;, &#x27;marca_coche&#x27;, &#x27;color_coche&#x27;, &#x27;tipo_combustible&#x27;,\n",
       "       &#x27;genero_cliente&#x27;, &#x27;trabajo_cliente&#x27;],\n",
       "      dtype=&#x27;object&#x27;)),\n",
       "                                (&#x27;bool&#x27;,\n",
       "                                 Pipeline(steps=[(&#x27;imputer&#x27;,\n",
       "                                                  SimpleImputer(strategy=&#x27;most_frequent&#x27;))]),\n",
       "                                 Index([&#x27;tiene_calefaccion&#x27;], dtype=&#x27;object&#x27;))])</pre></div> </div></div><div class=\"sk-parallel\"><div class=\"sk-parallel-item\"><div class=\"sk-item\"><div class=\"sk-label-container\"><div class=\"sk-label fitted sk-toggleable\"><input class=\"sk-toggleable__control sk-hidden--visually\" id=\"sk-estimator-id-3\" type=\"checkbox\" ><label for=\"sk-estimator-id-3\" class=\"sk-toggleable__label fitted sk-toggleable__label-arrow fitted\">num</label><div class=\"sk-toggleable__content fitted\"><pre>Index([&#x27;rating&#x27;, &#x27;viaje_id&#x27;, &#x27;latitud_final&#x27;, &#x27;longitud_final&#x27;,\n",
       "       &#x27;anio_fabricacion&#x27;, &#x27;puntos_carnet&#x27;, &#x27;cilindraje_motor&#x27;, &#x27;kilometraje&#x27;,\n",
       "       &#x27;anio_registro_app&#x27;, &#x27;edad_cliente&#x27;],\n",
       "      dtype=&#x27;object&#x27;)</pre></div> </div></div><div class=\"sk-serial\"><div class=\"sk-item\"><div class=\"sk-serial\"><div class=\"sk-item\"><div class=\"sk-estimator fitted sk-toggleable\"><input class=\"sk-toggleable__control sk-hidden--visually\" id=\"sk-estimator-id-4\" type=\"checkbox\" ><label for=\"sk-estimator-id-4\" class=\"sk-toggleable__label fitted sk-toggleable__label-arrow fitted\">&nbsp;SimpleImputer<a class=\"sk-estimator-doc-link fitted\" rel=\"noreferrer\" target=\"_blank\" href=\"https://scikit-learn.org/1.4/modules/generated/sklearn.impute.SimpleImputer.html\">?<span>Documentation for SimpleImputer</span></a></label><div class=\"sk-toggleable__content fitted\"><pre>SimpleImputer()</pre></div> </div></div><div class=\"sk-item\"><div class=\"sk-estimator fitted sk-toggleable\"><input class=\"sk-toggleable__control sk-hidden--visually\" id=\"sk-estimator-id-5\" type=\"checkbox\" ><label for=\"sk-estimator-id-5\" class=\"sk-toggleable__label fitted sk-toggleable__label-arrow fitted\">&nbsp;StandardScaler<a class=\"sk-estimator-doc-link fitted\" rel=\"noreferrer\" target=\"_blank\" href=\"https://scikit-learn.org/1.4/modules/generated/sklearn.preprocessing.StandardScaler.html\">?<span>Documentation for StandardScaler</span></a></label><div class=\"sk-toggleable__content fitted\"><pre>StandardScaler()</pre></div> </div></div></div></div></div></div></div><div class=\"sk-parallel-item\"><div class=\"sk-item\"><div class=\"sk-label-container\"><div class=\"sk-label fitted sk-toggleable\"><input class=\"sk-toggleable__control sk-hidden--visually\" id=\"sk-estimator-id-6\" type=\"checkbox\" ><label for=\"sk-estimator-id-6\" class=\"sk-toggleable__label fitted sk-toggleable__label-arrow fitted\">cat</label><div class=\"sk-toggleable__content fitted\"><pre>Index([&#x27;metodo_pago&#x27;, &#x27;marca_coche&#x27;, &#x27;color_coche&#x27;, &#x27;tipo_combustible&#x27;,\n",
       "       &#x27;genero_cliente&#x27;, &#x27;trabajo_cliente&#x27;],\n",
       "      dtype=&#x27;object&#x27;)</pre></div> </div></div><div class=\"sk-serial\"><div class=\"sk-item\"><div class=\"sk-serial\"><div class=\"sk-item\"><div class=\"sk-estimator fitted sk-toggleable\"><input class=\"sk-toggleable__control sk-hidden--visually\" id=\"sk-estimator-id-7\" type=\"checkbox\" ><label for=\"sk-estimator-id-7\" class=\"sk-toggleable__label fitted sk-toggleable__label-arrow fitted\">&nbsp;SimpleImputer<a class=\"sk-estimator-doc-link fitted\" rel=\"noreferrer\" target=\"_blank\" href=\"https://scikit-learn.org/1.4/modules/generated/sklearn.impute.SimpleImputer.html\">?<span>Documentation for SimpleImputer</span></a></label><div class=\"sk-toggleable__content fitted\"><pre>SimpleImputer(strategy=&#x27;most_frequent&#x27;)</pre></div> </div></div><div class=\"sk-item\"><div class=\"sk-estimator fitted sk-toggleable\"><input class=\"sk-toggleable__control sk-hidden--visually\" id=\"sk-estimator-id-8\" type=\"checkbox\" ><label for=\"sk-estimator-id-8\" class=\"sk-toggleable__label fitted sk-toggleable__label-arrow fitted\">&nbsp;OneHotEncoder<a class=\"sk-estimator-doc-link fitted\" rel=\"noreferrer\" target=\"_blank\" href=\"https://scikit-learn.org/1.4/modules/generated/sklearn.preprocessing.OneHotEncoder.html\">?<span>Documentation for OneHotEncoder</span></a></label><div class=\"sk-toggleable__content fitted\"><pre>OneHotEncoder(handle_unknown=&#x27;ignore&#x27;)</pre></div> </div></div></div></div></div></div></div><div class=\"sk-parallel-item\"><div class=\"sk-item\"><div class=\"sk-label-container\"><div class=\"sk-label fitted sk-toggleable\"><input class=\"sk-toggleable__control sk-hidden--visually\" id=\"sk-estimator-id-9\" type=\"checkbox\" ><label for=\"sk-estimator-id-9\" class=\"sk-toggleable__label fitted sk-toggleable__label-arrow fitted\">bool</label><div class=\"sk-toggleable__content fitted\"><pre>Index([&#x27;tiene_calefaccion&#x27;], dtype=&#x27;object&#x27;)</pre></div> </div></div><div class=\"sk-serial\"><div class=\"sk-item\"><div class=\"sk-serial\"><div class=\"sk-item\"><div class=\"sk-estimator fitted sk-toggleable\"><input class=\"sk-toggleable__control sk-hidden--visually\" id=\"sk-estimator-id-10\" type=\"checkbox\" ><label for=\"sk-estimator-id-10\" class=\"sk-toggleable__label fitted sk-toggleable__label-arrow fitted\">&nbsp;SimpleImputer<a class=\"sk-estimator-doc-link fitted\" rel=\"noreferrer\" target=\"_blank\" href=\"https://scikit-learn.org/1.4/modules/generated/sklearn.impute.SimpleImputer.html\">?<span>Documentation for SimpleImputer</span></a></label><div class=\"sk-toggleable__content fitted\"><pre>SimpleImputer(strategy=&#x27;most_frequent&#x27;)</pre></div> </div></div></div></div></div></div></div></div></div><div class=\"sk-item\"><div class=\"sk-estimator fitted sk-toggleable\"><input class=\"sk-toggleable__control sk-hidden--visually\" id=\"sk-estimator-id-11\" type=\"checkbox\" ><label for=\"sk-estimator-id-11\" class=\"sk-toggleable__label fitted sk-toggleable__label-arrow fitted\">XGBRegressor</label><div class=\"sk-toggleable__content fitted\"><pre>XGBRegressor(base_score=None, booster=None, callbacks=None,\n",
       "             colsample_bylevel=None, colsample_bynode=None,\n",
       "             colsample_bytree=1.0, device=None, early_stopping_rounds=None,\n",
       "             enable_categorical=False, eval_metric=None, feature_types=None,\n",
       "             gamma=None, grow_policy=None, importance_type=None,\n",
       "             interaction_constraints=None, learning_rate=0.05, max_bin=None,\n",
       "             max_cat_threshold=None, max_cat_to_onehot=None,\n",
       "             max_delta_step=None, max_depth=6, max_leaves=None,\n",
       "             min_child_weight=None, missing=nan, monotone_constraints=None,\n",
       "             multi_strategy=None, n_estimators=400, n_jobs=None,\n",
       "             num_parallel_tree=None, random_state=42, ...)</pre></div> </div></div></div></div></div></div>"
      ],
      "text/plain": [
       "Pipeline(steps=[('preprocessor',\n",
       "                 ColumnTransformer(transformers=[('num',\n",
       "                                                  Pipeline(steps=[('imputer',\n",
       "                                                                   SimpleImputer()),\n",
       "                                                                  ('scaler',\n",
       "                                                                   StandardScaler())]),\n",
       "                                                  Index(['rating', 'viaje_id', 'latitud_final', 'longitud_final',\n",
       "       'anio_fabricacion', 'puntos_carnet', 'cilindraje_motor', 'kilometraje',\n",
       "       'anio_registro_app', 'edad_cliente'],\n",
       "      dtype='object')),\n",
       "                                                 ('cat',\n",
       "                                                  Pipeline(steps=[(...\n",
       "                              feature_types=None, gamma=None, grow_policy=None,\n",
       "                              importance_type=None,\n",
       "                              interaction_constraints=None, learning_rate=0.05,\n",
       "                              max_bin=None, max_cat_threshold=None,\n",
       "                              max_cat_to_onehot=None, max_delta_step=None,\n",
       "                              max_depth=6, max_leaves=None,\n",
       "                              min_child_weight=None, missing=nan,\n",
       "                              monotone_constraints=None, multi_strategy=None,\n",
       "                              n_estimators=400, n_jobs=None,\n",
       "                              num_parallel_tree=None, random_state=42, ...))])"
      ]
     },
     "execution_count": 9,
     "metadata": {},
     "output_type": "execute_result"
    }
   ],
   "source": [
    "best_model"
   ]
  },
  {
   "cell_type": "code",
   "execution_count": 10,
   "metadata": {},
   "outputs": [
    {
     "data": {
      "text/plain": [
       "['modelo_final.joblib']"
      ]
     },
     "execution_count": 10,
     "metadata": {},
     "output_type": "execute_result"
    }
   ],
   "source": [
    "import joblib\n",
    "\n",
    "joblib.dump(best_model, 'modelo_final.joblib')"
   ]
  },
  {
   "cell_type": "code",
   "execution_count": 11,
   "metadata": {},
   "outputs": [
    {
     "name": "stdout",
     "output_type": "stream",
     "text": [
      "Predicción de pago de viaje para el cliente: 4.008509635925293\n"
     ]
    }
   ],
   "source": [
    "cliente_data = {\n",
    "    'rating': [8.0],\n",
    "    'metodo_pago': ['Tarjeta'],\n",
    "    'viaje_id': [23],\n",
    "    'latitud_final': [39.47947],\n",
    "    'longitud_final': [-0.37594],\n",
    "    'timestamp': ['2024-02-17 11:10:33.369962+00:00'],\n",
    "    'marca_coche': ['BMW'],\n",
    "    'color_coche': ['Marrón siena'],\n",
    "    'anio_fabricacion': [2020],\n",
    "    'tipo_combustible': ['Híbrido'],\n",
    "    'tiene_calefaccion': [1],\n",
    "    'puntos_carnet': [11],\n",
    "    'cilindraje_motor': [2500],\n",
    "    'kilometraje': [42353],\n",
    "    'anio_registro_app': [2022],\n",
    "    'edad_cliente': [48],\n",
    "    'genero_cliente': ['mujer'],\n",
    "    'trabajo_cliente': ['Parquetero y colocador de suelos'],\n",
    "    'fecha_registro': ['2023-09-24']\n",
    "}\n",
    "\n",
    "cliente_df = pd.DataFrame(cliente_data)\n",
    "\n",
    "prediction = best_model.predict(cliente_df)\n",
    "\n",
    "print(f'Predicción de pago de viaje para el cliente: {prediction[0]}')\n"
   ]
  }
 ],
 "metadata": {
  "kernelspec": {
   "display_name": "Python 3",
   "language": "python",
   "name": "python3"
  },
  "language_info": {
   "codemirror_mode": {
    "name": "ipython",
    "version": 3
   },
   "file_extension": ".py",
   "mimetype": "text/x-python",
   "name": "python",
   "nbconvert_exporter": "python",
   "pygments_lexer": "ipython3",
   "version": "3.11.8"
  }
 },
 "nbformat": 4,
 "nbformat_minor": 2
}
