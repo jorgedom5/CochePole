{
 "cells": [
  {
   "cell_type": "code",
   "execution_count": 1,
   "metadata": {},
   "outputs": [],
   "source": [
    "import pandas as pd\n",
    "import numpy as np\n",
    "import matplotlib.pyplot as plt\n",
    "from google.cloud import bigquery\n",
    "import plotly.express as px\n",
    "import plotly.graph_objects as go\n",
    "import seaborn as sns"
   ]
  },
  {
   "cell_type": "code",
   "execution_count": 2,
   "metadata": {},
   "outputs": [
    {
     "data": {
      "text/plain": [
       "cliente_id                         Int64\n",
       "rating                           float64\n",
       "metodo_pago                       object\n",
       "pago_viaje                       float64\n",
       "viaje_id                           Int64\n",
       "vehiculo_id                        Int64\n",
       "latitud                          float64\n",
       "longitud                         float64\n",
       "latitud_final                    float64\n",
       "longitud_final                   float64\n",
       "timestamp            datetime64[ns, UTC]\n",
       "nombre_conductor                  object\n",
       "marca_coche                       object\n",
       "color_coche                       object\n",
       "anio_fabricacion                   Int64\n",
       "tipo_combustible                  object\n",
       "tiene_calefaccion                boolean\n",
       "puntos_carnet                      Int64\n",
       "cilindraje_motor                   Int64\n",
       "kilometraje                        Int64\n",
       "anio_registro_app                  Int64\n",
       "nombre_cliente                    object\n",
       "apellido_cliente                  object\n",
       "edad_cliente                       Int64\n",
       "genero_cliente                    object\n",
       "direccion_cliente                 object\n",
       "trabajo_cliente                   object\n",
       "fecha_registro            datetime64[ns]\n",
       "dtype: object"
      ]
     },
     "execution_count": 2,
     "metadata": {},
     "output_type": "execute_result"
    }
   ],
   "source": [
    "client = bigquery.Client(project='dataproject-2-413010')\n",
    "\n",
    "## QUERY\n",
    "\n",
    "query_df = \"\"\"\n",
    "SELECT p.*, \n",
    "v.nombre_conductor, v.marca_coche, v.color_coche, v.anio_fabricacion, \n",
    "v.tipo_combustible, v.tiene_calefaccion, v.puntos_carnet, v.cilindraje_motor, v.kilometraje, v.anio_registro_app,\n",
    "c.nombre_cliente, c.apellido_cliente, c.edad_cliente, c.genero_cliente,\n",
    "c.direccion_cliente, c.trabajo_cliente, c.fecha_registro,\n",
    "FROM dataproject-2-413010.BBDD.CochePole_BD p\n",
    "left join dataproject-2-413010.BBDD.tabla_vehiculos v on p.vehiculo_id = v.vehiculo_id\n",
    "left join dataproject-2-413010.BBDD.tabla_clientes c on p.cliente_id = c.cliente_id\n",
    "\"\"\"\n",
    "\n",
    "df = client.query(query_df).to_dataframe()\n",
    "\n",
    "df.dtypes"
   ]
  },
  {
   "cell_type": "code",
   "execution_count": 3,
   "metadata": {},
   "outputs": [
    {
     "data": {
      "text/html": [
       "<div>\n",
       "<style scoped>\n",
       "    .dataframe tbody tr th:only-of-type {\n",
       "        vertical-align: middle;\n",
       "    }\n",
       "\n",
       "    .dataframe tbody tr th {\n",
       "        vertical-align: top;\n",
       "    }\n",
       "\n",
       "    .dataframe thead th {\n",
       "        text-align: right;\n",
       "    }\n",
       "</style>\n",
       "<table border=\"1\" class=\"dataframe\">\n",
       "  <thead>\n",
       "    <tr style=\"text-align: right;\">\n",
       "      <th></th>\n",
       "      <th>cliente_id</th>\n",
       "      <th>rating</th>\n",
       "      <th>metodo_pago</th>\n",
       "      <th>pago_viaje</th>\n",
       "      <th>viaje_id</th>\n",
       "      <th>vehiculo_id</th>\n",
       "      <th>latitud</th>\n",
       "      <th>longitud</th>\n",
       "      <th>latitud_final</th>\n",
       "      <th>longitud_final</th>\n",
       "      <th>timestamp</th>\n",
       "      <th>nombre_conductor</th>\n",
       "      <th>marca_coche</th>\n",
       "      <th>color_coche</th>\n",
       "      <th>anio_fabricacion</th>\n",
       "      <th>tipo_combustible</th>\n",
       "      <th>tiene_calefaccion</th>\n",
       "      <th>puntos_carnet</th>\n",
       "      <th>cilindraje_motor</th>\n",
       "      <th>kilometraje</th>\n",
       "      <th>anio_registro_app</th>\n",
       "      <th>nombre_cliente</th>\n",
       "      <th>apellido_cliente</th>\n",
       "      <th>edad_cliente</th>\n",
       "      <th>genero_cliente</th>\n",
       "      <th>direccion_cliente</th>\n",
       "      <th>trabajo_cliente</th>\n",
       "      <th>fecha_registro</th>\n",
       "    </tr>\n",
       "  </thead>\n",
       "  <tbody>\n",
       "    <tr>\n",
       "      <th>0</th>\n",
       "      <td>78947</td>\n",
       "      <td>8.0</td>\n",
       "      <td>Tarjeta</td>\n",
       "      <td>5.640651</td>\n",
       "      <td>18</td>\n",
       "      <td>108</td>\n",
       "      <td>39.50802</td>\n",
       "      <td>-0.32170</td>\n",
       "      <td>39.47947</td>\n",
       "      <td>-0.37594</td>\n",
       "      <td>2024-02-17 11:10:33.369962+00:00</td>\n",
       "      <td>Nicolás Ribera-Riba</td>\n",
       "      <td>BMW</td>\n",
       "      <td>Marrón siena</td>\n",
       "      <td>2020</td>\n",
       "      <td>Híbrido</td>\n",
       "      <td>True</td>\n",
       "      <td>11</td>\n",
       "      <td>2500</td>\n",
       "      <td>42353</td>\n",
       "      <td>2022</td>\n",
       "      <td>Evangelina</td>\n",
       "      <td>Valverde</td>\n",
       "      <td>48</td>\n",
       "      <td>mujer</td>\n",
       "      <td>Vial de Apolonia Lpez 34 Piso 8 \\nCeuta, 10701</td>\n",
       "      <td>Parquetero y colocador de suelos</td>\n",
       "      <td>2023-09-24</td>\n",
       "    </tr>\n",
       "    <tr>\n",
       "      <th>1</th>\n",
       "      <td>52772</td>\n",
       "      <td>7.0</td>\n",
       "      <td>Tarjeta</td>\n",
       "      <td>5.617617</td>\n",
       "      <td>18</td>\n",
       "      <td>848</td>\n",
       "      <td>39.50797</td>\n",
       "      <td>-0.32198</td>\n",
       "      <td>39.47947</td>\n",
       "      <td>-0.37594</td>\n",
       "      <td>2024-02-17 11:46:19.121628+00:00</td>\n",
       "      <td>Nazario Cantero Iniesta</td>\n",
       "      <td>BMW</td>\n",
       "      <td>Marrón cuero</td>\n",
       "      <td>2014</td>\n",
       "      <td>Eléctrico</td>\n",
       "      <td>True</td>\n",
       "      <td>13</td>\n",
       "      <td>0</td>\n",
       "      <td>119686</td>\n",
       "      <td>2023</td>\n",
       "      <td>Ligia</td>\n",
       "      <td>Rey</td>\n",
       "      <td>34</td>\n",
       "      <td>mujer</td>\n",
       "      <td>Paseo Lorenza Vives 89 Puerta 5 \\nHuelva, 47703</td>\n",
       "      <td>Gorjadore</td>\n",
       "      <td>2023-01-12</td>\n",
       "    </tr>\n",
       "    <tr>\n",
       "      <th>2</th>\n",
       "      <td>92572</td>\n",
       "      <td>6.0</td>\n",
       "      <td>Efectivo</td>\n",
       "      <td>5.609091</td>\n",
       "      <td>18</td>\n",
       "      <td>848</td>\n",
       "      <td>39.50797</td>\n",
       "      <td>-0.32210</td>\n",
       "      <td>39.47947</td>\n",
       "      <td>-0.37594</td>\n",
       "      <td>2024-02-17 11:47:49.767451+00:00</td>\n",
       "      <td>Nazario Cantero Iniesta</td>\n",
       "      <td>BMW</td>\n",
       "      <td>Marrón cuero</td>\n",
       "      <td>2014</td>\n",
       "      <td>Eléctrico</td>\n",
       "      <td>True</td>\n",
       "      <td>13</td>\n",
       "      <td>0</td>\n",
       "      <td>119686</td>\n",
       "      <td>2023</td>\n",
       "      <td>Pancho</td>\n",
       "      <td>Garzon</td>\n",
       "      <td>43</td>\n",
       "      <td>hombre</td>\n",
       "      <td>Urbanizacin de Manuel Lluch 932 Puerta 6 \\nLle...</td>\n",
       "      <td>Sericultor</td>\n",
       "      <td>2023-08-01</td>\n",
       "    </tr>\n",
       "    <tr>\n",
       "      <th>3</th>\n",
       "      <td>47745</td>\n",
       "      <td>5.0</td>\n",
       "      <td>Tarjeta</td>\n",
       "      <td>5.619211</td>\n",
       "      <td>18</td>\n",
       "      <td>178</td>\n",
       "      <td>39.50795</td>\n",
       "      <td>-0.32194</td>\n",
       "      <td>39.47947</td>\n",
       "      <td>-0.37594</td>\n",
       "      <td>2024-02-17 11:56:18.100593+00:00</td>\n",
       "      <td>Valentín Quintana Clavero</td>\n",
       "      <td>Kia</td>\n",
       "      <td>Orquídea</td>\n",
       "      <td>2022</td>\n",
       "      <td>Híbrido</td>\n",
       "      <td>True</td>\n",
       "      <td>13</td>\n",
       "      <td>1600</td>\n",
       "      <td>14801</td>\n",
       "      <td>2023</td>\n",
       "      <td>Mariana</td>\n",
       "      <td>Mercader</td>\n",
       "      <td>40</td>\n",
       "      <td>mujer</td>\n",
       "      <td>Calle de Vicenta Uriarte 61\\nTarragona, 09066</td>\n",
       "      <td>Asesor financiero y en inversiones</td>\n",
       "      <td>2024-01-26</td>\n",
       "    </tr>\n",
       "    <tr>\n",
       "      <th>4</th>\n",
       "      <td>41370</td>\n",
       "      <td>9.0</td>\n",
       "      <td>Efectivo</td>\n",
       "      <td>1.797886</td>\n",
       "      <td>21</td>\n",
       "      <td>503</td>\n",
       "      <td>39.47026</td>\n",
       "      <td>-0.36855</td>\n",
       "      <td>39.46824</td>\n",
       "      <td>-0.38928</td>\n",
       "      <td>2024-02-17 10:54:05.960389+00:00</td>\n",
       "      <td>Guiomar Vaquero Sola</td>\n",
       "      <td>Subaru</td>\n",
       "      <td>Marrón rojizo</td>\n",
       "      <td>2020</td>\n",
       "      <td>Gasolina</td>\n",
       "      <td>False</td>\n",
       "      <td>10</td>\n",
       "      <td>1500</td>\n",
       "      <td>38659</td>\n",
       "      <td>2022</td>\n",
       "      <td>Borja</td>\n",
       "      <td>Miralles</td>\n",
       "      <td>33</td>\n",
       "      <td>hombre</td>\n",
       "      <td>Acceso de Rolando Antn 86 Piso 6 \\nLleida, 05124</td>\n",
       "      <td>Cartógrafo</td>\n",
       "      <td>2023-11-05</td>\n",
       "    </tr>\n",
       "  </tbody>\n",
       "</table>\n",
       "</div>"
      ],
      "text/plain": [
       "   cliente_id  rating metodo_pago  pago_viaje  viaje_id  vehiculo_id  \\\n",
       "0       78947     8.0     Tarjeta    5.640651        18          108   \n",
       "1       52772     7.0     Tarjeta    5.617617        18          848   \n",
       "2       92572     6.0    Efectivo    5.609091        18          848   \n",
       "3       47745     5.0     Tarjeta    5.619211        18          178   \n",
       "4       41370     9.0    Efectivo    1.797886        21          503   \n",
       "\n",
       "    latitud  longitud  latitud_final  longitud_final  \\\n",
       "0  39.50802  -0.32170       39.47947        -0.37594   \n",
       "1  39.50797  -0.32198       39.47947        -0.37594   \n",
       "2  39.50797  -0.32210       39.47947        -0.37594   \n",
       "3  39.50795  -0.32194       39.47947        -0.37594   \n",
       "4  39.47026  -0.36855       39.46824        -0.38928   \n",
       "\n",
       "                         timestamp           nombre_conductor marca_coche  \\\n",
       "0 2024-02-17 11:10:33.369962+00:00        Nicolás Ribera-Riba         BMW   \n",
       "1 2024-02-17 11:46:19.121628+00:00    Nazario Cantero Iniesta         BMW   \n",
       "2 2024-02-17 11:47:49.767451+00:00    Nazario Cantero Iniesta         BMW   \n",
       "3 2024-02-17 11:56:18.100593+00:00  Valentín Quintana Clavero         Kia   \n",
       "4 2024-02-17 10:54:05.960389+00:00       Guiomar Vaquero Sola      Subaru   \n",
       "\n",
       "     color_coche  anio_fabricacion tipo_combustible  tiene_calefaccion  \\\n",
       "0   Marrón siena              2020          Híbrido               True   \n",
       "1   Marrón cuero              2014        Eléctrico               True   \n",
       "2   Marrón cuero              2014        Eléctrico               True   \n",
       "3       Orquídea              2022          Híbrido               True   \n",
       "4  Marrón rojizo              2020         Gasolina              False   \n",
       "\n",
       "   puntos_carnet  cilindraje_motor  kilometraje  anio_registro_app  \\\n",
       "0             11              2500        42353               2022   \n",
       "1             13                 0       119686               2023   \n",
       "2             13                 0       119686               2023   \n",
       "3             13              1600        14801               2023   \n",
       "4             10              1500        38659               2022   \n",
       "\n",
       "  nombre_cliente apellido_cliente  edad_cliente genero_cliente  \\\n",
       "0     Evangelina         Valverde            48          mujer   \n",
       "1          Ligia              Rey            34          mujer   \n",
       "2         Pancho           Garzon            43         hombre   \n",
       "3        Mariana         Mercader            40          mujer   \n",
       "4          Borja         Miralles            33         hombre   \n",
       "\n",
       "                                   direccion_cliente  \\\n",
       "0     Vial de Apolonia Lpez 34 Piso 8 \\nCeuta, 10701   \n",
       "1    Paseo Lorenza Vives 89 Puerta 5 \\nHuelva, 47703   \n",
       "2  Urbanizacin de Manuel Lluch 932 Puerta 6 \\nLle...   \n",
       "3      Calle de Vicenta Uriarte 61\\nTarragona, 09066   \n",
       "4   Acceso de Rolando Antn 86 Piso 6 \\nLleida, 05124   \n",
       "\n",
       "                      trabajo_cliente fecha_registro  \n",
       "0    Parquetero y colocador de suelos     2023-09-24  \n",
       "1                           Gorjadore     2023-01-12  \n",
       "2                          Sericultor     2023-08-01  \n",
       "3  Asesor financiero y en inversiones     2024-01-26  \n",
       "4                          Cartógrafo     2023-11-05  "
      ]
     },
     "execution_count": 3,
     "metadata": {},
     "output_type": "execute_result"
    }
   ],
   "source": [
    "pd.set_option('display.max_columns', None)\n",
    "\n",
    "df.head()"
   ]
  },
  {
   "cell_type": "code",
   "execution_count": 4,
   "metadata": {},
   "outputs": [],
   "source": [
    "from sklearn.model_selection import train_test_split, GridSearchCV\n",
    "from sklearn.impute import SimpleImputer\n",
    "from sklearn.preprocessing import StandardScaler, OneHotEncoder\n",
    "from sklearn.compose import ColumnTransformer\n",
    "from sklearn.pipeline import Pipeline\n",
    "from xgboost import XGBRegressor\n",
    "from sklearn.metrics import mean_squared_error"
   ]
  },
  {
   "cell_type": "code",
   "execution_count": 5,
   "metadata": {},
   "outputs": [
    {
     "name": "stdout",
     "output_type": "stream",
     "text": [
      "Mean Squared Error: 0.3833648644280403\n"
     ]
    }
   ],
   "source": [
    "columns_to_drop = ['pago_viaje', 'cliente_id', 'viaje_id', 'vehiculo_id', 'nombre_cliente', 'apellido_cliente', 'nombre_conductor', 'direccion_cliente']\n",
    "X = df.drop(columns=columns_to_drop, axis=1)\n",
    "y = df['pago_viaje']\n",
    "\n",
    "# Dividir el conjunto de datos en entrenamiento y prueba\n",
    "X_train, X_test, y_train, y_test = train_test_split(X, y, test_size=0.2, random_state=42)\n",
    "\n",
    "# Seleccionar las columnas numéricas, categóricas y booleanas\n",
    "numeric_features = X.select_dtypes(include=['int64', 'float64']).columns\n",
    "categorical_features = X.select_dtypes(include=['object']).columns\n",
    "boolean_features = X.select_dtypes(include=['boolean']).columns\n",
    "\n",
    "# Crear transformadores para variables numéricas, categóricas y booleanas\n",
    "numeric_transformer = Pipeline(steps=[\n",
    "    ('imputer', SimpleImputer(strategy='mean')),\n",
    "    ('scaler', StandardScaler())\n",
    "])\n",
    "\n",
    "categorical_transformer = Pipeline(steps=[\n",
    "    ('imputer', SimpleImputer(strategy='most_frequent')),\n",
    "    ('onehot', OneHotEncoder(handle_unknown='ignore'))\n",
    "])\n",
    "\n",
    "boolean_transformer = Pipeline(steps=[\n",
    "    ('imputer', SimpleImputer(strategy='most_frequent'))\n",
    "])\n",
    "\n",
    "# Combinar transformadores en un preprocesador\n",
    "preprocessor = ColumnTransformer(\n",
    "    transformers=[\n",
    "        ('num', numeric_transformer, numeric_features),\n",
    "        ('cat', categorical_transformer, categorical_features),\n",
    "        ('bool', boolean_transformer, boolean_features)\n",
    "    ])\n",
    "\n",
    "# Crear el modelo XGBoost\n",
    "model = XGBRegressor(objective='reg:squarederror', random_state=42)\n",
    "\n",
    "# Crear el pipeline con preprocesador y modelo\n",
    "pipeline = Pipeline(steps=[('preprocessor', preprocessor),\n",
    "                             ('model', model)])\n",
    "\n",
    "# Definir el espacio de búsqueda de hiperparámetros\n",
    "param_grid = {\n",
    "    'model__n_estimators': [200, 300, 400],\n",
    "    'model__learning_rate': [0.01, 0.05, 0.1],\n",
    "    'model__max_depth': [4, 5, 6],\n",
    "    'model__subsample': [0.8, 0.9, 1.0],\n",
    "    'model__colsample_bytree': [0.8, 0.9, 1.0],\n",
    "}\n",
    "\n",
    "# Configurar la búsqueda de hiperparámetros con validación cruzada\n",
    "grid_search = GridSearchCV(pipeline, param_grid, cv=5, scoring='neg_mean_squared_error', n_jobs=-1)\n",
    "\n",
    "# Entrenar el modelo con búsqueda de hiperparámetros\n",
    "grid_search.fit(X_train, y_train)\n",
    "\n",
    "# Obtener el mejor modelo del grid search\n",
    "best_model = grid_search.best_estimator_\n",
    "\n",
    "# Realizar predicciones en el conjunto de prueba\n",
    "y_pred = best_model.predict(X_test)\n",
    "\n",
    "# Evaluar el rendimiento del modelo\n",
    "mse = mean_squared_error(y_test, y_pred)\n",
    "print(f'Mean Squared Error: {mse}')"
   ]
  },
  {
   "cell_type": "code",
   "execution_count": 7,
   "metadata": {},
   "outputs": [
    {
     "name": "stdout",
     "output_type": "stream",
     "text": [
      "Varianza de las variables utilizadas:\n",
      " rating                                                         1.007042\n",
      "latitud                                                        1.007042\n",
      "longitud                                                       1.007042\n",
      "latitud_final                                                  1.007042\n",
      "longitud_final                                                 1.007042\n",
      "                                                                 ...   \n",
      "trabajo_cliente_Técnico en ingeniería de minas y metalurgia    0.006993\n",
      "trabajo_cliente_Técnico en seguridad aeronáutica               0.006993\n",
      "trabajo_cliente_Vendedor de comidas al mostrador               0.013888\n",
      "trabajo_cliente_Vendedor por teléfono                          0.020684\n",
      "tiene_calefaccion                                              0.250271\n",
      "Length: 245, dtype: float64\n"
     ]
    }
   ],
   "source": [
    "numeric_columns_after_transform = best_model.named_steps['preprocessor'].transformers_[0][1]['scaler'].get_feature_names_out(numeric_features)\n",
    "\n",
    "categorical_columns_after_transform = best_model.named_steps['preprocessor'].transformers_[1][1]['onehot'].get_feature_names_out(categorical_features)\n",
    "\n",
    "all_columns_after_transform = list(numeric_columns_after_transform) + list(categorical_columns_after_transform) + list(boolean_features)\n",
    "\n",
    "X_train_transformed = best_model.named_steps['preprocessor'].transform(X_train)\n",
    "X_train_transformed_df = pd.DataFrame(X_train_transformed.toarray(), columns=all_columns_after_transform)\n",
    "\n",
    "variance_of_used_columns = X_train_transformed_df.var()\n",
    "print('Varianza de las variables utilizadas:\\n', variance_of_used_columns)\n"
   ]
  },
  {
   "cell_type": "code",
   "execution_count": 8,
   "metadata": {},
   "outputs": [
    {
     "data": {
      "application/vnd.plotly.v1+json": {
       "config": {
        "plotlyServerURL": "https://plot.ly"
       },
       "data": [
        {
         "alignmentgroup": "True",
         "hovertemplate": "variable=0<br>Varianza=%{x}<br>Variables=%{y}<extra></extra>",
         "legendgroup": "0",
         "marker": {
          "color": "#636efa",
          "pattern": {
           "shape": ""
          }
         },
         "name": "0",
         "offsetgroup": "0",
         "orientation": "h",
         "showlegend": true,
         "textposition": "auto",
         "type": "bar",
         "x": [
          0.006993006993006988,
          0.006993006993006988,
          0.006993006993006988,
          0.006993006993006988,
          0.006993006993006988,
          0.006993006993006988,
          0.006993006993006988,
          0.006993006993006988,
          0.006993006993006988,
          0.006993006993006988,
          0.006993006993006988,
          0.006993006993006988,
          0.006993006993006988,
          0.006993006993006988,
          0.006993006993006988,
          0.006993006993006988,
          0.006993006993006988,
          0.006993006993006988,
          0.006993006993006988,
          0.006993006993006989,
          0.006993006993006989,
          0.006993006993006989,
          0.006993006993006989,
          0.006993006993006989,
          0.006993006993006989,
          0.006993006993006989,
          0.006993006993006989,
          0.006993006993006989,
          0.006993006993006989,
          0.006993006993006989,
          0.006993006993006989,
          0.006993006993006989,
          0.006993006993006989,
          0.0069930069930069895,
          0.0069930069930069895,
          0.0069930069930069895,
          0.0069930069930069895,
          0.0069930069930069895,
          0.0069930069930069895,
          0.0069930069930069895,
          0.0069930069930069895,
          0.0069930069930069895,
          0.0069930069930069895,
          0.0069930069930069895,
          0.0069930069930069895,
          0.0069930069930069895,
          0.0069930069930069895,
          0.0069930069930069895,
          0.0069930069930069895,
          0.0069930069930069895,
          0.0069930069930069895,
          0.00699300699300699,
          0.00699300699300699,
          0.00699300699300699,
          0.00699300699300699,
          0.00699300699300699,
          0.00699300699300699,
          0.00699300699300699,
          0.00699300699300699,
          0.00699300699300699,
          0.00699300699300699,
          0.00699300699300699,
          0.00699300699300699,
          0.00699300699300699,
          0.00699300699300699,
          0.00699300699300699,
          0.00699300699300699,
          0.00699300699300699,
          0.00699300699300699,
          0.00699300699300699,
          0.00699300699300699,
          0.00699300699300699,
          0.00699300699300699,
          0.00699300699300699,
          0.00699300699300699,
          0.00699300699300699,
          0.00699300699300699,
          0.00699300699300699,
          0.00699300699300699,
          0.00699300699300699,
          0.00699300699300699,
          0.00699300699300699,
          0.00699300699300699,
          0.00699300699300699,
          0.00699300699300699,
          0.00699300699300699,
          0.00699300699300699,
          0.00699300699300699,
          0.00699300699300699,
          0.00699300699300699,
          0.00699300699300699,
          0.00699300699300699,
          0.00699300699300699,
          0.006993006993006991,
          0.006993006993006991,
          0.006993006993006991,
          0.006993006993006991,
          0.006993006993006991,
          0.006993006993006991,
          0.006993006993006991,
          0.006993006993006991,
          0.006993006993006991,
          0.006993006993006991,
          0.006993006993006991,
          0.006993006993006991,
          0.006993006993006991,
          0.006993006993006991,
          0.006993006993006991,
          0.006993006993006991,
          0.006993006993006991,
          0.006993006993006991,
          0.006993006993006991,
          0.006993006993006992,
          0.006993006993006992,
          0.006993006993006992,
          0.006993006993006992,
          0.006993006993006992,
          0.006993006993006992,
          0.006993006993006992,
          0.006993006993006992,
          0.006993006993006992,
          0.006993006993006992,
          0.006993006993006992,
          0.006993006993006992,
          0.006993006993006992,
          0.006993006993006992,
          0.006993006993006992,
          0.006993006993006992,
          0.006993006993006993,
          0.006993006993006993,
          0.006993006993006993,
          0.006993006993006993,
          0.006993006993006993,
          0.006993006993006993,
          0.006993006993006993,
          0.006993006993006993,
          0.006993006993006993,
          0.006993006993006993,
          0.006993006993006993,
          0.006993006993006993,
          0.006993006993006993,
          0.006993006993006993,
          0.006993006993006993,
          0.006993006993006993,
          0.006993006993006993,
          0.006993006993006993,
          0.013887520929774452,
          0.013887520929774454,
          0.013887520929774454,
          0.013887520929774454,
          0.013887520929774454,
          0.013887520929774454,
          0.013887520929774454,
          0.013887520929774454,
          0.013887520929774454,
          0.013887520929774454,
          0.013887520929774454,
          0.013887520929774454,
          0.013887520929774454,
          0.013887520929774454,
          0.013887520929774454,
          0.013887520929774454,
          0.013887520929774454,
          0.013887520929774454,
          0.013887520929774454,
          0.013887520929774454,
          0.013887520929774456,
          0.013887520929774456,
          0.013887520929774456,
          0.013887520929774456,
          0.013887520929774456,
          0.013887520929774456,
          0.013887520929774456,
          0.013887520929774456,
          0.013887520929774456,
          0.013887520929774456,
          0.013887520929774456,
          0.013887520929774456,
          0.013887520929774456,
          0.013887520929774456,
          0.013887520929774456,
          0.013887520929774456,
          0.013887520929774456,
          0.013887520929774456,
          0.013887520929774457,
          0.013887520929774457,
          0.013887520929774457,
          0.013887520929774457,
          0.020683541810302367,
          0.02068354181030237,
          0.020683541810302377,
          0.020683541810302377,
          0.020683541810302377,
          0.020683541810302377,
          0.020683541810302377,
          0.020683541810302377,
          0.020683541810302377,
          0.020683541810302377,
          0.020683541810302377,
          0.020683541810302377,
          0.020683541810302377,
          0.020683541810302377,
          0.020683541810302377,
          0.020683541810302377,
          0.02068354181030238,
          0.02738106963459076,
          0.027381069634590766,
          0.027381069634590766,
          0.02738106963459077,
          0.02738106963459077,
          0.03398010440263961,
          0.03398010440263961,
          0.03398010440263961,
          0.040480646114448925,
          0.040480646114448925,
          0.040480646114448925,
          0.05939131291243968,
          0.059391312912439695,
          0.06549788239929087,
          0.0774155422042746,
          0.07741554220427463,
          0.08322663252240714,
          0.08893922978430019,
          0.10006894513936768,
          0.11602482025017234,
          0.1211464591746282,
          0.14527725795331428,
          0.17098394563183295,
          0.22456416822614006,
          0.22899635575691915,
          0.23992908499950752,
          0.25027085590465875,
          0.2507633211858563,
          0.2516497586920123,
          1.0070422535211265,
          1.0070422535211265,
          1.0070422535211268,
          1.0070422535211268,
          1.0070422535211268,
          1.0070422535211268,
          1.0070422535211268,
          1.0070422535211268,
          1.0070422535211268,
          1.0070422535211268,
          1.0070422535211272
         ],
         "xaxis": "x",
         "y": [
          "trabajo_cliente_Auxiliar laico de las religión",
          "color_coche_Beige limón",
          "color_coche_Coral claro",
          "trabajo_cliente_Guardián de prisión",
          "color_coche_Marrón arena",
          "color_coche_Oliva",
          "trabajo_cliente_Profesor de música",
          "trabajo_cliente_Operador de máquinas pulidoras, galvanizadoras y recubridoras de metales ",
          "trabajo_cliente_Recolector de dinero en aparatos de venta automática y lector de medidores",
          "trabajo_cliente_Dinamitero",
          "color_coche_Rojo ladrillo",
          "trabajo_cliente_Constructor de casas",
          "trabajo_cliente_Trabajador social de nivel medio",
          "color_coche_Verde oscuro",
          "trabajo_cliente_Artista plástico",
          "trabajo_cliente_Compositor",
          "trabajo_cliente_Catador de bebidas",
          "trabajo_cliente_Detective",
          "trabajo_cliente_Agente de maniobras",
          "color_coche_Agua-marina",
          "color_coche_Amarillo dorado oscuro",
          "trabajo_cliente_Miembro de las fuerzas armadas",
          "trabajo_cliente_Ingeniero en telecomunicaciones",
          "trabajo_cliente_Supervisor de tiendas y almacenes",
          "color_coche_Orquídea medio",
          "color_coche_Rosa brumoso",
          "trabajo_cliente_Ingeniero mecánico",
          "trabajo_cliente_Peón de explotaciones ganaderas",
          "trabajo_cliente_Mayordomo doméstico",
          "trabajo_cliente_Trabajador agrícola de subsistencia",
          "marca_coche_Bugatti",
          "trabajo_cliente_Trabajador de cuidados personales a domicilio",
          "trabajo_cliente_Profesor de enseñanza secundaria",
          "marca_coche_GMC",
          "color_coche_Azul marino",
          "trabajo_cliente_Operador de máquinas de tratamiento de pieles y cueros",
          "trabajo_cliente_Operador de máquinas de vapor y calderas",
          "trabajo_cliente_Recolector de leña",
          "trabajo_cliente_Tapicero",
          "color_coche_Azul pizarra oscuro",
          "trabajo_cliente_Operador de instalaciones de procesamiento de minerales y rocas",
          "color_coche_Turquesa",
          "trabajo_cliente_Mecánico y ajustador electricista",
          "color_coche_Rojo",
          "trabajo_cliente_Operario en cemento armado y enfoscador",
          "trabajo_cliente_Peón forestales",
          "trabajo_cliente_Técnico en seguridad aeronáutica",
          "color_coche_Gris",
          "trabajo_cliente_Pescador, cazador, tramperos y recolector de subsistencia",
          "trabajo_cliente_Agente de aduanas",
          "trabajo_cliente_Diseñador de prendas",
          "trabajo_cliente_Guardia de protección",
          "trabajo_cliente_Cocinero",
          "color_coche_Naranja",
          "trabajo_cliente_Geólogo",
          "trabajo_cliente_Gorjadore",
          "trabajo_cliente_Guardafrenos",
          "trabajo_cliente_Revisor y cobrador de los transportes públicos",
          "trabajo_cliente_Administrador de bases de datos",
          "color_coche_Rojo carmesí",
          "trabajo_cliente_Ebanista",
          "trabajo_cliente_Profesional del trabajo social",
          "trabajo_cliente_Programador de aplicaciones",
          "trabajo_cliente_Director de teatro",
          "trabajo_cliente_Director de servicios de tecnología de la información y las comunicaciones",
          "trabajo_cliente_Director de investigación y desarrollo",
          "color_coche_Salmón oscuro",
          "trabajo_cliente_Dibujante técnico",
          "color_coche_Turquesa pálido",
          "trabajo_cliente_Conductor de vehículos y máquinas de tracción animal",
          "color_coche_Verde lima",
          "trabajo_cliente_Costurero",
          "trabajo_cliente_Técnico de prótesis médicas y dentales",
          "trabajo_cliente_Empleado de archivos",
          "trabajo_cliente_Ingeniero industrial",
          "color_coche_Violeta sonrojado pálido",
          "color_coche_Azul anciano",
          "trabajo_cliente_Operador de plantas y máquinas de productos químicos",
          "trabajo_cliente_Peón de pesca y acuicultura",
          "color_coche_Agua marina medio",
          "trabajo_cliente_Profesional de medicina",
          "trabajo_cliente_Operador de máquinas para fabricar cemento y otros productos minerales",
          "color_coche_Amarillo dorado",
          "marca_coche_Chrysler",
          "color_coche_Azul medio",
          "trabajo_cliente_Oficinista general",
          "color_coche_Beige melocotón",
          "trabajo_cliente_Operador de máquinas de blanqueamiento, teñido y limpieza de tejidos",
          "color_coche_Chartreuse",
          "color_coche_Blanco menta",
          "trabajo_cliente_Cajero de banco",
          "trabajo_cliente_Profesional de nivel medio en actividades culturales y artísticas",
          "trabajo_cliente_Miembro del poder legislativo",
          "color_coche_Verde limón",
          "trabajo_cliente_Periodista",
          "color_coche_Verde prado",
          "trabajo_cliente_Trabajador ambulante de servicios",
          "color_coche_Violeta oscuro",
          "trabajo_cliente_Joyero",
          "trabajo_cliente_Lavador de vehículos",
          "trabajo_cliente_Audiólogo",
          "color_coche_Oro",
          "color_coche_Azul acero claro",
          "trabajo_cliente_Analista de gestión y organización",
          "color_coche_Azul cielo claro",
          "trabajo_cliente_Pescadero",
          "color_coche_Azul oscuro",
          "color_coche_Azul violeta",
          "trabajo_cliente_Gerente de hoteles o restaurantes",
          "trabajo_cliente_Fumigador",
          "color_coche_Violeta",
          "trabajo_cliente_Sombrerero",
          "trabajo_cliente_Buzo",
          "trabajo_cliente_Cartógrafo",
          "trabajo_cliente_Conductor de taxis",
          "trabajo_cliente_Analista de sistemas",
          "trabajo_cliente_Conductor de camiones pesados",
          "trabajo_cliente_Archivista",
          "trabajo_cliente_Piloto de aviación",
          "color_coche_Marrón siena",
          "trabajo_cliente_Dentista",
          "trabajo_cliente_Parquetero y colocador de suelos",
          "trabajo_cliente_Profesional de la salud y la higiene laboral y ambiental",
          "color_coche_Azul cielo",
          "trabajo_cliente_Decorador de interior",
          "marca_coche_Fiat",
          "trabajo_cliente_Fabricante de instrumentos musicales",
          "marca_coche_Jeep",
          "trabajo_cliente_Profesional de ventas de tecnología de la información y las comunicaciones",
          "trabajo_cliente_Ingeniero químico",
          "trabajo_cliente_Mecánico-montador de instalaciones de refrigeración y climatización",
          "trabajo_cliente_Soldador y oxicortador",
          "trabajo_cliente_Profesional de nivel medio de enfermería",
          "trabajo_cliente_Cajero",
          "trabajo_cliente_Profesional religioso",
          "trabajo_cliente_Químico",
          "trabajo_cliente_Practicante y asistente médico",
          "trabajo_cliente_Peón de la construcción de edificios",
          "color_coche_Verde pálido",
          "trabajo_cliente_Supervisor en ingeniería de minas",
          "color_coche_Magenta oscuro",
          "trabajo_cliente_Técnico en ingeniería de minas y metalurgia",
          "trabajo_cliente_Actuario",
          "color_coche_Azul cielo profundo",
          "trabajo_cliente_Administrador de sistemas",
          "color_coche_Verde",
          "color_coche_Azul medianoche",
          "trabajo_cliente_Especialista en tratamientos de belleza",
          "color_coche_Marrón",
          "color_coche_Turquesa oscuro",
          "color_coche_Amarillo",
          "marca_coche_Volvo",
          "marca_coche_Tesla",
          "marca_coche_Subaru",
          "marca_coche_Lincoln",
          "trabajo_cliente_Mandader",
          "color_coche_Caqui oscuro",
          "color_coche_Coral",
          "marca_coche_Hyundai",
          "trabajo_cliente_Agrónomo",
          "trabajo_cliente_Cantante",
          "color_coche_Verde azulado",
          "trabajo_cliente_Vendedor de comidas al mostrador",
          "trabajo_cliente_Profesor de formación profesional",
          "color_coche_Verde mar oscuro",
          "marca_coche_Jaguar",
          "trabajo_cliente_Técnico en aparatos de diagnóstico y tratamiento médico",
          "color_coche_Amarillo maíz dulce",
          "color_coche_Amarillo trigo",
          "trabajo_cliente_Sericultor",
          "trabajo_cliente_Operador de instalaciones de producción de energía",
          "trabajo_cliente_Soplador de vidrio",
          "color_coche_Beige",
          "color_coche_Blanco floral",
          "trabajo_cliente_Ayudante de odontología",
          "marca_coche_Cadillac",
          "trabajo_cliente_Tramper",
          "trabajo_cliente_Asesor financiero y en inversiones",
          "color_coche_Rojo oscuro",
          "color_coche_Orquídea",
          "color_coche_Negro",
          "color_coche_Púrpura medio",
          "color_coche_Marrón cuero",
          "color_coche_Verde mar claro",
          "color_coche_Rojo violeta medio",
          "trabajo_cliente_Expendedor de gasolineras",
          "trabajo_cliente_Empleado de servicios de correos",
          "color_coche_Marfil",
          "color_coche_Lima",
          "trabajo_cliente_Vendedor por teléfono",
          "marca_coche_Porsche",
          "marca_coche_Acura",
          "trabajo_cliente_Techador",
          "color_coche_Rojo anaranjado",
          "color_coche_Índigo",
          "color_coche_Rosa profundo",
          "marca_coche_Dodge",
          "color_coche_Beige papaya",
          "trabajo_cliente_Meteorólogo",
          "trabajo_cliente_Chef",
          "color_coche_Cyan oscuro",
          "color_coche_Granate",
          "color_coche_Gris pizarra oscuro",
          "trabajo_cliente_Empleado de centro de llamadas",
          "color_coche_Naranja oscuro",
          "color_coche_Verde claro",
          "color_coche_Gris oscuro",
          "marca_coche_Audi",
          "color_coche_Gris mate",
          "color_coche_Plata",
          "marca_coche_MINI",
          "marca_coche_Kia",
          "color_coche_Salmón",
          "marca_coche_Mercedes-Benz",
          "color_coche_Magenta",
          "color_coche_Marrón rojizo",
          "marca_coche_Nissan",
          "marca_coche_Mazda",
          "marca_coche_Chevrolet",
          "marca_coche_BMW",
          "marca_coche_Honda",
          "marca_coche_Volkswagen",
          "marca_coche_Toyota",
          "marca_coche_Ford",
          "metodo_pago_Bizum",
          "genero_cliente_desconocido",
          "tipo_combustible_Eléctrico",
          "metodo_pago_Efectivo",
          "tipo_combustible_Híbrido",
          "metodo_pago_Tarjeta",
          "genero_cliente_hombre",
          "tiene_calefaccion",
          "genero_cliente_mujer",
          "tipo_combustible_Gasolina",
          "anio_registro_app",
          "kilometraje",
          "edad_cliente",
          "puntos_carnet",
          "anio_fabricacion",
          "longitud_final",
          "latitud_final",
          "longitud",
          "latitud",
          "rating",
          "cilindraje_motor"
         ],
         "yaxis": "y"
        }
       ],
       "layout": {
        "barmode": "relative",
        "legend": {
         "title": {
          "text": "variable"
         },
         "tracegroupgap": 0
        },
        "template": {
         "data": {
          "bar": [
           {
            "error_x": {
             "color": "#2a3f5f"
            },
            "error_y": {
             "color": "#2a3f5f"
            },
            "marker": {
             "line": {
              "color": "#E5ECF6",
              "width": 0.5
             },
             "pattern": {
              "fillmode": "overlay",
              "size": 10,
              "solidity": 0.2
             }
            },
            "type": "bar"
           }
          ],
          "barpolar": [
           {
            "marker": {
             "line": {
              "color": "#E5ECF6",
              "width": 0.5
             },
             "pattern": {
              "fillmode": "overlay",
              "size": 10,
              "solidity": 0.2
             }
            },
            "type": "barpolar"
           }
          ],
          "carpet": [
           {
            "aaxis": {
             "endlinecolor": "#2a3f5f",
             "gridcolor": "white",
             "linecolor": "white",
             "minorgridcolor": "white",
             "startlinecolor": "#2a3f5f"
            },
            "baxis": {
             "endlinecolor": "#2a3f5f",
             "gridcolor": "white",
             "linecolor": "white",
             "minorgridcolor": "white",
             "startlinecolor": "#2a3f5f"
            },
            "type": "carpet"
           }
          ],
          "choropleth": [
           {
            "colorbar": {
             "outlinewidth": 0,
             "ticks": ""
            },
            "type": "choropleth"
           }
          ],
          "contour": [
           {
            "colorbar": {
             "outlinewidth": 0,
             "ticks": ""
            },
            "colorscale": [
             [
              0,
              "#0d0887"
             ],
             [
              0.1111111111111111,
              "#46039f"
             ],
             [
              0.2222222222222222,
              "#7201a8"
             ],
             [
              0.3333333333333333,
              "#9c179e"
             ],
             [
              0.4444444444444444,
              "#bd3786"
             ],
             [
              0.5555555555555556,
              "#d8576b"
             ],
             [
              0.6666666666666666,
              "#ed7953"
             ],
             [
              0.7777777777777778,
              "#fb9f3a"
             ],
             [
              0.8888888888888888,
              "#fdca26"
             ],
             [
              1,
              "#f0f921"
             ]
            ],
            "type": "contour"
           }
          ],
          "contourcarpet": [
           {
            "colorbar": {
             "outlinewidth": 0,
             "ticks": ""
            },
            "type": "contourcarpet"
           }
          ],
          "heatmap": [
           {
            "colorbar": {
             "outlinewidth": 0,
             "ticks": ""
            },
            "colorscale": [
             [
              0,
              "#0d0887"
             ],
             [
              0.1111111111111111,
              "#46039f"
             ],
             [
              0.2222222222222222,
              "#7201a8"
             ],
             [
              0.3333333333333333,
              "#9c179e"
             ],
             [
              0.4444444444444444,
              "#bd3786"
             ],
             [
              0.5555555555555556,
              "#d8576b"
             ],
             [
              0.6666666666666666,
              "#ed7953"
             ],
             [
              0.7777777777777778,
              "#fb9f3a"
             ],
             [
              0.8888888888888888,
              "#fdca26"
             ],
             [
              1,
              "#f0f921"
             ]
            ],
            "type": "heatmap"
           }
          ],
          "heatmapgl": [
           {
            "colorbar": {
             "outlinewidth": 0,
             "ticks": ""
            },
            "colorscale": [
             [
              0,
              "#0d0887"
             ],
             [
              0.1111111111111111,
              "#46039f"
             ],
             [
              0.2222222222222222,
              "#7201a8"
             ],
             [
              0.3333333333333333,
              "#9c179e"
             ],
             [
              0.4444444444444444,
              "#bd3786"
             ],
             [
              0.5555555555555556,
              "#d8576b"
             ],
             [
              0.6666666666666666,
              "#ed7953"
             ],
             [
              0.7777777777777778,
              "#fb9f3a"
             ],
             [
              0.8888888888888888,
              "#fdca26"
             ],
             [
              1,
              "#f0f921"
             ]
            ],
            "type": "heatmapgl"
           }
          ],
          "histogram": [
           {
            "marker": {
             "pattern": {
              "fillmode": "overlay",
              "size": 10,
              "solidity": 0.2
             }
            },
            "type": "histogram"
           }
          ],
          "histogram2d": [
           {
            "colorbar": {
             "outlinewidth": 0,
             "ticks": ""
            },
            "colorscale": [
             [
              0,
              "#0d0887"
             ],
             [
              0.1111111111111111,
              "#46039f"
             ],
             [
              0.2222222222222222,
              "#7201a8"
             ],
             [
              0.3333333333333333,
              "#9c179e"
             ],
             [
              0.4444444444444444,
              "#bd3786"
             ],
             [
              0.5555555555555556,
              "#d8576b"
             ],
             [
              0.6666666666666666,
              "#ed7953"
             ],
             [
              0.7777777777777778,
              "#fb9f3a"
             ],
             [
              0.8888888888888888,
              "#fdca26"
             ],
             [
              1,
              "#f0f921"
             ]
            ],
            "type": "histogram2d"
           }
          ],
          "histogram2dcontour": [
           {
            "colorbar": {
             "outlinewidth": 0,
             "ticks": ""
            },
            "colorscale": [
             [
              0,
              "#0d0887"
             ],
             [
              0.1111111111111111,
              "#46039f"
             ],
             [
              0.2222222222222222,
              "#7201a8"
             ],
             [
              0.3333333333333333,
              "#9c179e"
             ],
             [
              0.4444444444444444,
              "#bd3786"
             ],
             [
              0.5555555555555556,
              "#d8576b"
             ],
             [
              0.6666666666666666,
              "#ed7953"
             ],
             [
              0.7777777777777778,
              "#fb9f3a"
             ],
             [
              0.8888888888888888,
              "#fdca26"
             ],
             [
              1,
              "#f0f921"
             ]
            ],
            "type": "histogram2dcontour"
           }
          ],
          "mesh3d": [
           {
            "colorbar": {
             "outlinewidth": 0,
             "ticks": ""
            },
            "type": "mesh3d"
           }
          ],
          "parcoords": [
           {
            "line": {
             "colorbar": {
              "outlinewidth": 0,
              "ticks": ""
             }
            },
            "type": "parcoords"
           }
          ],
          "pie": [
           {
            "automargin": true,
            "type": "pie"
           }
          ],
          "scatter": [
           {
            "fillpattern": {
             "fillmode": "overlay",
             "size": 10,
             "solidity": 0.2
            },
            "type": "scatter"
           }
          ],
          "scatter3d": [
           {
            "line": {
             "colorbar": {
              "outlinewidth": 0,
              "ticks": ""
             }
            },
            "marker": {
             "colorbar": {
              "outlinewidth": 0,
              "ticks": ""
             }
            },
            "type": "scatter3d"
           }
          ],
          "scattercarpet": [
           {
            "marker": {
             "colorbar": {
              "outlinewidth": 0,
              "ticks": ""
             }
            },
            "type": "scattercarpet"
           }
          ],
          "scattergeo": [
           {
            "marker": {
             "colorbar": {
              "outlinewidth": 0,
              "ticks": ""
             }
            },
            "type": "scattergeo"
           }
          ],
          "scattergl": [
           {
            "marker": {
             "colorbar": {
              "outlinewidth": 0,
              "ticks": ""
             }
            },
            "type": "scattergl"
           }
          ],
          "scattermapbox": [
           {
            "marker": {
             "colorbar": {
              "outlinewidth": 0,
              "ticks": ""
             }
            },
            "type": "scattermapbox"
           }
          ],
          "scatterpolar": [
           {
            "marker": {
             "colorbar": {
              "outlinewidth": 0,
              "ticks": ""
             }
            },
            "type": "scatterpolar"
           }
          ],
          "scatterpolargl": [
           {
            "marker": {
             "colorbar": {
              "outlinewidth": 0,
              "ticks": ""
             }
            },
            "type": "scatterpolargl"
           }
          ],
          "scatterternary": [
           {
            "marker": {
             "colorbar": {
              "outlinewidth": 0,
              "ticks": ""
             }
            },
            "type": "scatterternary"
           }
          ],
          "surface": [
           {
            "colorbar": {
             "outlinewidth": 0,
             "ticks": ""
            },
            "colorscale": [
             [
              0,
              "#0d0887"
             ],
             [
              0.1111111111111111,
              "#46039f"
             ],
             [
              0.2222222222222222,
              "#7201a8"
             ],
             [
              0.3333333333333333,
              "#9c179e"
             ],
             [
              0.4444444444444444,
              "#bd3786"
             ],
             [
              0.5555555555555556,
              "#d8576b"
             ],
             [
              0.6666666666666666,
              "#ed7953"
             ],
             [
              0.7777777777777778,
              "#fb9f3a"
             ],
             [
              0.8888888888888888,
              "#fdca26"
             ],
             [
              1,
              "#f0f921"
             ]
            ],
            "type": "surface"
           }
          ],
          "table": [
           {
            "cells": {
             "fill": {
              "color": "#EBF0F8"
             },
             "line": {
              "color": "white"
             }
            },
            "header": {
             "fill": {
              "color": "#C8D4E3"
             },
             "line": {
              "color": "white"
             }
            },
            "type": "table"
           }
          ]
         },
         "layout": {
          "annotationdefaults": {
           "arrowcolor": "#2a3f5f",
           "arrowhead": 0,
           "arrowwidth": 1
          },
          "autotypenumbers": "strict",
          "coloraxis": {
           "colorbar": {
            "outlinewidth": 0,
            "ticks": ""
           }
          },
          "colorscale": {
           "diverging": [
            [
             0,
             "#8e0152"
            ],
            [
             0.1,
             "#c51b7d"
            ],
            [
             0.2,
             "#de77ae"
            ],
            [
             0.3,
             "#f1b6da"
            ],
            [
             0.4,
             "#fde0ef"
            ],
            [
             0.5,
             "#f7f7f7"
            ],
            [
             0.6,
             "#e6f5d0"
            ],
            [
             0.7,
             "#b8e186"
            ],
            [
             0.8,
             "#7fbc41"
            ],
            [
             0.9,
             "#4d9221"
            ],
            [
             1,
             "#276419"
            ]
           ],
           "sequential": [
            [
             0,
             "#0d0887"
            ],
            [
             0.1111111111111111,
             "#46039f"
            ],
            [
             0.2222222222222222,
             "#7201a8"
            ],
            [
             0.3333333333333333,
             "#9c179e"
            ],
            [
             0.4444444444444444,
             "#bd3786"
            ],
            [
             0.5555555555555556,
             "#d8576b"
            ],
            [
             0.6666666666666666,
             "#ed7953"
            ],
            [
             0.7777777777777778,
             "#fb9f3a"
            ],
            [
             0.8888888888888888,
             "#fdca26"
            ],
            [
             1,
             "#f0f921"
            ]
           ],
           "sequentialminus": [
            [
             0,
             "#0d0887"
            ],
            [
             0.1111111111111111,
             "#46039f"
            ],
            [
             0.2222222222222222,
             "#7201a8"
            ],
            [
             0.3333333333333333,
             "#9c179e"
            ],
            [
             0.4444444444444444,
             "#bd3786"
            ],
            [
             0.5555555555555556,
             "#d8576b"
            ],
            [
             0.6666666666666666,
             "#ed7953"
            ],
            [
             0.7777777777777778,
             "#fb9f3a"
            ],
            [
             0.8888888888888888,
             "#fdca26"
            ],
            [
             1,
             "#f0f921"
            ]
           ]
          },
          "colorway": [
           "#636efa",
           "#EF553B",
           "#00cc96",
           "#ab63fa",
           "#FFA15A",
           "#19d3f3",
           "#FF6692",
           "#B6E880",
           "#FF97FF",
           "#FECB52"
          ],
          "font": {
           "color": "#2a3f5f"
          },
          "geo": {
           "bgcolor": "white",
           "lakecolor": "white",
           "landcolor": "#E5ECF6",
           "showlakes": true,
           "showland": true,
           "subunitcolor": "white"
          },
          "hoverlabel": {
           "align": "left"
          },
          "hovermode": "closest",
          "mapbox": {
           "style": "light"
          },
          "paper_bgcolor": "white",
          "plot_bgcolor": "#E5ECF6",
          "polar": {
           "angularaxis": {
            "gridcolor": "white",
            "linecolor": "white",
            "ticks": ""
           },
           "bgcolor": "#E5ECF6",
           "radialaxis": {
            "gridcolor": "white",
            "linecolor": "white",
            "ticks": ""
           }
          },
          "scene": {
           "xaxis": {
            "backgroundcolor": "#E5ECF6",
            "gridcolor": "white",
            "gridwidth": 2,
            "linecolor": "white",
            "showbackground": true,
            "ticks": "",
            "zerolinecolor": "white"
           },
           "yaxis": {
            "backgroundcolor": "#E5ECF6",
            "gridcolor": "white",
            "gridwidth": 2,
            "linecolor": "white",
            "showbackground": true,
            "ticks": "",
            "zerolinecolor": "white"
           },
           "zaxis": {
            "backgroundcolor": "#E5ECF6",
            "gridcolor": "white",
            "gridwidth": 2,
            "linecolor": "white",
            "showbackground": true,
            "ticks": "",
            "zerolinecolor": "white"
           }
          },
          "shapedefaults": {
           "line": {
            "color": "#2a3f5f"
           }
          },
          "ternary": {
           "aaxis": {
            "gridcolor": "white",
            "linecolor": "white",
            "ticks": ""
           },
           "baxis": {
            "gridcolor": "white",
            "linecolor": "white",
            "ticks": ""
           },
           "bgcolor": "#E5ECF6",
           "caxis": {
            "gridcolor": "white",
            "linecolor": "white",
            "ticks": ""
           }
          },
          "title": {
           "x": 0.05
          },
          "xaxis": {
           "automargin": true,
           "gridcolor": "white",
           "linecolor": "white",
           "ticks": "",
           "title": {
            "standoff": 15
           },
           "zerolinecolor": "white",
           "zerolinewidth": 2
          },
          "yaxis": {
           "automargin": true,
           "gridcolor": "white",
           "linecolor": "white",
           "ticks": "",
           "title": {
            "standoff": 15
           },
           "zerolinecolor": "white",
           "zerolinewidth": 2
          }
         }
        },
        "title": {
         "text": "Varianza de las Variables Utilizadas (Ordenadas de Mayor a Menor)"
        },
        "xaxis": {
         "anchor": "y",
         "domain": [
          0,
          1
         ],
         "title": {
          "text": "Varianza"
         }
        },
        "yaxis": {
         "anchor": "x",
         "domain": [
          0,
          1
         ],
         "title": {
          "text": "Variables"
         }
        }
       }
      }
     },
     "metadata": {},
     "output_type": "display_data"
    }
   ],
   "source": [
    "variance_of_used_columns = X_train_transformed_df.var()\n",
    "\n",
    "variance_of_used_columns_sorted = variance_of_used_columns.sort_values(ascending=True)\n",
    "\n",
    "fig = px.bar(variance_of_used_columns_sorted, orientation='h', labels={'value': 'Varianza', 'index': 'Variables'},\n",
    "             title='Varianza de las Variables Utilizadas (Ordenadas de Mayor a Menor)')\n",
    "\n",
    "fig.show()"
   ]
  },
  {
   "cell_type": "code",
   "execution_count": 9,
   "metadata": {},
   "outputs": [
    {
     "data": {
      "text/html": [
       "<style>#sk-container-id-1 {\n",
       "  /* Definition of color scheme common for light and dark mode */\n",
       "  --sklearn-color-text: black;\n",
       "  --sklearn-color-line: gray;\n",
       "  /* Definition of color scheme for unfitted estimators */\n",
       "  --sklearn-color-unfitted-level-0: #fff5e6;\n",
       "  --sklearn-color-unfitted-level-1: #f6e4d2;\n",
       "  --sklearn-color-unfitted-level-2: #ffe0b3;\n",
       "  --sklearn-color-unfitted-level-3: chocolate;\n",
       "  /* Definition of color scheme for fitted estimators */\n",
       "  --sklearn-color-fitted-level-0: #f0f8ff;\n",
       "  --sklearn-color-fitted-level-1: #d4ebff;\n",
       "  --sklearn-color-fitted-level-2: #b3dbfd;\n",
       "  --sklearn-color-fitted-level-3: cornflowerblue;\n",
       "\n",
       "  /* Specific color for light theme */\n",
       "  --sklearn-color-text-on-default-background: var(--sg-text-color, var(--theme-code-foreground, var(--jp-content-font-color1, black)));\n",
       "  --sklearn-color-background: var(--sg-background-color, var(--theme-background, var(--jp-layout-color0, white)));\n",
       "  --sklearn-color-border-box: var(--sg-text-color, var(--theme-code-foreground, var(--jp-content-font-color1, black)));\n",
       "  --sklearn-color-icon: #696969;\n",
       "\n",
       "  @media (prefers-color-scheme: dark) {\n",
       "    /* Redefinition of color scheme for dark theme */\n",
       "    --sklearn-color-text-on-default-background: var(--sg-text-color, var(--theme-code-foreground, var(--jp-content-font-color1, white)));\n",
       "    --sklearn-color-background: var(--sg-background-color, var(--theme-background, var(--jp-layout-color0, #111)));\n",
       "    --sklearn-color-border-box: var(--sg-text-color, var(--theme-code-foreground, var(--jp-content-font-color1, white)));\n",
       "    --sklearn-color-icon: #878787;\n",
       "  }\n",
       "}\n",
       "\n",
       "#sk-container-id-1 {\n",
       "  color: var(--sklearn-color-text);\n",
       "}\n",
       "\n",
       "#sk-container-id-1 pre {\n",
       "  padding: 0;\n",
       "}\n",
       "\n",
       "#sk-container-id-1 input.sk-hidden--visually {\n",
       "  border: 0;\n",
       "  clip: rect(1px 1px 1px 1px);\n",
       "  clip: rect(1px, 1px, 1px, 1px);\n",
       "  height: 1px;\n",
       "  margin: -1px;\n",
       "  overflow: hidden;\n",
       "  padding: 0;\n",
       "  position: absolute;\n",
       "  width: 1px;\n",
       "}\n",
       "\n",
       "#sk-container-id-1 div.sk-dashed-wrapped {\n",
       "  border: 1px dashed var(--sklearn-color-line);\n",
       "  margin: 0 0.4em 0.5em 0.4em;\n",
       "  box-sizing: border-box;\n",
       "  padding-bottom: 0.4em;\n",
       "  background-color: var(--sklearn-color-background);\n",
       "}\n",
       "\n",
       "#sk-container-id-1 div.sk-container {\n",
       "  /* jupyter's `normalize.less` sets `[hidden] { display: none; }`\n",
       "     but bootstrap.min.css set `[hidden] { display: none !important; }`\n",
       "     so we also need the `!important` here to be able to override the\n",
       "     default hidden behavior on the sphinx rendered scikit-learn.org.\n",
       "     See: https://github.com/scikit-learn/scikit-learn/issues/21755 */\n",
       "  display: inline-block !important;\n",
       "  position: relative;\n",
       "}\n",
       "\n",
       "#sk-container-id-1 div.sk-text-repr-fallback {\n",
       "  display: none;\n",
       "}\n",
       "\n",
       "div.sk-parallel-item,\n",
       "div.sk-serial,\n",
       "div.sk-item {\n",
       "  /* draw centered vertical line to link estimators */\n",
       "  background-image: linear-gradient(var(--sklearn-color-text-on-default-background), var(--sklearn-color-text-on-default-background));\n",
       "  background-size: 2px 100%;\n",
       "  background-repeat: no-repeat;\n",
       "  background-position: center center;\n",
       "}\n",
       "\n",
       "/* Parallel-specific style estimator block */\n",
       "\n",
       "#sk-container-id-1 div.sk-parallel-item::after {\n",
       "  content: \"\";\n",
       "  width: 100%;\n",
       "  border-bottom: 2px solid var(--sklearn-color-text-on-default-background);\n",
       "  flex-grow: 1;\n",
       "}\n",
       "\n",
       "#sk-container-id-1 div.sk-parallel {\n",
       "  display: flex;\n",
       "  align-items: stretch;\n",
       "  justify-content: center;\n",
       "  background-color: var(--sklearn-color-background);\n",
       "  position: relative;\n",
       "}\n",
       "\n",
       "#sk-container-id-1 div.sk-parallel-item {\n",
       "  display: flex;\n",
       "  flex-direction: column;\n",
       "}\n",
       "\n",
       "#sk-container-id-1 div.sk-parallel-item:first-child::after {\n",
       "  align-self: flex-end;\n",
       "  width: 50%;\n",
       "}\n",
       "\n",
       "#sk-container-id-1 div.sk-parallel-item:last-child::after {\n",
       "  align-self: flex-start;\n",
       "  width: 50%;\n",
       "}\n",
       "\n",
       "#sk-container-id-1 div.sk-parallel-item:only-child::after {\n",
       "  width: 0;\n",
       "}\n",
       "\n",
       "/* Serial-specific style estimator block */\n",
       "\n",
       "#sk-container-id-1 div.sk-serial {\n",
       "  display: flex;\n",
       "  flex-direction: column;\n",
       "  align-items: center;\n",
       "  background-color: var(--sklearn-color-background);\n",
       "  padding-right: 1em;\n",
       "  padding-left: 1em;\n",
       "}\n",
       "\n",
       "\n",
       "/* Toggleable style: style used for estimator/Pipeline/ColumnTransformer box that is\n",
       "clickable and can be expanded/collapsed.\n",
       "- Pipeline and ColumnTransformer use this feature and define the default style\n",
       "- Estimators will overwrite some part of the style using the `sk-estimator` class\n",
       "*/\n",
       "\n",
       "/* Pipeline and ColumnTransformer style (default) */\n",
       "\n",
       "#sk-container-id-1 div.sk-toggleable {\n",
       "  /* Default theme specific background. It is overwritten whether we have a\n",
       "  specific estimator or a Pipeline/ColumnTransformer */\n",
       "  background-color: var(--sklearn-color-background);\n",
       "}\n",
       "\n",
       "/* Toggleable label */\n",
       "#sk-container-id-1 label.sk-toggleable__label {\n",
       "  cursor: pointer;\n",
       "  display: block;\n",
       "  width: 100%;\n",
       "  margin-bottom: 0;\n",
       "  padding: 0.5em;\n",
       "  box-sizing: border-box;\n",
       "  text-align: center;\n",
       "}\n",
       "\n",
       "#sk-container-id-1 label.sk-toggleable__label-arrow:before {\n",
       "  /* Arrow on the left of the label */\n",
       "  content: \"▸\";\n",
       "  float: left;\n",
       "  margin-right: 0.25em;\n",
       "  color: var(--sklearn-color-icon);\n",
       "}\n",
       "\n",
       "#sk-container-id-1 label.sk-toggleable__label-arrow:hover:before {\n",
       "  color: var(--sklearn-color-text);\n",
       "}\n",
       "\n",
       "/* Toggleable content - dropdown */\n",
       "\n",
       "#sk-container-id-1 div.sk-toggleable__content {\n",
       "  max-height: 0;\n",
       "  max-width: 0;\n",
       "  overflow: hidden;\n",
       "  text-align: left;\n",
       "  /* unfitted */\n",
       "  background-color: var(--sklearn-color-unfitted-level-0);\n",
       "}\n",
       "\n",
       "#sk-container-id-1 div.sk-toggleable__content.fitted {\n",
       "  /* fitted */\n",
       "  background-color: var(--sklearn-color-fitted-level-0);\n",
       "}\n",
       "\n",
       "#sk-container-id-1 div.sk-toggleable__content pre {\n",
       "  margin: 0.2em;\n",
       "  border-radius: 0.25em;\n",
       "  color: var(--sklearn-color-text);\n",
       "  /* unfitted */\n",
       "  background-color: var(--sklearn-color-unfitted-level-0);\n",
       "}\n",
       "\n",
       "#sk-container-id-1 div.sk-toggleable__content.fitted pre {\n",
       "  /* unfitted */\n",
       "  background-color: var(--sklearn-color-fitted-level-0);\n",
       "}\n",
       "\n",
       "#sk-container-id-1 input.sk-toggleable__control:checked~div.sk-toggleable__content {\n",
       "  /* Expand drop-down */\n",
       "  max-height: 200px;\n",
       "  max-width: 100%;\n",
       "  overflow: auto;\n",
       "}\n",
       "\n",
       "#sk-container-id-1 input.sk-toggleable__control:checked~label.sk-toggleable__label-arrow:before {\n",
       "  content: \"▾\";\n",
       "}\n",
       "\n",
       "/* Pipeline/ColumnTransformer-specific style */\n",
       "\n",
       "#sk-container-id-1 div.sk-label input.sk-toggleable__control:checked~label.sk-toggleable__label {\n",
       "  color: var(--sklearn-color-text);\n",
       "  background-color: var(--sklearn-color-unfitted-level-2);\n",
       "}\n",
       "\n",
       "#sk-container-id-1 div.sk-label.fitted input.sk-toggleable__control:checked~label.sk-toggleable__label {\n",
       "  background-color: var(--sklearn-color-fitted-level-2);\n",
       "}\n",
       "\n",
       "/* Estimator-specific style */\n",
       "\n",
       "/* Colorize estimator box */\n",
       "#sk-container-id-1 div.sk-estimator input.sk-toggleable__control:checked~label.sk-toggleable__label {\n",
       "  /* unfitted */\n",
       "  background-color: var(--sklearn-color-unfitted-level-2);\n",
       "}\n",
       "\n",
       "#sk-container-id-1 div.sk-estimator.fitted input.sk-toggleable__control:checked~label.sk-toggleable__label {\n",
       "  /* fitted */\n",
       "  background-color: var(--sklearn-color-fitted-level-2);\n",
       "}\n",
       "\n",
       "#sk-container-id-1 div.sk-label label.sk-toggleable__label,\n",
       "#sk-container-id-1 div.sk-label label {\n",
       "  /* The background is the default theme color */\n",
       "  color: var(--sklearn-color-text-on-default-background);\n",
       "}\n",
       "\n",
       "/* On hover, darken the color of the background */\n",
       "#sk-container-id-1 div.sk-label:hover label.sk-toggleable__label {\n",
       "  color: var(--sklearn-color-text);\n",
       "  background-color: var(--sklearn-color-unfitted-level-2);\n",
       "}\n",
       "\n",
       "/* Label box, darken color on hover, fitted */\n",
       "#sk-container-id-1 div.sk-label.fitted:hover label.sk-toggleable__label.fitted {\n",
       "  color: var(--sklearn-color-text);\n",
       "  background-color: var(--sklearn-color-fitted-level-2);\n",
       "}\n",
       "\n",
       "/* Estimator label */\n",
       "\n",
       "#sk-container-id-1 div.sk-label label {\n",
       "  font-family: monospace;\n",
       "  font-weight: bold;\n",
       "  display: inline-block;\n",
       "  line-height: 1.2em;\n",
       "}\n",
       "\n",
       "#sk-container-id-1 div.sk-label-container {\n",
       "  text-align: center;\n",
       "}\n",
       "\n",
       "/* Estimator-specific */\n",
       "#sk-container-id-1 div.sk-estimator {\n",
       "  font-family: monospace;\n",
       "  border: 1px dotted var(--sklearn-color-border-box);\n",
       "  border-radius: 0.25em;\n",
       "  box-sizing: border-box;\n",
       "  margin-bottom: 0.5em;\n",
       "  /* unfitted */\n",
       "  background-color: var(--sklearn-color-unfitted-level-0);\n",
       "}\n",
       "\n",
       "#sk-container-id-1 div.sk-estimator.fitted {\n",
       "  /* fitted */\n",
       "  background-color: var(--sklearn-color-fitted-level-0);\n",
       "}\n",
       "\n",
       "/* on hover */\n",
       "#sk-container-id-1 div.sk-estimator:hover {\n",
       "  /* unfitted */\n",
       "  background-color: var(--sklearn-color-unfitted-level-2);\n",
       "}\n",
       "\n",
       "#sk-container-id-1 div.sk-estimator.fitted:hover {\n",
       "  /* fitted */\n",
       "  background-color: var(--sklearn-color-fitted-level-2);\n",
       "}\n",
       "\n",
       "/* Specification for estimator info (e.g. \"i\" and \"?\") */\n",
       "\n",
       "/* Common style for \"i\" and \"?\" */\n",
       "\n",
       ".sk-estimator-doc-link,\n",
       "a:link.sk-estimator-doc-link,\n",
       "a:visited.sk-estimator-doc-link {\n",
       "  float: right;\n",
       "  font-size: smaller;\n",
       "  line-height: 1em;\n",
       "  font-family: monospace;\n",
       "  background-color: var(--sklearn-color-background);\n",
       "  border-radius: 1em;\n",
       "  height: 1em;\n",
       "  width: 1em;\n",
       "  text-decoration: none !important;\n",
       "  margin-left: 1ex;\n",
       "  /* unfitted */\n",
       "  border: var(--sklearn-color-unfitted-level-1) 1pt solid;\n",
       "  color: var(--sklearn-color-unfitted-level-1);\n",
       "}\n",
       "\n",
       ".sk-estimator-doc-link.fitted,\n",
       "a:link.sk-estimator-doc-link.fitted,\n",
       "a:visited.sk-estimator-doc-link.fitted {\n",
       "  /* fitted */\n",
       "  border: var(--sklearn-color-fitted-level-1) 1pt solid;\n",
       "  color: var(--sklearn-color-fitted-level-1);\n",
       "}\n",
       "\n",
       "/* On hover */\n",
       "div.sk-estimator:hover .sk-estimator-doc-link:hover,\n",
       ".sk-estimator-doc-link:hover,\n",
       "div.sk-label-container:hover .sk-estimator-doc-link:hover,\n",
       ".sk-estimator-doc-link:hover {\n",
       "  /* unfitted */\n",
       "  background-color: var(--sklearn-color-unfitted-level-3);\n",
       "  color: var(--sklearn-color-background);\n",
       "  text-decoration: none;\n",
       "}\n",
       "\n",
       "div.sk-estimator.fitted:hover .sk-estimator-doc-link.fitted:hover,\n",
       ".sk-estimator-doc-link.fitted:hover,\n",
       "div.sk-label-container:hover .sk-estimator-doc-link.fitted:hover,\n",
       ".sk-estimator-doc-link.fitted:hover {\n",
       "  /* fitted */\n",
       "  background-color: var(--sklearn-color-fitted-level-3);\n",
       "  color: var(--sklearn-color-background);\n",
       "  text-decoration: none;\n",
       "}\n",
       "\n",
       "/* Span, style for the box shown on hovering the info icon */\n",
       ".sk-estimator-doc-link span {\n",
       "  display: none;\n",
       "  z-index: 9999;\n",
       "  position: relative;\n",
       "  font-weight: normal;\n",
       "  right: .2ex;\n",
       "  padding: .5ex;\n",
       "  margin: .5ex;\n",
       "  width: min-content;\n",
       "  min-width: 20ex;\n",
       "  max-width: 50ex;\n",
       "  color: var(--sklearn-color-text);\n",
       "  box-shadow: 2pt 2pt 4pt #999;\n",
       "  /* unfitted */\n",
       "  background: var(--sklearn-color-unfitted-level-0);\n",
       "  border: .5pt solid var(--sklearn-color-unfitted-level-3);\n",
       "}\n",
       "\n",
       ".sk-estimator-doc-link.fitted span {\n",
       "  /* fitted */\n",
       "  background: var(--sklearn-color-fitted-level-0);\n",
       "  border: var(--sklearn-color-fitted-level-3);\n",
       "}\n",
       "\n",
       ".sk-estimator-doc-link:hover span {\n",
       "  display: block;\n",
       "}\n",
       "\n",
       "/* \"?\"-specific style due to the `<a>` HTML tag */\n",
       "\n",
       "#sk-container-id-1 a.estimator_doc_link {\n",
       "  float: right;\n",
       "  font-size: 1rem;\n",
       "  line-height: 1em;\n",
       "  font-family: monospace;\n",
       "  background-color: var(--sklearn-color-background);\n",
       "  border-radius: 1rem;\n",
       "  height: 1rem;\n",
       "  width: 1rem;\n",
       "  text-decoration: none;\n",
       "  /* unfitted */\n",
       "  color: var(--sklearn-color-unfitted-level-1);\n",
       "  border: var(--sklearn-color-unfitted-level-1) 1pt solid;\n",
       "}\n",
       "\n",
       "#sk-container-id-1 a.estimator_doc_link.fitted {\n",
       "  /* fitted */\n",
       "  border: var(--sklearn-color-fitted-level-1) 1pt solid;\n",
       "  color: var(--sklearn-color-fitted-level-1);\n",
       "}\n",
       "\n",
       "/* On hover */\n",
       "#sk-container-id-1 a.estimator_doc_link:hover {\n",
       "  /* unfitted */\n",
       "  background-color: var(--sklearn-color-unfitted-level-3);\n",
       "  color: var(--sklearn-color-background);\n",
       "  text-decoration: none;\n",
       "}\n",
       "\n",
       "#sk-container-id-1 a.estimator_doc_link.fitted:hover {\n",
       "  /* fitted */\n",
       "  background-color: var(--sklearn-color-fitted-level-3);\n",
       "}\n",
       "</style><div id=\"sk-container-id-1\" class=\"sk-top-container\"><div class=\"sk-text-repr-fallback\"><pre>Pipeline(steps=[(&#x27;preprocessor&#x27;,\n",
       "                 ColumnTransformer(transformers=[(&#x27;num&#x27;,\n",
       "                                                  Pipeline(steps=[(&#x27;imputer&#x27;,\n",
       "                                                                   SimpleImputer()),\n",
       "                                                                  (&#x27;scaler&#x27;,\n",
       "                                                                   StandardScaler())]),\n",
       "                                                  Index([&#x27;rating&#x27;, &#x27;latitud&#x27;, &#x27;longitud&#x27;, &#x27;latitud_final&#x27;, &#x27;longitud_final&#x27;,\n",
       "       &#x27;anio_fabricacion&#x27;, &#x27;puntos_carnet&#x27;, &#x27;cilindraje_motor&#x27;, &#x27;kilometraje&#x27;,\n",
       "       &#x27;anio_registro_app&#x27;, &#x27;edad_cliente&#x27;],\n",
       "      dtype=&#x27;object&#x27;)),\n",
       "                                                 (&#x27;cat&#x27;,\n",
       "                                                  Pipelin...\n",
       "                              feature_types=None, gamma=None, grow_policy=None,\n",
       "                              importance_type=None,\n",
       "                              interaction_constraints=None, learning_rate=0.1,\n",
       "                              max_bin=None, max_cat_threshold=None,\n",
       "                              max_cat_to_onehot=None, max_delta_step=None,\n",
       "                              max_depth=5, max_leaves=None,\n",
       "                              min_child_weight=None, missing=nan,\n",
       "                              monotone_constraints=None, multi_strategy=None,\n",
       "                              n_estimators=200, n_jobs=None,\n",
       "                              num_parallel_tree=None, random_state=42, ...))])</pre><b>In a Jupyter environment, please rerun this cell to show the HTML representation or trust the notebook. <br />On GitHub, the HTML representation is unable to render, please try loading this page with nbviewer.org.</b></div><div class=\"sk-container\" hidden><div class=\"sk-item sk-dashed-wrapped\"><div class=\"sk-label-container\"><div class=\"sk-label fitted sk-toggleable\"><input class=\"sk-toggleable__control sk-hidden--visually\" id=\"sk-estimator-id-1\" type=\"checkbox\" ><label for=\"sk-estimator-id-1\" class=\"sk-toggleable__label fitted sk-toggleable__label-arrow fitted\">&nbsp;&nbsp;Pipeline<a class=\"sk-estimator-doc-link fitted\" rel=\"noreferrer\" target=\"_blank\" href=\"https://scikit-learn.org/1.4/modules/generated/sklearn.pipeline.Pipeline.html\">?<span>Documentation for Pipeline</span></a><span class=\"sk-estimator-doc-link fitted\">i<span>Fitted</span></span></label><div class=\"sk-toggleable__content fitted\"><pre>Pipeline(steps=[(&#x27;preprocessor&#x27;,\n",
       "                 ColumnTransformer(transformers=[(&#x27;num&#x27;,\n",
       "                                                  Pipeline(steps=[(&#x27;imputer&#x27;,\n",
       "                                                                   SimpleImputer()),\n",
       "                                                                  (&#x27;scaler&#x27;,\n",
       "                                                                   StandardScaler())]),\n",
       "                                                  Index([&#x27;rating&#x27;, &#x27;latitud&#x27;, &#x27;longitud&#x27;, &#x27;latitud_final&#x27;, &#x27;longitud_final&#x27;,\n",
       "       &#x27;anio_fabricacion&#x27;, &#x27;puntos_carnet&#x27;, &#x27;cilindraje_motor&#x27;, &#x27;kilometraje&#x27;,\n",
       "       &#x27;anio_registro_app&#x27;, &#x27;edad_cliente&#x27;],\n",
       "      dtype=&#x27;object&#x27;)),\n",
       "                                                 (&#x27;cat&#x27;,\n",
       "                                                  Pipelin...\n",
       "                              feature_types=None, gamma=None, grow_policy=None,\n",
       "                              importance_type=None,\n",
       "                              interaction_constraints=None, learning_rate=0.1,\n",
       "                              max_bin=None, max_cat_threshold=None,\n",
       "                              max_cat_to_onehot=None, max_delta_step=None,\n",
       "                              max_depth=5, max_leaves=None,\n",
       "                              min_child_weight=None, missing=nan,\n",
       "                              monotone_constraints=None, multi_strategy=None,\n",
       "                              n_estimators=200, n_jobs=None,\n",
       "                              num_parallel_tree=None, random_state=42, ...))])</pre></div> </div></div><div class=\"sk-serial\"><div class=\"sk-item sk-dashed-wrapped\"><div class=\"sk-label-container\"><div class=\"sk-label fitted sk-toggleable\"><input class=\"sk-toggleable__control sk-hidden--visually\" id=\"sk-estimator-id-2\" type=\"checkbox\" ><label for=\"sk-estimator-id-2\" class=\"sk-toggleable__label fitted sk-toggleable__label-arrow fitted\">&nbsp;preprocessor: ColumnTransformer<a class=\"sk-estimator-doc-link fitted\" rel=\"noreferrer\" target=\"_blank\" href=\"https://scikit-learn.org/1.4/modules/generated/sklearn.compose.ColumnTransformer.html\">?<span>Documentation for preprocessor: ColumnTransformer</span></a></label><div class=\"sk-toggleable__content fitted\"><pre>ColumnTransformer(transformers=[(&#x27;num&#x27;,\n",
       "                                 Pipeline(steps=[(&#x27;imputer&#x27;, SimpleImputer()),\n",
       "                                                 (&#x27;scaler&#x27;, StandardScaler())]),\n",
       "                                 Index([&#x27;rating&#x27;, &#x27;latitud&#x27;, &#x27;longitud&#x27;, &#x27;latitud_final&#x27;, &#x27;longitud_final&#x27;,\n",
       "       &#x27;anio_fabricacion&#x27;, &#x27;puntos_carnet&#x27;, &#x27;cilindraje_motor&#x27;, &#x27;kilometraje&#x27;,\n",
       "       &#x27;anio_registro_app&#x27;, &#x27;edad_cliente&#x27;],\n",
       "      dtype=&#x27;object&#x27;)),\n",
       "                                (&#x27;cat&#x27;,\n",
       "                                 Pipeline(steps=[(&#x27;imputer&#x27;,\n",
       "                                                  SimpleImputer(strategy=&#x27;most_frequent&#x27;)),\n",
       "                                                 (&#x27;onehot&#x27;,\n",
       "                                                  OneHotEncoder(handle_unknown=&#x27;ignore&#x27;))]),\n",
       "                                 Index([&#x27;metodo_pago&#x27;, &#x27;marca_coche&#x27;, &#x27;color_coche&#x27;, &#x27;tipo_combustible&#x27;,\n",
       "       &#x27;genero_cliente&#x27;, &#x27;trabajo_cliente&#x27;],\n",
       "      dtype=&#x27;object&#x27;)),\n",
       "                                (&#x27;bool&#x27;,\n",
       "                                 Pipeline(steps=[(&#x27;imputer&#x27;,\n",
       "                                                  SimpleImputer(strategy=&#x27;most_frequent&#x27;))]),\n",
       "                                 Index([&#x27;tiene_calefaccion&#x27;], dtype=&#x27;object&#x27;))])</pre></div> </div></div><div class=\"sk-parallel\"><div class=\"sk-parallel-item\"><div class=\"sk-item\"><div class=\"sk-label-container\"><div class=\"sk-label fitted sk-toggleable\"><input class=\"sk-toggleable__control sk-hidden--visually\" id=\"sk-estimator-id-3\" type=\"checkbox\" ><label for=\"sk-estimator-id-3\" class=\"sk-toggleable__label fitted sk-toggleable__label-arrow fitted\">num</label><div class=\"sk-toggleable__content fitted\"><pre>Index([&#x27;rating&#x27;, &#x27;latitud&#x27;, &#x27;longitud&#x27;, &#x27;latitud_final&#x27;, &#x27;longitud_final&#x27;,\n",
       "       &#x27;anio_fabricacion&#x27;, &#x27;puntos_carnet&#x27;, &#x27;cilindraje_motor&#x27;, &#x27;kilometraje&#x27;,\n",
       "       &#x27;anio_registro_app&#x27;, &#x27;edad_cliente&#x27;],\n",
       "      dtype=&#x27;object&#x27;)</pre></div> </div></div><div class=\"sk-serial\"><div class=\"sk-item\"><div class=\"sk-serial\"><div class=\"sk-item\"><div class=\"sk-estimator fitted sk-toggleable\"><input class=\"sk-toggleable__control sk-hidden--visually\" id=\"sk-estimator-id-4\" type=\"checkbox\" ><label for=\"sk-estimator-id-4\" class=\"sk-toggleable__label fitted sk-toggleable__label-arrow fitted\">&nbsp;SimpleImputer<a class=\"sk-estimator-doc-link fitted\" rel=\"noreferrer\" target=\"_blank\" href=\"https://scikit-learn.org/1.4/modules/generated/sklearn.impute.SimpleImputer.html\">?<span>Documentation for SimpleImputer</span></a></label><div class=\"sk-toggleable__content fitted\"><pre>SimpleImputer()</pre></div> </div></div><div class=\"sk-item\"><div class=\"sk-estimator fitted sk-toggleable\"><input class=\"sk-toggleable__control sk-hidden--visually\" id=\"sk-estimator-id-5\" type=\"checkbox\" ><label for=\"sk-estimator-id-5\" class=\"sk-toggleable__label fitted sk-toggleable__label-arrow fitted\">&nbsp;StandardScaler<a class=\"sk-estimator-doc-link fitted\" rel=\"noreferrer\" target=\"_blank\" href=\"https://scikit-learn.org/1.4/modules/generated/sklearn.preprocessing.StandardScaler.html\">?<span>Documentation for StandardScaler</span></a></label><div class=\"sk-toggleable__content fitted\"><pre>StandardScaler()</pre></div> </div></div></div></div></div></div></div><div class=\"sk-parallel-item\"><div class=\"sk-item\"><div class=\"sk-label-container\"><div class=\"sk-label fitted sk-toggleable\"><input class=\"sk-toggleable__control sk-hidden--visually\" id=\"sk-estimator-id-6\" type=\"checkbox\" ><label for=\"sk-estimator-id-6\" class=\"sk-toggleable__label fitted sk-toggleable__label-arrow fitted\">cat</label><div class=\"sk-toggleable__content fitted\"><pre>Index([&#x27;metodo_pago&#x27;, &#x27;marca_coche&#x27;, &#x27;color_coche&#x27;, &#x27;tipo_combustible&#x27;,\n",
       "       &#x27;genero_cliente&#x27;, &#x27;trabajo_cliente&#x27;],\n",
       "      dtype=&#x27;object&#x27;)</pre></div> </div></div><div class=\"sk-serial\"><div class=\"sk-item\"><div class=\"sk-serial\"><div class=\"sk-item\"><div class=\"sk-estimator fitted sk-toggleable\"><input class=\"sk-toggleable__control sk-hidden--visually\" id=\"sk-estimator-id-7\" type=\"checkbox\" ><label for=\"sk-estimator-id-7\" class=\"sk-toggleable__label fitted sk-toggleable__label-arrow fitted\">&nbsp;SimpleImputer<a class=\"sk-estimator-doc-link fitted\" rel=\"noreferrer\" target=\"_blank\" href=\"https://scikit-learn.org/1.4/modules/generated/sklearn.impute.SimpleImputer.html\">?<span>Documentation for SimpleImputer</span></a></label><div class=\"sk-toggleable__content fitted\"><pre>SimpleImputer(strategy=&#x27;most_frequent&#x27;)</pre></div> </div></div><div class=\"sk-item\"><div class=\"sk-estimator fitted sk-toggleable\"><input class=\"sk-toggleable__control sk-hidden--visually\" id=\"sk-estimator-id-8\" type=\"checkbox\" ><label for=\"sk-estimator-id-8\" class=\"sk-toggleable__label fitted sk-toggleable__label-arrow fitted\">&nbsp;OneHotEncoder<a class=\"sk-estimator-doc-link fitted\" rel=\"noreferrer\" target=\"_blank\" href=\"https://scikit-learn.org/1.4/modules/generated/sklearn.preprocessing.OneHotEncoder.html\">?<span>Documentation for OneHotEncoder</span></a></label><div class=\"sk-toggleable__content fitted\"><pre>OneHotEncoder(handle_unknown=&#x27;ignore&#x27;)</pre></div> </div></div></div></div></div></div></div><div class=\"sk-parallel-item\"><div class=\"sk-item\"><div class=\"sk-label-container\"><div class=\"sk-label fitted sk-toggleable\"><input class=\"sk-toggleable__control sk-hidden--visually\" id=\"sk-estimator-id-9\" type=\"checkbox\" ><label for=\"sk-estimator-id-9\" class=\"sk-toggleable__label fitted sk-toggleable__label-arrow fitted\">bool</label><div class=\"sk-toggleable__content fitted\"><pre>Index([&#x27;tiene_calefaccion&#x27;], dtype=&#x27;object&#x27;)</pre></div> </div></div><div class=\"sk-serial\"><div class=\"sk-item\"><div class=\"sk-serial\"><div class=\"sk-item\"><div class=\"sk-estimator fitted sk-toggleable\"><input class=\"sk-toggleable__control sk-hidden--visually\" id=\"sk-estimator-id-10\" type=\"checkbox\" ><label for=\"sk-estimator-id-10\" class=\"sk-toggleable__label fitted sk-toggleable__label-arrow fitted\">&nbsp;SimpleImputer<a class=\"sk-estimator-doc-link fitted\" rel=\"noreferrer\" target=\"_blank\" href=\"https://scikit-learn.org/1.4/modules/generated/sklearn.impute.SimpleImputer.html\">?<span>Documentation for SimpleImputer</span></a></label><div class=\"sk-toggleable__content fitted\"><pre>SimpleImputer(strategy=&#x27;most_frequent&#x27;)</pre></div> </div></div></div></div></div></div></div></div></div><div class=\"sk-item\"><div class=\"sk-estimator fitted sk-toggleable\"><input class=\"sk-toggleable__control sk-hidden--visually\" id=\"sk-estimator-id-11\" type=\"checkbox\" ><label for=\"sk-estimator-id-11\" class=\"sk-toggleable__label fitted sk-toggleable__label-arrow fitted\">XGBRegressor</label><div class=\"sk-toggleable__content fitted\"><pre>XGBRegressor(base_score=None, booster=None, callbacks=None,\n",
       "             colsample_bylevel=None, colsample_bynode=None,\n",
       "             colsample_bytree=1.0, device=None, early_stopping_rounds=None,\n",
       "             enable_categorical=False, eval_metric=None, feature_types=None,\n",
       "             gamma=None, grow_policy=None, importance_type=None,\n",
       "             interaction_constraints=None, learning_rate=0.1, max_bin=None,\n",
       "             max_cat_threshold=None, max_cat_to_onehot=None,\n",
       "             max_delta_step=None, max_depth=5, max_leaves=None,\n",
       "             min_child_weight=None, missing=nan, monotone_constraints=None,\n",
       "             multi_strategy=None, n_estimators=200, n_jobs=None,\n",
       "             num_parallel_tree=None, random_state=42, ...)</pre></div> </div></div></div></div></div></div>"
      ],
      "text/plain": [
       "Pipeline(steps=[('preprocessor',\n",
       "                 ColumnTransformer(transformers=[('num',\n",
       "                                                  Pipeline(steps=[('imputer',\n",
       "                                                                   SimpleImputer()),\n",
       "                                                                  ('scaler',\n",
       "                                                                   StandardScaler())]),\n",
       "                                                  Index(['rating', 'latitud', 'longitud', 'latitud_final', 'longitud_final',\n",
       "       'anio_fabricacion', 'puntos_carnet', 'cilindraje_motor', 'kilometraje',\n",
       "       'anio_registro_app', 'edad_cliente'],\n",
       "      dtype='object')),\n",
       "                                                 ('cat',\n",
       "                                                  Pipelin...\n",
       "                              feature_types=None, gamma=None, grow_policy=None,\n",
       "                              importance_type=None,\n",
       "                              interaction_constraints=None, learning_rate=0.1,\n",
       "                              max_bin=None, max_cat_threshold=None,\n",
       "                              max_cat_to_onehot=None, max_delta_step=None,\n",
       "                              max_depth=5, max_leaves=None,\n",
       "                              min_child_weight=None, missing=nan,\n",
       "                              monotone_constraints=None, multi_strategy=None,\n",
       "                              n_estimators=200, n_jobs=None,\n",
       "                              num_parallel_tree=None, random_state=42, ...))])"
      ]
     },
     "execution_count": 9,
     "metadata": {},
     "output_type": "execute_result"
    }
   ],
   "source": [
    "best_model"
   ]
  },
  {
   "cell_type": "code",
   "execution_count": 10,
   "metadata": {},
   "outputs": [
    {
     "data": {
      "text/plain": [
       "['modelo_1.joblib']"
      ]
     },
     "execution_count": 10,
     "metadata": {},
     "output_type": "execute_result"
    }
   ],
   "source": [
    "import joblib\n",
    "\n",
    "joblib.dump(best_model, 'modelo_1.joblib')"
   ]
  },
  {
   "cell_type": "code",
   "execution_count": 11,
   "metadata": {},
   "outputs": [
    {
     "name": "stdout",
     "output_type": "stream",
     "text": [
      "Predicción de pago de viaje para el cliente: 5.642274856567383\n"
     ]
    }
   ],
   "source": [
    "cliente_data = {\n",
    "    'rating': [8.0],\n",
    "    'metodo_pago': ['Tarjeta'],\n",
    "    'latitud': [39.50802],\n",
    "    'longitud': [-0.32170],\n",
    "    'latitud_final': [39.47947],\n",
    "    'longitud_final': [-0.37594],\n",
    "    'timestamp': ['2024-02-17 11:10:33.369962+00:00'],\n",
    "    'marca_coche': ['BMW'],\n",
    "    'color_coche': ['Marrón siena'],\n",
    "    'anio_fabricacion': [2020],\n",
    "    'tipo_combustible': ['Híbrido'],\n",
    "    'tiene_calefaccion': [1],\n",
    "    'puntos_carnet': [11],\n",
    "    'cilindraje_motor': [2500],\n",
    "    'kilometraje': [42353],\n",
    "    'anio_registro_app': [2022],\n",
    "    'edad_cliente': [48],\n",
    "    'genero_cliente': ['mujer'],\n",
    "    'trabajo_cliente': ['Parquetero y colocador de suelos'],\n",
    "    'fecha_registro': ['2023-09-24']\n",
    "}\n",
    "\n",
    "cliente_df = pd.DataFrame(cliente_data)\n",
    "\n",
    "prediction = best_model.predict(cliente_df)\n",
    "\n",
    "print(f'Predicción de pago de viaje para el cliente: {prediction[0]}')\n"
   ]
  }
 ],
 "metadata": {
  "kernelspec": {
   "display_name": "Python 3",
   "language": "python",
   "name": "python3"
  },
  "language_info": {
   "codemirror_mode": {
    "name": "ipython",
    "version": 3
   },
   "file_extension": ".py",
   "mimetype": "text/x-python",
   "name": "python",
   "nbconvert_exporter": "python",
   "pygments_lexer": "ipython3",
   "version": "3.11.8"
  }
 },
 "nbformat": 4,
 "nbformat_minor": 2
}
