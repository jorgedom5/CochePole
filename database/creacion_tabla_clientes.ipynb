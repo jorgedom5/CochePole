{
 "cells": [
  {
   "cell_type": "code",
   "execution_count": 17,
   "metadata": {},
   "outputs": [],
   "source": [
    "import pandas as pd\n",
    "import numpy as np\n",
    "from faker import Faker\n",
    "import random\n",
    "import unicodedata\n",
    "import random\n",
    "from gender_guesser.detector import Detector\n",
    "from datetime import date\n",
    "fake = Faker('es_ES')\n",
    "Faker.seed(1000)"
   ]
  },
  {
   "cell_type": "code",
   "execution_count": 18,
   "metadata": {},
   "outputs": [],
   "source": [
    "df = pd.DataFrame()"
   ]
  },
  {
   "cell_type": "code",
   "execution_count": 19,
   "metadata": {},
   "outputs": [],
   "source": [
    "df['cliente_id'] = range(1, 100001)"
   ]
  },
  {
   "cell_type": "code",
   "execution_count": 20,
   "metadata": {},
   "outputs": [],
   "source": [
    "df['nombre_cliente'] = [unicodedata.normalize('NFKD', fake.first_name()).encode('ascii', 'ignore').decode('utf-8') for _ in range(len(df))]"
   ]
  },
  {
   "cell_type": "code",
   "execution_count": 21,
   "metadata": {},
   "outputs": [],
   "source": [
    "df['apellido_cliente'] = [unicodedata.normalize('NFKD', fake.last_name()).encode('ascii', 'ignore').decode('utf-8') for _ in range(len(df))]"
   ]
  },
  {
   "cell_type": "code",
   "execution_count": 22,
   "metadata": {},
   "outputs": [],
   "source": [
    "df['dni_cliente'] = [str(fake.nif()) for _ in range(len(df))]"
   ]
  },
  {
   "cell_type": "code",
   "execution_count": 23,
   "metadata": {},
   "outputs": [],
   "source": [
    "df['email_cliente'] = [f\"{nombre.lower()}.{apellido.lower()}@redhorn.com\" for nombre, apellido in zip(df['nombre_cliente'], df['apellido_cliente'])]"
   ]
  },
  {
   "cell_type": "code",
   "execution_count": 24,
   "metadata": {},
   "outputs": [],
   "source": [
    "beta_values = np.random.beta(2, 5, len(df))\n",
    "edad_minima = 15\n",
    "edad_maxima = 90\n",
    "ages = np.round(beta_values * (edad_maxima- edad_minima) + edad_minima)\n",
    "df['edad_cliente'] = ages.astype(int)"
   ]
  },
  {
   "cell_type": "code",
   "execution_count": 25,
   "metadata": {},
   "outputs": [],
   "source": [
    "df['numero_telefono'] = [fake.phone_number() for _ in range(len(df))]\n"
   ]
  },
  {
   "cell_type": "code",
   "execution_count": 26,
   "metadata": {},
   "outputs": [],
   "source": [
    "df['direccion_cliente'] = [unicodedata.normalize('NFKD', str(fake.address()).encode('ascii', 'ignore').decode('utf-8')) for _ in range(len(df))]\n"
   ]
  },
  {
   "cell_type": "code",
   "execution_count": 27,
   "metadata": {},
   "outputs": [],
   "source": [
    "df['trabajo_cliente'] = [str(fake.job()) for _ in range(len(df))]"
   ]
  },
  {
   "cell_type": "code",
   "execution_count": 28,
   "metadata": {},
   "outputs": [],
   "source": [
    "guesser = Detector()\n",
    "df['genero_cliente'] = [guesser.get_gender(nombre) for nombre in df['nombre_cliente']]\n"
   ]
  },
  {
   "cell_type": "code",
   "execution_count": 29,
   "metadata": {},
   "outputs": [],
   "source": [
    "df['genero_cliente'] = df['genero_cliente'].replace({\n",
    "    'male': 'hombre',\n",
    "    'female': 'mujer',\n",
    "    'unknown': 'desconocido',\n",
    "    'andy': 'desconocido',\n",
    "    'mostly_male': 'hombre',\n",
    "    'mostly_female': 'mujer'\n",
    "})"
   ]
  },
  {
   "cell_type": "code",
   "execution_count": 30,
   "metadata": {},
   "outputs": [],
   "source": [
    "df['fecha_registro'] = [fake.date_between(start_date=date(2023, 1, 1), end_date='today') for _ in range(len(df))]\n"
   ]
  },
  {
   "cell_type": "code",
   "execution_count": 31,
   "metadata": {},
   "outputs": [
    {
     "data": {
      "text/html": [
       "<div>\n",
       "<style scoped>\n",
       "    .dataframe tbody tr th:only-of-type {\n",
       "        vertical-align: middle;\n",
       "    }\n",
       "\n",
       "    .dataframe tbody tr th {\n",
       "        vertical-align: top;\n",
       "    }\n",
       "\n",
       "    .dataframe thead th {\n",
       "        text-align: right;\n",
       "    }\n",
       "</style>\n",
       "<table border=\"1\" class=\"dataframe\">\n",
       "  <thead>\n",
       "    <tr style=\"text-align: right;\">\n",
       "      <th></th>\n",
       "      <th>cliente_id</th>\n",
       "      <th>nombre_cliente</th>\n",
       "      <th>apellido_cliente</th>\n",
       "      <th>dni_cliente</th>\n",
       "      <th>email_cliente</th>\n",
       "      <th>edad_cliente</th>\n",
       "      <th>numero_telefono</th>\n",
       "      <th>direccion_cliente</th>\n",
       "      <th>trabajo_cliente</th>\n",
       "      <th>genero_cliente</th>\n",
       "      <th>fecha_registro</th>\n",
       "    </tr>\n",
       "  </thead>\n",
       "  <tbody>\n",
       "    <tr>\n",
       "      <th>0</th>\n",
       "      <td>1</td>\n",
       "      <td>Mayte</td>\n",
       "      <td>Hervia</td>\n",
       "      <td>16378221J</td>\n",
       "      <td>mayte.hervia@redhorn.com</td>\n",
       "      <td>39</td>\n",
       "      <td>+34 972 150 145</td>\n",
       "      <td>Calle Ruth Pea 40 Piso 3 \\nLa Rioja, 21626</td>\n",
       "      <td>Guardián de prisión</td>\n",
       "      <td>mujer</td>\n",
       "      <td>2023-02-14</td>\n",
       "    </tr>\n",
       "    <tr>\n",
       "      <th>1</th>\n",
       "      <td>2</td>\n",
       "      <td>Timoteo</td>\n",
       "      <td>Cisneros</td>\n",
       "      <td>70315544J</td>\n",
       "      <td>timoteo.cisneros@redhorn.com</td>\n",
       "      <td>24</td>\n",
       "      <td>+34 976442433</td>\n",
       "      <td>Pasaje de Valentina Benet 77 Piso 9 \\nLen, 45366</td>\n",
       "      <td>Mampostero</td>\n",
       "      <td>hombre</td>\n",
       "      <td>2023-12-11</td>\n",
       "    </tr>\n",
       "    <tr>\n",
       "      <th>2</th>\n",
       "      <td>3</td>\n",
       "      <td>Haydee</td>\n",
       "      <td>Alvarez</td>\n",
       "      <td>63010221L</td>\n",
       "      <td>haydee.alvarez@redhorn.com</td>\n",
       "      <td>36</td>\n",
       "      <td>+34842916745</td>\n",
       "      <td>Avenida de Marino Gibert 270 Piso 1 \\nJan, 03720</td>\n",
       "      <td>Declarante de aduana</td>\n",
       "      <td>mujer</td>\n",
       "      <td>2023-11-05</td>\n",
       "    </tr>\n",
       "    <tr>\n",
       "      <th>3</th>\n",
       "      <td>4</td>\n",
       "      <td>Martirio</td>\n",
       "      <td>Iniesta</td>\n",
       "      <td>11996524T</td>\n",
       "      <td>martirio.iniesta@redhorn.com</td>\n",
       "      <td>35</td>\n",
       "      <td>+34 921 78 05 60</td>\n",
       "      <td>Camino de Domingo Merino 34\\nPontevedra, 15421</td>\n",
       "      <td>Guardafrenos</td>\n",
       "      <td>hombre</td>\n",
       "      <td>2023-08-10</td>\n",
       "    </tr>\n",
       "    <tr>\n",
       "      <th>4</th>\n",
       "      <td>5</td>\n",
       "      <td>Conrado</td>\n",
       "      <td>Belmonte</td>\n",
       "      <td>86277092K</td>\n",
       "      <td>conrado.belmonte@redhorn.com</td>\n",
       "      <td>28</td>\n",
       "      <td>+34 987655388</td>\n",
       "      <td>Via de igo Dalmau 36\\nMlaga, 08333</td>\n",
       "      <td>Meteorólogo</td>\n",
       "      <td>hombre</td>\n",
       "      <td>2023-09-26</td>\n",
       "    </tr>\n",
       "  </tbody>\n",
       "</table>\n",
       "</div>"
      ],
      "text/plain": [
       "   cliente_id nombre_cliente apellido_cliente dni_cliente  \\\n",
       "0           1          Mayte           Hervia   16378221J   \n",
       "1           2        Timoteo         Cisneros   70315544J   \n",
       "2           3         Haydee          Alvarez   63010221L   \n",
       "3           4       Martirio          Iniesta   11996524T   \n",
       "4           5        Conrado         Belmonte   86277092K   \n",
       "\n",
       "                  email_cliente  edad_cliente   numero_telefono  \\\n",
       "0      mayte.hervia@redhorn.com            39   +34 972 150 145   \n",
       "1  timoteo.cisneros@redhorn.com            24     +34 976442433   \n",
       "2    haydee.alvarez@redhorn.com            36      +34842916745   \n",
       "3  martirio.iniesta@redhorn.com            35  +34 921 78 05 60   \n",
       "4  conrado.belmonte@redhorn.com            28     +34 987655388   \n",
       "\n",
       "                                  direccion_cliente       trabajo_cliente  \\\n",
       "0        Calle Ruth Pea 40 Piso 3 \\nLa Rioja, 21626   Guardián de prisión   \n",
       "1  Pasaje de Valentina Benet 77 Piso 9 \\nLen, 45366            Mampostero   \n",
       "2  Avenida de Marino Gibert 270 Piso 1 \\nJan, 03720  Declarante de aduana   \n",
       "3    Camino de Domingo Merino 34\\nPontevedra, 15421          Guardafrenos   \n",
       "4                Via de igo Dalmau 36\\nMlaga, 08333           Meteorólogo   \n",
       "\n",
       "  genero_cliente fecha_registro  \n",
       "0          mujer     2023-02-14  \n",
       "1         hombre     2023-12-11  \n",
       "2          mujer     2023-11-05  \n",
       "3         hombre     2023-08-10  \n",
       "4         hombre     2023-09-26  "
      ]
     },
     "execution_count": 31,
     "metadata": {},
     "output_type": "execute_result"
    }
   ],
   "source": [
    "df.head()"
   ]
  },
  {
   "cell_type": "code",
   "execution_count": 37,
   "metadata": {},
   "outputs": [],
   "source": [
    "from google.cloud import bigquery\n",
    "from pandas_gbq import to_gbq\n",
    "import pandas as pd\n",
    "df['fecha_registro'] = pd.to_datetime(df['fecha_registro'])\n",
    "\n",
    "schema = [\n",
    "    {'name': 'cliente_id', 'type': 'INTEGER'},\n",
    "    {'name': 'nombre_cliente', 'type': 'STRING'},\n",
    "    {'name': 'apellido_cliente', 'type': 'STRING'},\n",
    "    {'name': 'dni_cliente', 'type': 'STRING'},\n",
    "    {'name': 'email_cliente', 'type': 'STRING'},\n",
    "    {'name': 'edad_cliente', 'type': 'INTEGER'},\n",
    "    {'name': 'numero_telefono', 'type': 'STRING'},\n",
    "    {'name': 'direccion_cliente', 'type': 'STRING'},\n",
    "    {'name': 'trabajo_cliente', 'type': 'STRING'},\n",
    "    {'name': 'genero_cliente', 'type': 'STRING'},\n",
    "    {'name': 'fecha_registro', 'type': 'DATETIME'},\n",
    "]\n",
    "\n",
    "table_id = 'dataproject-2-413010.BBDD.tabla_clientes'\n",
    "\n",
    "client = bigquery.Client()\n",
    "\n",
    "to_gbq(df, destination_table=table_id, project_id='dataproject-2-413010', if_exists='replace', table_schema=schema)\n"
   ]
  }
 ],
 "metadata": {
  "kernelspec": {
   "display_name": "Python 3",
   "language": "python",
   "name": "python3"
  },
  "language_info": {
   "codemirror_mode": {
    "name": "ipython",
    "version": 3
   },
   "file_extension": ".py",
   "mimetype": "text/x-python",
   "name": "python",
   "nbconvert_exporter": "python",
   "pygments_lexer": "ipython3",
   "version": "3.11.5"
  }
 },
 "nbformat": 4,
 "nbformat_minor": 2
}
