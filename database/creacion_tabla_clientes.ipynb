{
 "cells": [
  {
   "cell_type": "code",
   "execution_count": 23,
   "metadata": {},
   "outputs": [],
   "source": [
    "import pandas as pd\n",
    "import numpy as np\n",
    "from faker import Faker\n",
    "import random\n",
    "import unicodedata\n",
    "import random\n",
    "\n",
    "fake = Faker('es_ES')"
   ]
  },
  {
   "cell_type": "code",
   "execution_count": 24,
   "metadata": {},
   "outputs": [],
   "source": [
    "df = pd.DataFrame()"
   ]
  },
  {
   "cell_type": "code",
   "execution_count": 25,
   "metadata": {},
   "outputs": [],
   "source": [
    "df['cliente_id'] = range(1, 100001)"
   ]
  },
  {
   "cell_type": "code",
   "execution_count": 26,
   "metadata": {},
   "outputs": [],
   "source": [
    "df['nombre_cliente'] = [unicodedata.normalize('NFKD', fake.first_name()).encode('ascii', 'ignore').decode('utf-8') for _ in range(len(df))]"
   ]
  },
  {
   "cell_type": "code",
   "execution_count": 27,
   "metadata": {},
   "outputs": [],
   "source": [
    "df['apellido_cliente'] = [unicodedata.normalize('NFKD', fake.last_name()).encode('ascii', 'ignore').decode('utf-8') for _ in range(len(df))]"
   ]
  },
  {
   "cell_type": "code",
   "execution_count": 28,
   "metadata": {},
   "outputs": [],
   "source": [
    "df['dni_cliente'] = [str(fake.nif()) for _ in range(len(df))]"
   ]
  },
  {
   "cell_type": "code",
   "execution_count": 29,
   "metadata": {},
   "outputs": [],
   "source": [
    "df['email_cliente'] = [fake.ascii_email() for _ in range(len(df))]"
   ]
  },
  {
   "cell_type": "code",
   "execution_count": 30,
   "metadata": {},
   "outputs": [],
   "source": [
    "beta_values = np.random.beta(2, 5)\n",
    "edad_minima = 15\n",
    "edad_maxima = 90\n",
    "df['edad_cliente'] = round(beta_values * (edad_maxima- edad_minima) + edad_minima)"
   ]
  },
  {
   "cell_type": "code",
   "execution_count": 31,
   "metadata": {},
   "outputs": [],
   "source": [
    "proporcion_hombres = 0.49\n",
    "proporcion_mujeres = 1 - proporcion_hombres\n",
    "df['genero_cliente'] = np.random.choice(['Hombre', 'Mujer'], p=[proporcion_hombres, proporcion_mujeres], size=len(df))\n"
   ]
  },
  {
   "cell_type": "code",
   "execution_count": 32,
   "metadata": {},
   "outputs": [
    {
     "data": {
      "text/html": [
       "<div>\n",
       "<style scoped>\n",
       "    .dataframe tbody tr th:only-of-type {\n",
       "        vertical-align: middle;\n",
       "    }\n",
       "\n",
       "    .dataframe tbody tr th {\n",
       "        vertical-align: top;\n",
       "    }\n",
       "\n",
       "    .dataframe thead th {\n",
       "        text-align: right;\n",
       "    }\n",
       "</style>\n",
       "<table border=\"1\" class=\"dataframe\">\n",
       "  <thead>\n",
       "    <tr style=\"text-align: right;\">\n",
       "      <th></th>\n",
       "      <th>cliente_id</th>\n",
       "      <th>nombre_cliente</th>\n",
       "      <th>apellido_cliente</th>\n",
       "      <th>dni_cliente</th>\n",
       "      <th>email_cliente</th>\n",
       "      <th>edad_cliente</th>\n",
       "      <th>genero_cliente</th>\n",
       "    </tr>\n",
       "  </thead>\n",
       "  <tbody>\n",
       "    <tr>\n",
       "      <th>0</th>\n",
       "      <td>1</td>\n",
       "      <td>Tamara</td>\n",
       "      <td>Giner</td>\n",
       "      <td>32235730B</td>\n",
       "      <td>belengarrido@hotmail.com</td>\n",
       "      <td>25</td>\n",
       "      <td>Hombre</td>\n",
       "    </tr>\n",
       "    <tr>\n",
       "      <th>1</th>\n",
       "      <td>2</td>\n",
       "      <td>Oriana</td>\n",
       "      <td>Pages</td>\n",
       "      <td>10284200A</td>\n",
       "      <td>mgarcia@yahoo.com</td>\n",
       "      <td>25</td>\n",
       "      <td>Hombre</td>\n",
       "    </tr>\n",
       "    <tr>\n",
       "      <th>2</th>\n",
       "      <td>3</td>\n",
       "      <td>Americo</td>\n",
       "      <td>Acevedo</td>\n",
       "      <td>70241924Q</td>\n",
       "      <td>adelardo24@hotmail.com</td>\n",
       "      <td>25</td>\n",
       "      <td>Mujer</td>\n",
       "    </tr>\n",
       "    <tr>\n",
       "      <th>3</th>\n",
       "      <td>4</td>\n",
       "      <td>Fortunato</td>\n",
       "      <td>Criado</td>\n",
       "      <td>92273805J</td>\n",
       "      <td>calixtasegovia@hotmail.com</td>\n",
       "      <td>25</td>\n",
       "      <td>Hombre</td>\n",
       "    </tr>\n",
       "    <tr>\n",
       "      <th>4</th>\n",
       "      <td>5</td>\n",
       "      <td>Maximiliano</td>\n",
       "      <td>Matas</td>\n",
       "      <td>13456635W</td>\n",
       "      <td>rjorda@fabrica.com</td>\n",
       "      <td>25</td>\n",
       "      <td>Hombre</td>\n",
       "    </tr>\n",
       "  </tbody>\n",
       "</table>\n",
       "</div>"
      ],
      "text/plain": [
       "   cliente_id nombre_cliente apellido_cliente dni_cliente  \\\n",
       "0           1         Tamara            Giner   32235730B   \n",
       "1           2         Oriana            Pages   10284200A   \n",
       "2           3        Americo          Acevedo   70241924Q   \n",
       "3           4      Fortunato           Criado   92273805J   \n",
       "4           5    Maximiliano            Matas   13456635W   \n",
       "\n",
       "                email_cliente  edad_cliente genero_cliente  \n",
       "0    belengarrido@hotmail.com            25         Hombre  \n",
       "1           mgarcia@yahoo.com            25         Hombre  \n",
       "2      adelardo24@hotmail.com            25          Mujer  \n",
       "3  calixtasegovia@hotmail.com            25         Hombre  \n",
       "4          rjorda@fabrica.com            25         Hombre  "
      ]
     },
     "execution_count": 32,
     "metadata": {},
     "output_type": "execute_result"
    }
   ],
   "source": [
    "df.head()"
   ]
  },
  {
   "cell_type": "code",
   "execution_count": 33,
   "metadata": {},
   "outputs": [],
   "source": [
    "from google.cloud import bigquery\n",
    "\n",
    "client = bigquery.Client()\n",
    "\n",
    "df.to_gbq('BBDD.tabla_clientes', project_id='dataproject-2-413010', if_exists='replace')"
   ]
  }
 ],
 "metadata": {
  "kernelspec": {
   "display_name": "Python 3",
   "language": "python",
   "name": "python3"
  },
  "language_info": {
   "codemirror_mode": {
    "name": "ipython",
    "version": 3
   },
   "file_extension": ".py",
   "mimetype": "text/x-python",
   "name": "python",
   "nbconvert_exporter": "python",
   "pygments_lexer": "ipython3",
   "version": "3.11.5"
  }
 },
 "nbformat": 4,
 "nbformat_minor": 2
}
