{
 "cells": [
  {
   "cell_type": "code",
   "execution_count": 24,
   "metadata": {},
   "outputs": [],
   "source": [
    "import pandas as pd\n",
    "import numpy as np\n",
    "from faker import Faker\n",
    "import random\n",
    "import unicodedata\n",
    "import random\n",
    "from gender_guesser.detector import Detector\n",
    "fake = Faker('es_ES')"
   ]
  },
  {
   "cell_type": "code",
   "execution_count": 25,
   "metadata": {},
   "outputs": [],
   "source": [
    "df = pd.DataFrame()"
   ]
  },
  {
   "cell_type": "code",
   "execution_count": 26,
   "metadata": {},
   "outputs": [],
   "source": [
    "df['cliente_id'] = range(1, 100001)"
   ]
  },
  {
   "cell_type": "code",
   "execution_count": 27,
   "metadata": {},
   "outputs": [],
   "source": [
    "df['nombre_cliente'] = [unicodedata.normalize('NFKD', fake.first_name()).encode('ascii', 'ignore').decode('utf-8') for _ in range(len(df))]"
   ]
  },
  {
   "cell_type": "code",
   "execution_count": 28,
   "metadata": {},
   "outputs": [],
   "source": [
    "df['apellido_cliente'] = [unicodedata.normalize('NFKD', fake.last_name()).encode('ascii', 'ignore').decode('utf-8') for _ in range(len(df))]"
   ]
  },
  {
   "cell_type": "code",
   "execution_count": 29,
   "metadata": {},
   "outputs": [],
   "source": [
    "df['dni_cliente'] = [str(fake.nif()) for _ in range(len(df))]"
   ]
  },
  {
   "cell_type": "code",
   "execution_count": 30,
   "metadata": {},
   "outputs": [],
   "source": [
    "df['email_cliente'] = [f\"{nombre.lower()}.{apellido.lower()}@redhorn.com\" for nombre, apellido in zip(df['nombre_cliente'], df['apellido_cliente'])]"
   ]
  },
  {
   "cell_type": "code",
   "execution_count": 31,
   "metadata": {},
   "outputs": [],
   "source": [
    "beta_values = np.random.beta(2, 5)\n",
    "edad_minima = 15\n",
    "edad_maxima = 90\n",
    "df['edad_cliente'] = round(beta_values * (edad_maxima- edad_minima) + edad_minima)"
   ]
  },
  {
   "cell_type": "code",
   "execution_count": 32,
   "metadata": {},
   "outputs": [],
   "source": [
    "guesser = Detector()\n",
    "df['genero_cliente'] = [guesser.get_gender(nombre) for nombre in df['nombre_cliente']]\n"
   ]
  },
  {
   "cell_type": "code",
   "execution_count": 33,
   "metadata": {},
   "outputs": [],
   "source": [
    "df['genero_cliente'] = df['genero_cliente'].replace({\n",
    "    'male': 'hombre',\n",
    "    'female': 'mujer',\n",
    "    'unknown': 'desconocido',\n",
    "    'andy': 'desconocido',\n",
    "    'mostly_male': 'hombre',\n",
    "    'mostly_female': 'mujer'\n",
    "})"
   ]
  },
  {
   "cell_type": "code",
   "execution_count": 34,
   "metadata": {},
   "outputs": [
    {
     "data": {
      "text/html": [
       "<div>\n",
       "<style scoped>\n",
       "    .dataframe tbody tr th:only-of-type {\n",
       "        vertical-align: middle;\n",
       "    }\n",
       "\n",
       "    .dataframe tbody tr th {\n",
       "        vertical-align: top;\n",
       "    }\n",
       "\n",
       "    .dataframe thead th {\n",
       "        text-align: right;\n",
       "    }\n",
       "</style>\n",
       "<table border=\"1\" class=\"dataframe\">\n",
       "  <thead>\n",
       "    <tr style=\"text-align: right;\">\n",
       "      <th></th>\n",
       "      <th>cliente_id</th>\n",
       "      <th>nombre_cliente</th>\n",
       "      <th>apellido_cliente</th>\n",
       "      <th>dni_cliente</th>\n",
       "      <th>email_cliente</th>\n",
       "      <th>edad_cliente</th>\n",
       "      <th>genero_cliente</th>\n",
       "    </tr>\n",
       "  </thead>\n",
       "  <tbody>\n",
       "    <tr>\n",
       "      <th>0</th>\n",
       "      <td>1</td>\n",
       "      <td>Maria Dolores</td>\n",
       "      <td>Carpio</td>\n",
       "      <td>79943370Q</td>\n",
       "      <td>maria dolores.carpio@redhorn.com</td>\n",
       "      <td>26</td>\n",
       "      <td>desconocido</td>\n",
       "    </tr>\n",
       "    <tr>\n",
       "      <th>1</th>\n",
       "      <td>2</td>\n",
       "      <td>Juan Bautista</td>\n",
       "      <td>Sans</td>\n",
       "      <td>80779122V</td>\n",
       "      <td>juan bautista.sans@redhorn.com</td>\n",
       "      <td>26</td>\n",
       "      <td>desconocido</td>\n",
       "    </tr>\n",
       "    <tr>\n",
       "      <th>2</th>\n",
       "      <td>3</td>\n",
       "      <td>Amando</td>\n",
       "      <td>Rossello</td>\n",
       "      <td>34090364V</td>\n",
       "      <td>amando.rossello@redhorn.com</td>\n",
       "      <td>26</td>\n",
       "      <td>hombre</td>\n",
       "    </tr>\n",
       "    <tr>\n",
       "      <th>3</th>\n",
       "      <td>4</td>\n",
       "      <td>Paca</td>\n",
       "      <td>Espada</td>\n",
       "      <td>04259364V</td>\n",
       "      <td>paca.espada@redhorn.com</td>\n",
       "      <td>26</td>\n",
       "      <td>mujer</td>\n",
       "    </tr>\n",
       "    <tr>\n",
       "      <th>4</th>\n",
       "      <td>5</td>\n",
       "      <td>Edu</td>\n",
       "      <td>Aparicio</td>\n",
       "      <td>54815561Y</td>\n",
       "      <td>edu.aparicio@redhorn.com</td>\n",
       "      <td>26</td>\n",
       "      <td>desconocido</td>\n",
       "    </tr>\n",
       "  </tbody>\n",
       "</table>\n",
       "</div>"
      ],
      "text/plain": [
       "   cliente_id nombre_cliente apellido_cliente dni_cliente  \\\n",
       "0           1  Maria Dolores           Carpio   79943370Q   \n",
       "1           2  Juan Bautista             Sans   80779122V   \n",
       "2           3         Amando         Rossello   34090364V   \n",
       "3           4           Paca           Espada   04259364V   \n",
       "4           5            Edu         Aparicio   54815561Y   \n",
       "\n",
       "                      email_cliente  edad_cliente genero_cliente  \n",
       "0  maria dolores.carpio@redhorn.com            26    desconocido  \n",
       "1    juan bautista.sans@redhorn.com            26    desconocido  \n",
       "2       amando.rossello@redhorn.com            26         hombre  \n",
       "3           paca.espada@redhorn.com            26          mujer  \n",
       "4          edu.aparicio@redhorn.com            26    desconocido  "
      ]
     },
     "execution_count": 34,
     "metadata": {},
     "output_type": "execute_result"
    }
   ],
   "source": [
    "df.head()"
   ]
  },
  {
   "cell_type": "code",
   "execution_count": 35,
   "metadata": {},
   "outputs": [],
   "source": [
    "from google.cloud import bigquery\n",
    "\n",
    "client = bigquery.Client()\n",
    "\n",
    "df.to_gbq('BBDD.tabla_clientes', project_id='dataproject-2-413010', if_exists='replace')"
   ]
  }
 ],
 "metadata": {
  "kernelspec": {
   "display_name": "Python 3",
   "language": "python",
   "name": "python3"
  },
  "language_info": {
   "codemirror_mode": {
    "name": "ipython",
    "version": 3
   },
   "file_extension": ".py",
   "mimetype": "text/x-python",
   "name": "python",
   "nbconvert_exporter": "python",
   "pygments_lexer": "ipython3",
   "version": "3.11.5"
  }
 },
 "nbformat": 4,
 "nbformat_minor": 2
}
